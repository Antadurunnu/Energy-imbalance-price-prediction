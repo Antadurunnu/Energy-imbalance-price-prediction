{
 "cells": [
  {
   "cell_type": "markdown",
   "id": "a1759e72",
   "metadata": {},
   "source": [
    "Load the big data file es_forecast.csv via vaex in memory-friendly chunks into several HDF5 files and store those in the directory data/es_forecast:"
   ]
  },
  {
   "cell_type": "code",
   "execution_count": 1,
   "id": "7e8cfe47",
   "metadata": {},
   "outputs": [],
   "source": [
    "# Main data packages. \n",
    "import numpy as np\n",
    "import pandas as pd\n",
    "\n",
    "import os, vaex\n",
    "from tqdm.notebook import tqdm\n",
    "\n",
    "import datetime"
   ]
  },
  {
   "cell_type": "code",
   "execution_count": 17,
   "id": "de61c6d6",
   "metadata": {},
   "outputs": [
    {
     "data": {
      "application/vnd.jupyter.widget-view+json": {
       "model_id": "5487923003e2496c94ff8f547a212fc6",
       "version_major": 2,
       "version_minor": 0
      },
      "text/plain": [
       "  0%|          | 0/185 [00:00<?, ?it/s]"
      ]
     },
     "metadata": {},
     "output_type": "display_data"
    },
    {
     "name": "stdout",
     "output_type": "stream",
     "text": [
      "# HDF5 Files in data/es_forecast: 185\n"
     ]
    }
   ],
   "source": [
    "\n",
    "\n",
    "# Read in the first two lines of data and store the data types\n",
    "# in a dictionary. \n",
    "df_first2 = vaex.from_csv('data/es_forecast.csv', nrows = 30)\n",
    "column_types = {name: (str(dtype.__name__) if isinstance(dtype, type) else 'float64') for name,dtype in df_first2.dtypes.to_dict().items()}\n",
    "\n",
    "# Create a new directory in the data folder that holds the \n",
    "# converted data chunks for further preprocessing.\n",
    "!mkdir data/es_forecast\n",
    "\n",
    "# Read in the data in memory-friendly chunks.\n",
    "# Export the data in the data format 'HDF5'.\n",
    "for i, df in tqdm(enumerate(vaex.from_csv('data/es_forecast.csv', chunk_size=200_000, dtype=column_types)), total=185):\n",
    "    df.export_hdf5(f'data/es_forecast/es_forecast_{i:02}.hdf5')\n",
    "    \n",
    "# Count the files exported.\n",
    "print( f\"# HDF5 Files in data/es_forecast: {len(os.listdir('data/es_forecast/'))}\")"
   ]
  },
  {
   "cell_type": "markdown",
   "id": "1bee3f6f",
   "metadata": {},
   "source": [
    "Check the folder size in data/es_forecast:"
   ]
  },
  {
   "cell_type": "code",
   "execution_count": 114,
   "id": "c985de73",
   "metadata": {},
   "outputs": [
    {
     "name": "stdout",
     "output_type": "stream",
     "text": [
      "du: data/es_forecast: No such file or directory\n"
     ]
    }
   ],
   "source": [
    "# Check the folder size.\n",
    "!du -h data/es_forecast"
   ]
  },
  {
   "cell_type": "code",
   "execution_count": 2,
   "id": "f0163815",
   "metadata": {},
   "outputs": [
    {
     "name": "stderr",
     "output_type": "stream",
     "text": [
      "ERROR:MainThread:vaex:error opening 'data/es_forecast/es_forecast*'\n"
     ]
    },
    {
     "ename": "OSError",
     "evalue": "Could not open file: data/es_forecast/es_forecast*, it does not exist",
     "output_type": "error",
     "traceback": [
      "\u001b[0;31m---------------------------------------------------------------------------\u001b[0m",
      "\u001b[0;31mOSError\u001b[0m                                   Traceback (most recent call last)",
      "\u001b[0;32m/var/folders/dp/wgbrj6qx075gd0851sxnt0800000gn/T/ipykernel_1574/932310814.py\u001b[0m in \u001b[0;36m<module>\u001b[0;34m\u001b[0m\n\u001b[1;32m      1\u001b[0m \u001b[0;31m# Import all .hdf5 chunks into a single dataset and\u001b[0m\u001b[0;34m\u001b[0m\u001b[0;34m\u001b[0m\u001b[0;34m\u001b[0m\u001b[0m\n\u001b[1;32m      2\u001b[0m \u001b[0;31m# export it to a single .hdf5 file we can work on\u001b[0m\u001b[0;34m\u001b[0m\u001b[0;34m\u001b[0m\u001b[0;34m\u001b[0m\u001b[0m\n\u001b[0;32m----> 3\u001b[0;31m \u001b[0mdf\u001b[0m \u001b[0;34m=\u001b[0m \u001b[0mvaex\u001b[0m\u001b[0;34m.\u001b[0m\u001b[0mopen\u001b[0m\u001b[0;34m(\u001b[0m\u001b[0;34m'data/es_forecast/es_forecast*'\u001b[0m\u001b[0;34m)\u001b[0m\u001b[0;34m\u001b[0m\u001b[0;34m\u001b[0m\u001b[0m\n\u001b[0m\u001b[1;32m      4\u001b[0m \u001b[0mdf\u001b[0m\u001b[0;34m.\u001b[0m\u001b[0mexport_hdf5\u001b[0m\u001b[0;34m(\u001b[0m\u001b[0;34m'data/es_forecast_aggregated.hdf5'\u001b[0m\u001b[0;34m)\u001b[0m\u001b[0;34m\u001b[0m\u001b[0;34m\u001b[0m\u001b[0m\n\u001b[1;32m      5\u001b[0m \u001b[0;34m\u001b[0m\u001b[0m\n",
      "\u001b[0;32m~/Desktop/Capstone-Project_DS/.venv/lib/python3.8/site-packages/vaex/__init__.py\u001b[0m in \u001b[0;36mopen\u001b[0;34m(path, convert, shuffle, copy_index, *args, **kwargs)\u001b[0m\n\u001b[1;32m    180\u001b[0m             \u001b[0mds\u001b[0m \u001b[0;34m=\u001b[0m \u001b[0;32mNone\u001b[0m\u001b[0;34m\u001b[0m\u001b[0;34m\u001b[0m\u001b[0m\n\u001b[1;32m    181\u001b[0m             \u001b[0;32mif\u001b[0m \u001b[0mlen\u001b[0m\u001b[0;34m(\u001b[0m\u001b[0mfilenames\u001b[0m\u001b[0;34m)\u001b[0m \u001b[0;34m==\u001b[0m \u001b[0;36m0\u001b[0m\u001b[0;34m:\u001b[0m\u001b[0;34m\u001b[0m\u001b[0;34m\u001b[0m\u001b[0m\n\u001b[0;32m--> 182\u001b[0;31m                 \u001b[0;32mraise\u001b[0m \u001b[0mIOError\u001b[0m\u001b[0;34m(\u001b[0m\u001b[0;34m'Could not open file: {}, it does not exist'\u001b[0m\u001b[0;34m.\u001b[0m\u001b[0mformat\u001b[0m\u001b[0;34m(\u001b[0m\u001b[0mpath\u001b[0m\u001b[0;34m)\u001b[0m\u001b[0;34m)\u001b[0m\u001b[0;34m\u001b[0m\u001b[0;34m\u001b[0m\u001b[0m\n\u001b[0m\u001b[1;32m    183\u001b[0m             \u001b[0mfilename_hdf5\u001b[0m \u001b[0;34m=\u001b[0m \u001b[0m_convert_name\u001b[0m\u001b[0;34m(\u001b[0m\u001b[0mfilenames\u001b[0m\u001b[0;34m,\u001b[0m \u001b[0mshuffle\u001b[0m\u001b[0;34m=\u001b[0m\u001b[0mshuffle\u001b[0m\u001b[0;34m)\u001b[0m\u001b[0;34m\u001b[0m\u001b[0;34m\u001b[0m\u001b[0m\n\u001b[1;32m    184\u001b[0m             \u001b[0mfilename_hdf5_noshuffle\u001b[0m \u001b[0;34m=\u001b[0m \u001b[0m_convert_name\u001b[0m\u001b[0;34m(\u001b[0m\u001b[0mfilenames\u001b[0m\u001b[0;34m,\u001b[0m \u001b[0mshuffle\u001b[0m\u001b[0;34m=\u001b[0m\u001b[0;32mFalse\u001b[0m\u001b[0;34m)\u001b[0m\u001b[0;34m\u001b[0m\u001b[0;34m\u001b[0m\u001b[0m\n",
      "\u001b[0;31mOSError\u001b[0m: Could not open file: data/es_forecast/es_forecast*, it does not exist"
     ]
    }
   ],
   "source": [
    "# Import all .hdf5 chunks into a single dataset and\n",
    "# export it to a single .hdf5 file we can work on\n",
    "df = vaex.open('data/es_forecast/es_forecast*')\n",
    "df.export_hdf5('data/es_forecast_aggregated.hdf5')\n",
    "\n",
    "# Remove the temporary file directory from the data \n",
    "# preprocessing step.\n",
    "!rm -r data/es_forecast"
   ]
  },
  {
   "cell_type": "code",
   "execution_count": 20,
   "id": "3bf9faed",
   "metadata": {},
   "outputs": [
    {
     "name": "stdout",
     "output_type": "stream",
     "text": [
      "Data dimensions: (36876431, 6)\n"
     ]
    }
   ],
   "source": [
    "# Open the HDF5 file and show the dimensions\n",
    "df = vaex.open('data/es_forecast_aggregated.hdf5')\n",
    "print(f'Data dimensions: {df.shape}')"
   ]
  },
  {
   "cell_type": "code",
   "execution_count": 21,
   "id": "1d95ab8f",
   "metadata": {},
   "outputs": [
    {
     "data": {
      "text/html": [
       "<table>\n",
       "<thead>\n",
       "<tr><th>#                             </th><th>dt_start_utc       </th><th>power_mw  </th><th>carrier      </th><th>type               </th><th>area   </th><th>version_utc        </th></tr>\n",
       "</thead>\n",
       "<tbody>\n",
       "<tr><td>&lt;i style=&#x27;opacity: 0.6&#x27;&gt;0&lt;/i&gt; </td><td>2016-12-31 23:00:00</td><td>6291.0    </td><td>Gesamt       </td><td>Load Forecast      </td><td>50Hertz</td><td>2019-09-20 14:00:00</td></tr>\n",
       "<tr><td>&lt;i style=&#x27;opacity: 0.6&#x27;&gt;1&lt;/i&gt; </td><td>2016-12-31 23:00:00</td><td>40241.0   </td><td>Gesamt       </td><td>Load Forecast      </td><td>DE     </td><td>2019-09-20 14:00:00</td></tr>\n",
       "<tr><td>&lt;i style=&#x27;opacity: 0.6&#x27;&gt;2&lt;/i&gt; </td><td>2016-12-31 23:00:00</td><td>2942.0    </td><td>Gesamt       </td><td>Load Forecast      </td><td>DK     </td><td>2019-09-20 14:00:00</td></tr>\n",
       "<tr><td>&lt;i style=&#x27;opacity: 0.6&#x27;&gt;3&lt;/i&gt; </td><td>2016-12-31 23:00:00</td><td>1572.0    </td><td>Gesamt       </td><td>Load Forecast      </td><td>DK1    </td><td>2019-09-20 14:00:00</td></tr>\n",
       "<tr><td>&lt;i style=&#x27;opacity: 0.6&#x27;&gt;4&lt;/i&gt; </td><td>2016-12-31 23:00:00</td><td>11971.0   </td><td>Gesamt       </td><td>Load Forecast      </td><td>TTG    </td><td>2019-09-20 14:00:00</td></tr>\n",
       "<tr><td>...                           </td><td>...                </td><td>...       </td><td>...          </td><td>...                </td><td>...    </td><td>...                </td></tr>\n",
       "<tr><td>&lt;i style=&#x27;opacity: 0.6&#x27;&gt;15&lt;/i&gt;</td><td>2016-12-31 23:00:00</td><td>331.0     </td><td>Wind Offshore</td><td>Renewables Forecast</td><td>50Hertz</td><td>2019-09-20 14:00:00</td></tr>\n",
       "<tr><td>&lt;i style=&#x27;opacity: 0.6&#x27;&gt;16&lt;/i&gt;</td><td>2016-12-31 23:00:00</td><td>3340.0    </td><td>Wind Offshore</td><td>Renewables Forecast</td><td>DE     </td><td>2019-09-20 14:00:00</td></tr>\n",
       "<tr><td>&lt;i style=&#x27;opacity: 0.6&#x27;&gt;17&lt;/i&gt;</td><td>2016-12-31 23:00:00</td><td>1004.0    </td><td>Wind Offshore</td><td>Renewables Forecast</td><td>DK     </td><td>2019-09-20 14:00:00</td></tr>\n",
       "<tr><td>&lt;i style=&#x27;opacity: 0.6&#x27;&gt;18&lt;/i&gt;</td><td>2016-12-31 23:00:00</td><td>652.0     </td><td>Wind Offshore</td><td>Renewables Forecast</td><td>DK1    </td><td>2019-09-20 14:00:00</td></tr>\n",
       "<tr><td>&lt;i style=&#x27;opacity: 0.6&#x27;&gt;19&lt;/i&gt;</td><td>2016-12-31 23:00:00</td><td>3009.0    </td><td>Wind Offshore</td><td>Renewables Forecast</td><td>TTG    </td><td>2019-09-20 14:00:00</td></tr>\n",
       "</tbody>\n",
       "</table>"
      ],
      "text/plain": [
       "#    dt_start_utc         power_mw    carrier        type                 area     version_utc\n",
       "0    2016-12-31 23:00:00  6291.0      Gesamt         Load Forecast        50Hertz  2019-09-20 14:00:00\n",
       "1    2016-12-31 23:00:00  40241.0     Gesamt         Load Forecast        DE       2019-09-20 14:00:00\n",
       "2    2016-12-31 23:00:00  2942.0      Gesamt         Load Forecast        DK       2019-09-20 14:00:00\n",
       "3    2016-12-31 23:00:00  1572.0      Gesamt         Load Forecast        DK1      2019-09-20 14:00:00\n",
       "4    2016-12-31 23:00:00  11971.0     Gesamt         Load Forecast        TTG      2019-09-20 14:00:00\n",
       "...  ...                  ...         ...            ...                  ...      ...\n",
       "15   2016-12-31 23:00:00  331.0       Wind Offshore  Renewables Forecast  50Hertz  2019-09-20 14:00:00\n",
       "16   2016-12-31 23:00:00  3340.0      Wind Offshore  Renewables Forecast  DE       2019-09-20 14:00:00\n",
       "17   2016-12-31 23:00:00  1004.0      Wind Offshore  Renewables Forecast  DK       2019-09-20 14:00:00\n",
       "18   2016-12-31 23:00:00  652.0       Wind Offshore  Renewables Forecast  DK1      2019-09-20 14:00:00\n",
       "19   2016-12-31 23:00:00  3009.0      Wind Offshore  Renewables Forecast  TTG      2019-09-20 14:00:00"
      ]
     },
     "execution_count": 21,
     "metadata": {},
     "output_type": "execute_result"
    }
   ],
   "source": [
    "# Preview the data\n",
    "df.head(20)"
   ]
  },
  {
   "cell_type": "code",
   "execution_count": 22,
   "id": "25de137f",
   "metadata": {},
   "outputs": [
    {
     "data": {
      "text/html": [
       "<div>\n",
       "<style scoped>\n",
       "    .dataframe tbody tr th:only-of-type {\n",
       "        vertical-align: middle;\n",
       "    }\n",
       "\n",
       "    .dataframe tbody tr th {\n",
       "        vertical-align: top;\n",
       "    }\n",
       "\n",
       "    .dataframe thead th {\n",
       "        text-align: right;\n",
       "    }\n",
       "</style>\n",
       "<table border=\"1\" class=\"dataframe\">\n",
       "  <thead>\n",
       "    <tr style=\"text-align: right;\">\n",
       "      <th></th>\n",
       "      <th>dt_start_utc</th>\n",
       "      <th>power_mw</th>\n",
       "      <th>carrier</th>\n",
       "      <th>type</th>\n",
       "      <th>area</th>\n",
       "      <th>version_utc</th>\n",
       "    </tr>\n",
       "  </thead>\n",
       "  <tbody>\n",
       "    <tr>\n",
       "      <th>dtype</th>\n",
       "      <td>str</td>\n",
       "      <td>float64</td>\n",
       "      <td>str</td>\n",
       "      <td>str</td>\n",
       "      <td>str</td>\n",
       "      <td>str</td>\n",
       "    </tr>\n",
       "    <tr>\n",
       "      <th>count</th>\n",
       "      <td>36876431</td>\n",
       "      <td>36876431</td>\n",
       "      <td>36876431</td>\n",
       "      <td>36876431</td>\n",
       "      <td>36876431</td>\n",
       "      <td>36876431</td>\n",
       "    </tr>\n",
       "    <tr>\n",
       "      <th>NA</th>\n",
       "      <td>0</td>\n",
       "      <td>0</td>\n",
       "      <td>0</td>\n",
       "      <td>0</td>\n",
       "      <td>0</td>\n",
       "      <td>0</td>\n",
       "    </tr>\n",
       "    <tr>\n",
       "      <th>mean</th>\n",
       "      <td>--</td>\n",
       "      <td>8283.930682527276</td>\n",
       "      <td>--</td>\n",
       "      <td>--</td>\n",
       "      <td>--</td>\n",
       "      <td>--</td>\n",
       "    </tr>\n",
       "    <tr>\n",
       "      <th>std</th>\n",
       "      <td>--</td>\n",
       "      <td>14112.233684</td>\n",
       "      <td>--</td>\n",
       "      <td>--</td>\n",
       "      <td>--</td>\n",
       "      <td>--</td>\n",
       "    </tr>\n",
       "    <tr>\n",
       "      <th>min</th>\n",
       "      <td>--</td>\n",
       "      <td>0.0</td>\n",
       "      <td>--</td>\n",
       "      <td>--</td>\n",
       "      <td>--</td>\n",
       "      <td>--</td>\n",
       "    </tr>\n",
       "    <tr>\n",
       "      <th>max</th>\n",
       "      <td>--</td>\n",
       "      <td>76393.0</td>\n",
       "      <td>--</td>\n",
       "      <td>--</td>\n",
       "      <td>--</td>\n",
       "      <td>--</td>\n",
       "    </tr>\n",
       "  </tbody>\n",
       "</table>\n",
       "</div>"
      ],
      "text/plain": [
       "      dt_start_utc           power_mw   carrier      type      area  \\\n",
       "dtype          str            float64       str       str       str   \n",
       "count     36876431           36876431  36876431  36876431  36876431   \n",
       "NA               0                  0         0         0         0   \n",
       "mean            --  8283.930682527276        --        --        --   \n",
       "std             --       14112.233684        --        --        --   \n",
       "min             --                0.0        --        --        --   \n",
       "max             --            76393.0        --        --        --   \n",
       "\n",
       "      version_utc  \n",
       "dtype         str  \n",
       "count    36876431  \n",
       "NA              0  \n",
       "mean           --  \n",
       "std            --  \n",
       "min            --  \n",
       "max            --  "
      ]
     },
     "execution_count": 22,
     "metadata": {},
     "output_type": "execute_result"
    }
   ],
   "source": [
    "# Show some summary statistics\n",
    "df.describe()"
   ]
  },
  {
   "cell_type": "markdown",
   "id": "d29780a4",
   "metadata": {},
   "source": [
    "# How to filter via utc timestamps in the hdf5 dataframe\n",
    "\n",
    "In order to filter via dates in the vaex df, you have to convert the information in the 'dt_start_utc' column to 'datetime64' and the define a filter variable (here: start_date) according to below code. At the beginning of the notebook you can see the necessary imports (import datetime to use the below code)."
   ]
  },
  {
   "cell_type": "code",
   "execution_count": 23,
   "id": "3844cfc3",
   "metadata": {},
   "outputs": [],
   "source": [
    "df['dt_start_utc']=df['dt_start_utc'].astype('datetime64')"
   ]
  },
  {
   "cell_type": "code",
   "execution_count": 24,
   "id": "d3363e3a",
   "metadata": {},
   "outputs": [],
   "source": [
    "start_date=np.datetime64('2018-01-01')\n",
    "df_date_filter2=df[(df.dt_start_utc >= start_date)]"
   ]
  },
  {
   "cell_type": "code",
   "execution_count": 25,
   "id": "ab0b26ab",
   "metadata": {},
   "outputs": [
    {
     "data": {
      "text/html": [
       "<table>\n",
       "<thead>\n",
       "<tr><th>#                             </th><th>dt_start_utc       </th><th>power_mw  </th><th>carrier      </th><th>type               </th><th>area   </th><th>version_utc        </th></tr>\n",
       "</thead>\n",
       "<tbody>\n",
       "<tr><td>&lt;i style=&#x27;opacity: 0.6&#x27;&gt;0&lt;/i&gt; </td><td>2020-08-28 06:00:00</td><td>524.0     </td><td>Wind Offshore</td><td>Renewables Forecast</td><td>DK1    </td><td>2020-08-28 20:01:46</td></tr>\n",
       "<tr><td>&lt;i style=&#x27;opacity: 0.6&#x27;&gt;1&lt;/i&gt; </td><td>2020-08-28 06:00:00</td><td>3798.0    </td><td>Wind Offshore</td><td>Renewables Forecast</td><td>TTG    </td><td>2020-08-27 16:02:00</td></tr>\n",
       "<tr><td>&lt;i style=&#x27;opacity: 0.6&#x27;&gt;2&lt;/i&gt; </td><td>2020-08-28 06:00:00</td><td>3798.0    </td><td>Wind Offshore</td><td>Renewables Forecast</td><td>TTG    </td><td>2020-08-27 17:02:17</td></tr>\n",
       "<tr><td>&lt;i style=&#x27;opacity: 0.6&#x27;&gt;3&lt;/i&gt; </td><td>2020-08-28 06:00:00</td><td>3798.0    </td><td>Wind Offshore</td><td>Renewables Forecast</td><td>TTG    </td><td>2020-08-27 18:01:50</td></tr>\n",
       "<tr><td>&lt;i style=&#x27;opacity: 0.6&#x27;&gt;4&lt;/i&gt; </td><td>2020-08-28 06:00:00</td><td>3798.0    </td><td>Wind Offshore</td><td>Renewables Forecast</td><td>TTG    </td><td>2020-08-27 19:01:49</td></tr>\n",
       "<tr><td>...                           </td><td>...                </td><td>...       </td><td>...          </td><td>...                </td><td>...    </td><td>...                </td></tr>\n",
       "<tr><td>&lt;i style=&#x27;opacity: 0.6&#x27;&gt;35&lt;/i&gt;</td><td>2020-08-28 06:00:00</td><td>4547.0    </td><td>Wind Onshore </td><td>Renewables Forecast</td><td>50Hertz</td><td>2020-08-27 21:01:44</td></tr>\n",
       "<tr><td>&lt;i style=&#x27;opacity: 0.6&#x27;&gt;36&lt;/i&gt;</td><td>2020-08-28 06:00:00</td><td>4547.0    </td><td>Wind Onshore </td><td>Renewables Forecast</td><td>50Hertz</td><td>2020-08-27 22:02:25</td></tr>\n",
       "<tr><td>&lt;i style=&#x27;opacity: 0.6&#x27;&gt;37&lt;/i&gt;</td><td>2020-08-28 06:00:00</td><td>4547.0    </td><td>Wind Onshore </td><td>Renewables Forecast</td><td>50Hertz</td><td>2020-08-27 23:01:56</td></tr>\n",
       "<tr><td>&lt;i style=&#x27;opacity: 0.6&#x27;&gt;38&lt;/i&gt;</td><td>2020-08-28 06:00:00</td><td>4547.0    </td><td>Wind Onshore </td><td>Renewables Forecast</td><td>50Hertz</td><td>2020-08-28 00:02:11</td></tr>\n",
       "<tr><td>&lt;i style=&#x27;opacity: 0.6&#x27;&gt;39&lt;/i&gt;</td><td>2020-08-28 06:00:00</td><td>4547.0    </td><td>Wind Onshore </td><td>Renewables Forecast</td><td>50Hertz</td><td>2020-08-28 01:01:56</td></tr>\n",
       "</tbody>\n",
       "</table>"
      ],
      "text/plain": [
       "#    dt_start_utc         power_mw    carrier        type                 area     version_utc\n",
       "0    2020-08-28 06:00:00  524.0       Wind Offshore  Renewables Forecast  DK1      2020-08-28 20:01:46\n",
       "1    2020-08-28 06:00:00  3798.0      Wind Offshore  Renewables Forecast  TTG      2020-08-27 16:02:00\n",
       "2    2020-08-28 06:00:00  3798.0      Wind Offshore  Renewables Forecast  TTG      2020-08-27 17:02:17\n",
       "3    2020-08-28 06:00:00  3798.0      Wind Offshore  Renewables Forecast  TTG      2020-08-27 18:01:50\n",
       "4    2020-08-28 06:00:00  3798.0      Wind Offshore  Renewables Forecast  TTG      2020-08-27 19:01:49\n",
       "...  ...                  ...         ...            ...                  ...      ...\n",
       "35   2020-08-28 06:00:00  4547.0      Wind Onshore   Renewables Forecast  50Hertz  2020-08-27 21:01:44\n",
       "36   2020-08-28 06:00:00  4547.0      Wind Onshore   Renewables Forecast  50Hertz  2020-08-27 22:02:25\n",
       "37   2020-08-28 06:00:00  4547.0      Wind Onshore   Renewables Forecast  50Hertz  2020-08-27 23:01:56\n",
       "38   2020-08-28 06:00:00  4547.0      Wind Onshore   Renewables Forecast  50Hertz  2020-08-28 00:02:11\n",
       "39   2020-08-28 06:00:00  4547.0      Wind Onshore   Renewables Forecast  50Hertz  2020-08-28 01:01:56"
      ]
     },
     "execution_count": 25,
     "metadata": {},
     "output_type": "execute_result"
    }
   ],
   "source": [
    "df_date_filter2.tail(40)"
   ]
  },
  {
   "cell_type": "code",
   "execution_count": 13,
   "id": "2b31be81",
   "metadata": {},
   "outputs": [
    {
     "data": {
      "text/html": [
       "<div>\n",
       "<style scoped>\n",
       "    .dataframe tbody tr th:only-of-type {\n",
       "        vertical-align: middle;\n",
       "    }\n",
       "\n",
       "    .dataframe tbody tr th {\n",
       "        vertical-align: top;\n",
       "    }\n",
       "\n",
       "    .dataframe thead th {\n",
       "        text-align: right;\n",
       "    }\n",
       "</style>\n",
       "<table border=\"1\" class=\"dataframe\">\n",
       "  <thead>\n",
       "    <tr style=\"text-align: right;\">\n",
       "      <th></th>\n",
       "      <th>dt_start_utc</th>\n",
       "      <th>power_mw</th>\n",
       "      <th>carrier</th>\n",
       "      <th>type</th>\n",
       "      <th>area</th>\n",
       "      <th>version_utc</th>\n",
       "    </tr>\n",
       "  </thead>\n",
       "  <tbody>\n",
       "    <tr>\n",
       "      <th>dtype</th>\n",
       "      <td>datetime64[s]</td>\n",
       "      <td>float64</td>\n",
       "      <td>str</td>\n",
       "      <td>str</td>\n",
       "      <td>str</td>\n",
       "      <td>str</td>\n",
       "    </tr>\n",
       "    <tr>\n",
       "      <th>count</th>\n",
       "      <td>36263209</td>\n",
       "      <td>36263209</td>\n",
       "      <td>36263209</td>\n",
       "      <td>36263209</td>\n",
       "      <td>36263209</td>\n",
       "      <td>36263209</td>\n",
       "    </tr>\n",
       "    <tr>\n",
       "      <th>NA</th>\n",
       "      <td>0</td>\n",
       "      <td>0</td>\n",
       "      <td>0</td>\n",
       "      <td>0</td>\n",
       "      <td>0</td>\n",
       "      <td>0</td>\n",
       "    </tr>\n",
       "    <tr>\n",
       "      <th>mean</th>\n",
       "      <td>2020-07-27T04:22:40</td>\n",
       "      <td>8305.525886498352</td>\n",
       "      <td>--</td>\n",
       "      <td>--</td>\n",
       "      <td>--</td>\n",
       "      <td>--</td>\n",
       "    </tr>\n",
       "    <tr>\n",
       "      <th>std</th>\n",
       "      <td>18789173.071796</td>\n",
       "      <td>14123.4004</td>\n",
       "      <td>--</td>\n",
       "      <td>--</td>\n",
       "      <td>--</td>\n",
       "      <td>--</td>\n",
       "    </tr>\n",
       "    <tr>\n",
       "      <th>min</th>\n",
       "      <td>2018-01-01T00:00:00</td>\n",
       "      <td>0.0</td>\n",
       "      <td>--</td>\n",
       "      <td>--</td>\n",
       "      <td>--</td>\n",
       "      <td>--</td>\n",
       "    </tr>\n",
       "    <tr>\n",
       "      <th>max</th>\n",
       "      <td>2021-07-14T21:45:36</td>\n",
       "      <td>76393.0</td>\n",
       "      <td>--</td>\n",
       "      <td>--</td>\n",
       "      <td>--</td>\n",
       "      <td>--</td>\n",
       "    </tr>\n",
       "  </tbody>\n",
       "</table>\n",
       "</div>"
      ],
      "text/plain": [
       "              dt_start_utc           power_mw   carrier      type      area  \\\n",
       "dtype        datetime64[s]            float64       str       str       str   \n",
       "count             36263209           36263209  36263209  36263209  36263209   \n",
       "NA                       0                  0         0         0         0   \n",
       "mean   2020-07-27T04:22:40  8305.525886498352        --        --        --   \n",
       "std        18789173.071796         14123.4004        --        --        --   \n",
       "min    2018-01-01T00:00:00                0.0        --        --        --   \n",
       "max    2021-07-14T21:45:36            76393.0        --        --        --   \n",
       "\n",
       "      version_utc  \n",
       "dtype         str  \n",
       "count    36263209  \n",
       "NA              0  \n",
       "mean           --  \n",
       "std            --  \n",
       "min            --  \n",
       "max            --  "
      ]
     },
     "execution_count": 13,
     "metadata": {},
     "output_type": "execute_result"
    }
   ],
   "source": [
    "df_date_filter2.describe()"
   ]
  },
  {
   "cell_type": "code",
   "execution_count": null,
   "id": "2d56b1be",
   "metadata": {},
   "outputs": [],
   "source": []
  }
 ],
 "metadata": {
  "kernelspec": {
   "display_name": "Python 3 (ipykernel)",
   "language": "python",
   "name": "python3"
  },
  "language_info": {
   "codemirror_mode": {
    "name": "ipython",
    "version": 3
   },
   "file_extension": ".py",
   "mimetype": "text/x-python",
   "name": "python",
   "nbconvert_exporter": "python",
   "pygments_lexer": "ipython3",
   "version": "3.8.5"
  }
 },
 "nbformat": 4,
 "nbformat_minor": 5
}
