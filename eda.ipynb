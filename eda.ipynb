{
 "cells": [
  {
   "cell_type": "markdown",
   "id": "ed7e6dd4",
   "metadata": {},
   "source": [
    "# EDA"
   ]
  },
  {
   "cell_type": "markdown",
   "id": "e4f5320e",
   "metadata": {},
   "source": [
    "## ane.energy data files"
   ]
  },
  {
   "cell_type": "code",
   "execution_count": 2,
   "id": "a158d8db",
   "metadata": {},
   "outputs": [],
   "source": [
    "import pandas as pd\n",
    "import vaex"
   ]
  },
  {
   "cell_type": "code",
   "execution_count": null,
   "id": "68832694",
   "metadata": {
    "tags": []
   },
   "outputs": [],
   "source": [
    "info = pd.DataFrame(data=[['crossborder_flows', \n",
    "                           'dt_start_utc, power_mw, from_country, to_country', \n",
    "                           '2016-12-31 23:00', '2019-09-20 02:00', '1h', \n",
    "                           'ac', (142816, 4), '6.6', \n",
    "                           '4h behind live data'],\n",
    "                          ['epex_da_de', \n",
    "                           'dt_start_utc, sechs_h_regelung, epex_da_de_eur_mwh', \n",
    "                           '2004-12-31 23:00', '2021-07-13 21:00', '1h', \n",
    "                           '?', (144911, 3), '4.7', \n",
    "                           ''],\n",
    "                          ['epex_da_prognosis', \n",
    "                           'predicted_at, predicted_for, prediction',\n",
    "                           '2018-12-26 23:00','2021-07-01 22:00','1h',\n",
    "                           'fc',(483097, 3),'24.4',''],\n",
    "                          ['es_forecast', \n",
    "                           'dt_start_utc, power_mw, carrier, type, area, version_utc',\n",
    "                           '2016-12-31 23:00','2020-02-13 23:45','15min',\n",
    "                           'fc',(36876431, 6),'2700',''],\n",
    "                          ['imbalance_de', \n",
    "                           'time, val1, val2',\n",
    "                           '2013-12-31 23:00','2021-04-29 23:45','15min',\n",
    "                           'ac',(257009, 3),'10.1',\n",
    "                           'end = last day fully covered; published for past month'],\n",
    "                          ['power_ac', \n",
    "                           'dt_start_utc, power_act_21, 24, 47, 84, 176, 179, 183, 196, 202, 206, 222, 233, 291, 292, 293, 308, 336',\n",
    "                           '2019-06-30 22:00','2021-04-30 23:45','15min',\n",
    "                           'ac',(64328,18),'5.1',\n",
    "                           'live data'],\n",
    "                          ['power_fc', \n",
    "                           'dt_start_utc, power_fc_21, 24, 47, 48, 51, 176, 179, 183, 196, 202, 206, 222, 233, 291, 292, 293, 308, 322, 325, 327, 336, 339',\n",
    "                           '2019-06-13 07:00','2021-04-30 23:45','15min',\n",
    "                           'fc',(66020, 23),'5.4',\n",
    "                           'meaning of timestamp unclear'],\n",
    "                          ['regelleistung_aggr', \n",
    "                           'date_start, date_end, product, reserve_type, 6 total capacity values, 7 German capacity values',\n",
    "                           '2019-01-01','2021-03-19','1d',\n",
    "                           'ac',(16068, 17),'1.5',\n",
    "                           'available for past month; date_start == date_end'],\n",
    "                          ['regelleistung_demand', \n",
    "                           'date_start, date_end, product, total_demand, germany_block_demand, reserve_type',\n",
    "                           '2019-01-01','2021-03-18','1d',\n",
    "                           'ac',(16188, 6),'0.7',\n",
    "                           'available for past month; date_start == date_end'],\n",
    "                          ['solar_mw', \n",
    "                           'dt_start_utc, fiftyhertz, tennet, amprion, transnetbw, nrv',\n",
    "                           '2011-12-31 23:00','2021-07-11 21:00','1h',\n",
    "                           'ac',(83519, 6),'3.6',\n",
    "                           'available for past month'],\n",
    "                          ['wind_offshore_mw', \n",
    "                           'dt_start_utc, fiftyhertz, tennet, sum',\n",
    "                           '2012-12-31 23:00','2021-07-11 21:00','1h',\n",
    "                           'ac',(74735, ),'4.4',\n",
    "                           'available for past month'],\n",
    "                          ['wind_onshore_mw', \n",
    "                           'dt_start_utc, fiftyhertz, tennet, amprion, transnetbw, nrv',\n",
    "                           '2011-12-31 23:00','2021-07-01 21:00','1h',\n",
    "                           'ac',(83278, 6),'5.5',\n",
    "                           'available for past month; meaning of values: 4 control zones + sum?'],\n",
    "                          ['wind_speed', \n",
    "                           'dt_start_utc, voronoi_area_id, windspeed',\n",
    "                           '2018-12-31 23:00','2020-09-30 23:45','15min','2h delay',(6548085, 3),'187.6','']\n",
    "                         ],\n",
    "                   columns=['filename', 'data', 'start', 'end', 'timestep', 'ac/fc', 'shape', 'filesize_MB', 'notes'])"
   ]
  },
  {
   "cell_type": "code",
   "execution_count": 4,
   "id": "89aed2e4",
   "metadata": {},
   "outputs": [],
   "source": [
    "info.to_csv('info.csv')"
   ]
  },
  {
   "cell_type": "markdown",
   "id": "2bde4888",
   "metadata": {},
   "source": [
    "### `imbalance_de`\n",
    "\n",
    "15min data only until 2021-04-30 21:45, after that only occasional data until 2021-05-22 22:00 (skipped latter)\n",
    "\n",
    "Actual imbalance power can be taken from \n",
    "- SMARD > Marktdaten > Oberkategorei: Systemstabilität > Datenkategorie Ausgleichsenergie > Land: Deutschland or \n",
    "- ENTSOE > Balancing > Imbalance > Germany\n",
    "\n",
    "(see below) with a delay of 1h (4 time steps)\n",
    "\n",
    "May alsom be updated from that source"
   ]
  },
  {
   "cell_type": "markdown",
   "id": "7ed3bd34",
   "metadata": {
    "tags": []
   },
   "source": [
    "### `es_forecast`\n",
    "\n",
    "turn into hdf5 format"
   ]
  },
  {
   "cell_type": "code",
   "execution_count": 5,
   "id": "6f0f79c8",
   "metadata": {},
   "outputs": [
    {
     "ename": "FileNotFoundError",
     "evalue": "[Errno 2] Failed to open local file 'data/es_forecast.csv'. Detail: [errno 2] No such file or directory",
     "output_type": "error",
     "traceback": [
      "\u001b[0;31m---------------------------------------------------------------------------\u001b[0m",
      "\u001b[0;31mFileNotFoundError\u001b[0m                         Traceback (most recent call last)",
      "\u001b[0;32m/var/folders/r8/_xxk8h1n691by9yx235l_y780000gn/T/ipykernel_643/2359822436.py\u001b[0m in \u001b[0;36m<module>\u001b[0;34m\u001b[0m\n\u001b[0;32m----> 1\u001b[0;31m \u001b[0mesf\u001b[0m \u001b[0;34m=\u001b[0m \u001b[0mvaex\u001b[0m\u001b[0;34m.\u001b[0m\u001b[0mfrom_csv\u001b[0m\u001b[0;34m(\u001b[0m\u001b[0;34m'data/es_forecast.csv'\u001b[0m\u001b[0;34m,\u001b[0m \u001b[0mnrows\u001b[0m \u001b[0;34m=\u001b[0m \u001b[0;36m30\u001b[0m\u001b[0;34m)\u001b[0m\u001b[0;34m\u001b[0m\u001b[0;34m\u001b[0m\u001b[0m\n\u001b[0m\u001b[1;32m      2\u001b[0m \u001b[0;32mfor\u001b[0m \u001b[0mi\u001b[0m\u001b[0;34m,\u001b[0m \u001b[0mdf\u001b[0m \u001b[0;32min\u001b[0m \u001b[0menumerate\u001b[0m\u001b[0;34m(\u001b[0m\u001b[0mvaex\u001b[0m\u001b[0;34m.\u001b[0m\u001b[0mfrom_csv\u001b[0m\u001b[0;34m(\u001b[0m\u001b[0;34m'data/es_forecast.csv'\u001b[0m\u001b[0;34m,\u001b[0m \u001b[0mchunk_size\u001b[0m\u001b[0;34m=\u001b[0m\u001b[0;36m100_000\u001b[0m\u001b[0;34m)\u001b[0m\u001b[0;34m)\u001b[0m\u001b[0;34m:\u001b[0m\u001b[0;34m\u001b[0m\u001b[0;34m\u001b[0m\u001b[0m\n\u001b[1;32m      3\u001b[0m     \u001b[0;32mif\u001b[0m \u001b[0mi\u001b[0m\u001b[0;34m%\u001b[0m\u001b[0;36m50\u001b[0m \u001b[0;34m==\u001b[0m \u001b[0;36m0\u001b[0m\u001b[0;34m:\u001b[0m \u001b[0mprint\u001b[0m\u001b[0;34m(\u001b[0m\u001b[0mi\u001b[0m\u001b[0;34m)\u001b[0m\u001b[0;34m\u001b[0m\u001b[0;34m\u001b[0m\u001b[0m\n\u001b[1;32m      4\u001b[0m     \u001b[0mdf\u001b[0m\u001b[0;34m.\u001b[0m\u001b[0mexport_hdf5\u001b[0m\u001b[0;34m(\u001b[0m\u001b[0;34mf'data/es_forecast/es_forecast_{i:02}.hdf5'\u001b[0m\u001b[0;34m)\u001b[0m\u001b[0;34m\u001b[0m\u001b[0;34m\u001b[0m\u001b[0m\n\u001b[1;32m      5\u001b[0m \u001b[0mdf\u001b[0m \u001b[0;34m=\u001b[0m \u001b[0mvaex\u001b[0m\u001b[0;34m.\u001b[0m\u001b[0mopen\u001b[0m\u001b[0;34m(\u001b[0m\u001b[0;34m'data/es_forecast/es_forecast*'\u001b[0m\u001b[0;34m)\u001b[0m\u001b[0;34m\u001b[0m\u001b[0;34m\u001b[0m\u001b[0m\n",
      "\u001b[0;32m~/neuefische/Capstone-Project/.venv/lib/python3.8/site-packages/vaex/__init__.py\u001b[0m in \u001b[0;36mfrom_csv\u001b[0;34m(filename_or_buffer, copy_index, chunk_size, convert, fs_options, fs, **kwargs)\u001b[0m\n\u001b[1;32m    522\u001b[0m     \"\"\"\n\u001b[1;32m    523\u001b[0m     \u001b[0;32mif\u001b[0m \u001b[0;32mnot\u001b[0m \u001b[0mconvert\u001b[0m\u001b[0;34m:\u001b[0m\u001b[0;34m\u001b[0m\u001b[0;34m\u001b[0m\u001b[0m\n\u001b[0;32m--> 524\u001b[0;31m         return _from_csv_read(filename_or_buffer=filename_or_buffer, copy_index=copy_index,\n\u001b[0m\u001b[1;32m    525\u001b[0m                               fs_options=fs_options, fs=fs, chunk_size=chunk_size, **kwargs)\n\u001b[1;32m    526\u001b[0m     \u001b[0;32melse\u001b[0m\u001b[0;34m:\u001b[0m\u001b[0;34m\u001b[0m\u001b[0;34m\u001b[0m\u001b[0m\n",
      "\u001b[0;32m~/neuefische/Capstone-Project/.venv/lib/python3.8/site-packages/vaex/__init__.py\u001b[0m in \u001b[0;36m_from_csv_read\u001b[0;34m(filename_or_buffer, copy_index, chunk_size, fs_options, fs, **kwargs)\u001b[0m\n\u001b[1;32m    543\u001b[0m     \u001b[0;32mimport\u001b[0m \u001b[0mpandas\u001b[0m \u001b[0;32mas\u001b[0m \u001b[0mpd\u001b[0m\u001b[0;34m\u001b[0m\u001b[0;34m\u001b[0m\u001b[0m\n\u001b[1;32m    544\u001b[0m     \u001b[0;32mif\u001b[0m \u001b[0;32mnot\u001b[0m \u001b[0mchunk_size\u001b[0m\u001b[0;34m:\u001b[0m\u001b[0;34m\u001b[0m\u001b[0;34m\u001b[0m\u001b[0m\n\u001b[0;32m--> 545\u001b[0;31m         \u001b[0;32mwith\u001b[0m \u001b[0mvaex\u001b[0m\u001b[0;34m.\u001b[0m\u001b[0mfile\u001b[0m\u001b[0;34m.\u001b[0m\u001b[0mopen\u001b[0m\u001b[0;34m(\u001b[0m\u001b[0mfilename_or_buffer\u001b[0m\u001b[0;34m,\u001b[0m \u001b[0mfs_options\u001b[0m\u001b[0;34m=\u001b[0m\u001b[0mfs_options\u001b[0m\u001b[0;34m,\u001b[0m \u001b[0mfs\u001b[0m\u001b[0;34m=\u001b[0m\u001b[0mfs\u001b[0m\u001b[0;34m,\u001b[0m \u001b[0mfor_arrow\u001b[0m\u001b[0;34m=\u001b[0m\u001b[0;32mTrue\u001b[0m\u001b[0;34m)\u001b[0m \u001b[0;32mas\u001b[0m \u001b[0mf\u001b[0m\u001b[0;34m:\u001b[0m\u001b[0;34m\u001b[0m\u001b[0;34m\u001b[0m\u001b[0m\n\u001b[0m\u001b[1;32m    546\u001b[0m             \u001b[0mfull_df\u001b[0m \u001b[0;34m=\u001b[0m \u001b[0mpd\u001b[0m\u001b[0;34m.\u001b[0m\u001b[0mread_csv\u001b[0m\u001b[0;34m(\u001b[0m\u001b[0mf\u001b[0m\u001b[0;34m,\u001b[0m \u001b[0;34m**\u001b[0m\u001b[0mkwargs\u001b[0m\u001b[0;34m)\u001b[0m\u001b[0;34m\u001b[0m\u001b[0;34m\u001b[0m\u001b[0m\n\u001b[1;32m    547\u001b[0m             \u001b[0;32mreturn\u001b[0m \u001b[0mfrom_pandas\u001b[0m\u001b[0;34m(\u001b[0m\u001b[0mfull_df\u001b[0m\u001b[0;34m,\u001b[0m \u001b[0mcopy_index\u001b[0m\u001b[0;34m=\u001b[0m\u001b[0mcopy_index\u001b[0m\u001b[0;34m)\u001b[0m\u001b[0;34m\u001b[0m\u001b[0;34m\u001b[0m\u001b[0m\n",
      "\u001b[0;32m~/neuefische/Capstone-Project/.venv/lib/python3.8/site-packages/vaex/file/__init__.py\u001b[0m in \u001b[0;36mopen\u001b[0;34m(path, mode, fs_options, fs, for_arrow, mmap, encoding)\u001b[0m\n\u001b[1;32m    267\u001b[0m                 \u001b[0;32mreturn\u001b[0m \u001b[0mpa\u001b[0m\u001b[0;34m.\u001b[0m\u001b[0mmemory_map\u001b[0m\u001b[0;34m(\u001b[0m\u001b[0mpath\u001b[0m\u001b[0;34m,\u001b[0m \u001b[0mmode\u001b[0m\u001b[0;34m)\u001b[0m\u001b[0;34m\u001b[0m\u001b[0;34m\u001b[0m\u001b[0m\n\u001b[1;32m    268\u001b[0m             \u001b[0;32melse\u001b[0m\u001b[0;34m:\u001b[0m\u001b[0;34m\u001b[0m\u001b[0;34m\u001b[0m\u001b[0m\n\u001b[0;32m--> 269\u001b[0;31m                 \u001b[0;32mreturn\u001b[0m \u001b[0mpa\u001b[0m\u001b[0;34m.\u001b[0m\u001b[0mOSFile\u001b[0m\u001b[0;34m(\u001b[0m\u001b[0mpath\u001b[0m\u001b[0;34m,\u001b[0m \u001b[0mmode\u001b[0m\u001b[0;34m)\u001b[0m\u001b[0;34m\u001b[0m\u001b[0;34m\u001b[0m\u001b[0m\n\u001b[0m\u001b[1;32m    270\u001b[0m         \u001b[0;32melse\u001b[0m\u001b[0;34m:\u001b[0m\u001b[0;34m\u001b[0m\u001b[0;34m\u001b[0m\u001b[0m\n\u001b[1;32m    271\u001b[0m             \u001b[0;32mif\u001b[0m \u001b[0;34m'b'\u001b[0m \u001b[0;32mnot\u001b[0m \u001b[0;32min\u001b[0m \u001b[0mmode\u001b[0m\u001b[0;34m:\u001b[0m\u001b[0;34m\u001b[0m\u001b[0;34m\u001b[0m\u001b[0m\n",
      "\u001b[0;32m~/neuefische/Capstone-Project/.venv/lib/python3.8/site-packages/pyarrow/io.pxi\u001b[0m in \u001b[0;36mpyarrow.lib.OSFile.__cinit__\u001b[0;34m()\u001b[0m\n",
      "\u001b[0;32m~/neuefische/Capstone-Project/.venv/lib/python3.8/site-packages/pyarrow/io.pxi\u001b[0m in \u001b[0;36mpyarrow.lib.OSFile._open_readable\u001b[0;34m()\u001b[0m\n",
      "\u001b[0;32m~/neuefische/Capstone-Project/.venv/lib/python3.8/site-packages/pyarrow/error.pxi\u001b[0m in \u001b[0;36mpyarrow.lib.pyarrow_internal_check_status\u001b[0;34m()\u001b[0m\n",
      "\u001b[0;32m~/neuefische/Capstone-Project/.venv/lib/python3.8/site-packages/pyarrow/error.pxi\u001b[0m in \u001b[0;36mpyarrow.lib.check_status\u001b[0;34m()\u001b[0m\n",
      "\u001b[0;31mFileNotFoundError\u001b[0m: [Errno 2] Failed to open local file 'data/es_forecast.csv'. Detail: [errno 2] No such file or directory"
     ]
    }
   ],
   "source": [
    "esf = vaex.from_csv('data/es_forecast.csv', nrows = 30)\n",
    "for i, df in enumerate(vaex.from_csv('data/es_forecast.csv', chunk_size=100_000)):\n",
    "    if i%50 == 0: print(i)\n",
    "    df.export_hdf5(f'data/es_forecast/es_forecast_{i:02}.hdf5')\n",
    "df = vaex.open('data/es_forecast/es_forecast*')\n",
    "df.export_hdf5('data/es_forecast.hdf5')"
   ]
  },
  {
   "cell_type": "markdown",
   "id": "c9a69d02",
   "metadata": {},
   "source": [
    "columns: `dt_start_utc`, `power_mw`, `carrier`, `type`, `area`, `version_utc`\n",
    "\n",
    "carrier.value_counts(): Gesamt 15896126, Wind Offshore 7010591, Solar 6993803, Wind Onshore 6975911, dtype int64\n",
    " \n",
    "type.value_counts(): Renewables Forecast 28033409, Load Forecast 8843022, dtype int64\n",
    "\n",
    "area.value_counts(): 50Hertz 10652224, TTG (=Tennet) 10608236, DE 10435444, DK1 2594607, DK 2585920, dtype int64\n",
    "\n",
    "split by carrier and type into ordinary pandas data frames, removed duplicates and inconsistent entries (different `power_mw` values for the same `dt_start_utc`, `carrier`, `type` and `area`), sorted the time stamps, and saved as csv files:"
   ]
  },
  {
   "cell_type": "code",
   "execution_count": null,
   "id": "49d4ea7a",
   "metadata": {},
   "outputs": [],
   "source": [
    "esf = vaex.open('data_raw/es_forecast.hdf5')\n",
    "esf['dt_start_utc'] = esf['dt_start_utc'].astype('datetime64')\n",
    "\n",
    "carriers = esf.carrier.unique()\n",
    "types = esf['type'].unique()\n",
    "\n",
    "for c in carriers:\n",
    "    for t in types:\n",
    "        print(c, t)\n",
    "        df = esf[esf.carrier == c][esf.type == t].to_pandas_df(['dt_start_utc', 'power_mw', \n",
    "                                                                'area', 'version_utc'])\n",
    "        df.drop_duplicates(subset=['dt_start_utc', 'area'], inplace=True)\n",
    "        if len(df) > 0:\n",
    "            df.sort_values('dt_start_utc', inplace=True)\n",
    "            df.set_index('dt_start_utc', inplace=True)\n",
    "            filename = c.replace(' ','_')\n",
    "            if c == 'Gesamt':\n",
    "                filename = 'total' + '_' + t[:t.find(' ')]\n",
    "            filename = 'es_fc_' + filename.lower()\n",
    "            print(filename, len(df))\n",
    "            df.to_csv('data_raw/'+filename+'.csv')"
   ]
  },
  {
   "cell_type": "markdown",
   "id": "a743fd94",
   "metadata": {},
   "source": [
    "After 2019-09-23, the `version_utc` time stamp is older than `dt_start_utc`. Therefore, we may assume that the values are always known at the time of prediction. So, we dropped `version_utc`, remove occasional further duplicates due to different forecasts (later on one may collect these forecasts into a dict or take the last one or ...) and casted each of these ordinary data frames into time series by means of cast function with method `column`, filled nans by method `ffill`\n",
    "\n",
    "written to files `es_fc_solar_ts`, `es_fc_wind_offshore_ts`, `es_fc_wind_onshore_ts`, `es_fc_total_renewables_ts`, `es_fc_total_load_ts`\n",
    "\n",
    "entries of `es_fc_total_load_ts` coincide with entries from solar, wind_offshore or wind_onshore at many places (146 000 from 158 000) but randomly chosen --> ignore"
   ]
  },
  {
   "cell_type": "markdown",
   "id": "fc0a6a1c",
   "metadata": {},
   "source": [
    "### `regelleistung_demand` and `regelleistung_aggr`\n",
    "\n",
    "Columns `date_start` and `date_end` have the same entries --> drop `date_end`\n",
    "\n",
    "Column `reserve_type` has values MRL (Minutenreserveleistung, Tertiärregelung) and SRL (Sekundärregelleistung). For MRL, `total_demand_mw` and `germany_block_demand_mw` have the same entries. For SRL, this holds until 2020-01-31, after that the difference first - second is 200, independent of `product`. --> turn into columns MRL, SRL_total, SRL_germany\n",
    "\n",
    "Column `product` contains `NEG_00_04` valid from 00:00 to 04:00, `NEG_04_08` valid from 04:00 to 08:00 etc and the same with `NEG` replaced by `POS`. Split accordingly so that `NEG` and `POS` combine with the remaining columns to 52 new columns and the timestamp runs in 4h steps: "
   ]
  },
  {
   "cell_type": "code",
   "execution_count": null,
   "id": "c1223e4e",
   "metadata": {
    "tags": []
   },
   "outputs": [],
   "source": [
    "filename = 'regelleistung_aggr'# and 'regelleistung_demand'\n",
    "df = pd.read_csv('data/'+filename+'_ts.csv')#, parse_dates=['dt_start_utc'])#.iloc[:1000]\n",
    "\n",
    "hours = ['00_04', '04_08', '08_12', '12_16', '16_20', '20_24']\n",
    "start = df.date_start.iloc[0]\n",
    "end = df.date_start.iloc[-1]\n",
    "dfl = []\n",
    "for hour in hours:\n",
    "    cols = [x for x in df.columns if hour in x]\n",
    "    dfi = df[['date_start'] + cols]\n",
    "    dfi['date_start'] = dfi.date_start + ' ' + hour[:2] + ':00:00'\n",
    "    dfi.rename(columns = {'date_start':'dt_start_utc'}, inplace=True)\n",
    "    dfi['dt_start_utc'] = dfi.dt_start_utc.astype('datetime64')\n",
    "    dfi.set_index('dt_start_utc', drop=True, inplace=True)\n",
    "    if hour != '00_04':\n",
    "        firstrow = pd.DataFrame(data=[[start+' 00:00:00'] + [0 for col in cols]], columns=['dt_start_utc']+cols)\n",
    "        firstrow['dt_start_utc'] = firstrow.dt_start_utc.astype('datetime64')\n",
    "        firstrow.set_index('dt_start_utc', drop=True, inplace=True)\n",
    "        dfi = pd.concat([firstrow, dfi], axis=0)\n",
    "    if hour != '20_24':\n",
    "        lastrow = pd.DataFrame(data=[[end+' 20:00:00'] + [0 for col in cols]], columns=['dt_start_utc']+cols)\n",
    "        lastrow['dt_start_utc'] = lastrow.dt_start_utc.astype('datetime64')\n",
    "        lastrow.set_index('dt_start_utc', drop=True, inplace=True)\n",
    "        dfi = pd.concat([dfi, lastrow], axis=0)\n",
    "    dfi.columns = [x.replace('NEG_'+hour, 'neg') for x in dfi.columns]\n",
    "    dfi.columns = [x.replace('POS_'+hour, 'pos') for x in dfi.columns]\n",
    "    dfi.columns = [x.lower() for x in dfi.columns]\n",
    "    dfl.append(dfi)\n",
    "\n",
    "dft = align(*dfl, value=0)\n",
    "\n",
    "cols = [x[2:] for x in dft.columns if '1_' in x]\n",
    "\n",
    "for col in cols:\n",
    "    nrcols = [str(i)+'_'+col for i in range(1,7)]\n",
    "    dft[col] = dft[nrcols].sum(axis=1)\n",
    "\n",
    "dft[cols].to_csv('data/'+filename+'_4h.csv')"
   ]
  },
  {
   "cell_type": "markdown",
   "id": "dbcc89cf",
   "metadata": {},
   "source": [
    "### `wind_speed`\n",
    "\n",
    "Does not contain any data for `voronoi_area_id = 3`.\n",
    "\n",
    "Casted into time series and filled missing values first forward then backward (the latter because there were areas without data at starting time).\n",
    "\n",
    "Note: the output of the cell the function `cast` was run in was partly missing. Yet the function seems to have processed all data properly. At least no data point was missing. Maybe run again in chunks of 1 000 000 and concatenate afterwards."
   ]
  },
  {
   "cell_type": "markdown",
   "id": "110f4e5e",
   "metadata": {
    "tags": []
   },
   "source": [
    "### `epex_da_prognosis`\n",
    "\n",
    "first changed dt_fc_utc into number of days in advance the prognosis was made\n",
    "\n",
    "```df['dt_fc_utc'] = (df.dt_start_utc.dt.date - df.dt_fc_utc.dt.date).astype('int')//86400000000000```\n",
    "\n",
    "then casted into a dictionary aggregated time series. \n",
    "\n",
    "Read off last and second last prognosis:"
   ]
  },
  {
   "cell_type": "code",
   "execution_count": null,
   "id": "edcd38eb",
   "metadata": {},
   "outputs": [],
   "source": [
    "df2 = pd.read_csv('data/epex_da_prognosis_ts.csv', parse_dates=True, index_col='dt_start_utc')\n",
    "df2['forecasts'] = [ast.literal_eval(x) for x in df2.da_price_eur_mwh]\n",
    "df2['newest_fc'] = [x[str(min(int(y) for y in x.keys()))] \n",
    "                    #if '1' in x.keys() \n",
    "                    #else x['2'] if '2' in x.keys() \n",
    "                    #else x['3'] if '3' in x.keys()                     \n",
    "                    #else None \n",
    "                    for x in df2.forecasts]\n",
    "df2['second_newest_fc'] = [x[sorted(x.keys())[1]] \n",
    "                    if len(x.keys()) > 1 else None\n",
    "                    #else x['2'] if '2' in x.keys() \n",
    "                    #else x['3'] if '3' in x.keys()                     \n",
    "                    #else None \n",
    "                    for x in df2.forecasts]\n",
    "\n",
    "df2.drop(['forecasts'], axis=1, inplace=True)"
   ]
  },
  {
   "cell_type": "markdown",
   "id": "dc08184c",
   "metadata": {},
   "source": [
    "### `crossborder_flows`\n",
    "\n",
    "available only after 4h and poorly correlated --> omit"
   ]
  },
  {
   "cell_type": "markdown",
   "id": "0682a66e",
   "metadata": {},
   "source": [
    "## SMARD data\n",
    "\n",
    "Source: https://www.smard.de/home/downloadcenter/download-marktdaten \n",
    "\n",
    "The time stamps are Central European Time (UTC+1h during winter time and UTC+2h during summer time). They have been transformed to UTC.\n",
    "\n",
    "The delays given here are estimates from occasional observation of the website. They may depend on daytime, and they may be longer in the night. (!) Have to be checked carefully; deadlines may be taken from https://www.smard.de/home/datennutzung; generally a workaround for the situation where life values are accidentally missing is needed.\n",
    "\n",
    "Reshaped via following routine (for the example of consumption_ac)."
   ]
  },
  {
   "cell_type": "code",
   "execution_count": null,
   "id": "5d265695",
   "metadata": {},
   "outputs": [],
   "source": [
    "def time2idx(df):\n",
    "    df['Datum'] = [x[6:]+'-'+x[3:5]+'-'+x[:2] for x in df.Datum]\n",
    "    df['dt_start_utc'] = df.Datum + ' ' + df.Uhrzeit\n",
    "    df['dt_start_utc'] = (df.Datum + ' ' + df.Uhrzeit).astype('datetime64')\n",
    "    df.set_index('dt_start_utc', inplace=True)\n",
    "    return df.drop(['Datum', 'Uhrzeit'], axis=1)"
   ]
  },
  {
   "cell_type": "code",
   "execution_count": null,
   "id": "7af2a8b1",
   "metadata": {},
   "outputs": [],
   "source": [
    "dfl = [time2idx(pd.read_csv('smard/consumption/consumption_ac/consumption_ac_2015.csv', sep=';')), \n",
    "       time2idx(pd.read_csv('smard/consumption/consumption_ac/consumption_ac_2016.csv', sep=';')), \n",
    "       time2idx(pd.read_csv('smard/consumption/consumption_ac/consumption_ac_2017.csv', sep=';')), \n",
    "       time2idx(pd.read_csv('smard/consumption/consumption_ac/consumption_ac_2018.csv', sep=';')), \n",
    "       time2idx(pd.read_csv('smard/consumption/consumption_ac/consumption_ac_2019.csv', sep=';')), \n",
    "       time2idx(pd.read_csv('smard/consumption/consumption_ac/consumption_ac_2020.csv', sep=';')), \n",
    "       time2idx(pd.read_csv('smard/consumption/consumption_ac/consumption_ac_2021.csv', sep=';'))\n",
    "      ]"
   ]
  },
  {
   "cell_type": "code",
   "execution_count": null,
   "id": "5bbe3d31",
   "metadata": {},
   "outputs": [],
   "source": [
    "for i in range(len(dfl)):\n",
    "    print(dfl[i].columns)"
   ]
  },
  {
   "cell_type": "code",
   "execution_count": null,
   "id": "a934ed7e",
   "metadata": {},
   "outputs": [],
   "source": [
    "for i in range(len(dfl)):\n",
    "    dfl[i].rename(columns={'Gesamt_(Netzlast)[MWh]_real_verb':'consumption_ac_mwh',\n",
    "                      'Residuallast[MWh]_real_verb':'residual_ac_mwh',\n",
    "                      'Pumpspeicher[MWh]_real_verb':'pump_storage_ac_mwh'\n",
    "                     }, inplace=True)"
   ]
  },
  {
   "cell_type": "code",
   "execution_count": null,
   "id": "f5d8456e",
   "metadata": {},
   "outputs": [],
   "source": [
    "df = pd.concat(dfl, axis=0)"
   ]
  },
  {
   "cell_type": "code",
   "execution_count": null,
   "id": "74df5a74",
   "metadata": {},
   "outputs": [],
   "source": [
    "df.to_csv('data/smard_consumption_ac.csv')"
   ]
  },
  {
   "cell_type": "markdown",
   "id": "577ad8b1",
   "metadata": {},
   "source": [
    "### `smard_generation_ac`\n",
    "\n",
    "Actual generation in Germany. \n",
    "\n",
    "Source: Oberkategorie: Stromerzeugung > Datenkategorie: Realisierte Erzeugung > Land: Deutschland\n",
    "\n",
    "Delay: 2h (8 time steps)\n",
    "\n",
    "Columns renamer:"
   ]
  },
  {
   "cell_type": "code",
   "execution_count": null,
   "id": "292071ca",
   "metadata": {
    "tags": []
   },
   "outputs": [],
   "source": [
    "for i in range(len(dfl)):\n",
    "    dfl[i].rename(columns={'Biomasse[MWh]_real_erzeugt':'gen_biomass_ac_mwh',\n",
    "                    'Wasserkraft[MWh]_real_erzeugt':'gen_waterpower_ac_mwh',\n",
    "                    'Wind Offshore[MWh]_real_erzeugt':'gen_wind_offshore_ac_mwh', \n",
    "                    'Wind Onshore[MWh]_real_erzeugt':'gen_wind_onshore_ac_mwh',\n",
    "                    'Photovoltaik[MWh]_real_erzeugt_real_erzeugt':'gen_solar_ac_mwh',\n",
    "                    'Sonstige Erneuerbare[MWh]_real_erzeugt':'gen_other_renewables_ac_mwh',\n",
    "                    'Kernenergie[MWh]_real_erzeugt':'gen_nuclear_ac_mwh', \n",
    "                    'Braunkohle[MWh]_real_erzeugt':'gen_lignite_ac_mwh',\n",
    "                    'Steinkohle[MWh]_real_erzeugt':'gen_anthracite_ac_mwh',\n",
    "                    'Erdgas[MWh]_real_erzeugt':'gen_gas_ac_mwh',\n",
    "                    'Pumpspeicher[MWh]_real_erzeugt':'gen_pumped_storage_ac_mwh',\n",
    "                    'Sonstige Konventionelle[MWh]_real_erzeugt':'gen_other_conventional_ac_mwh'\n",
    "                   }, inplace=True)"
   ]
  },
  {
   "cell_type": "markdown",
   "id": "833b9378",
   "metadata": {
    "tags": []
   },
   "source": [
    "### `smard_generation_fc`\n",
    "\n",
    "Prognosticated generation in Germany\n",
    "\n",
    "Source: Oberkategorie: Stromerzeugung > Datenkategorie: Prognostizierte Erzeugung > Land: Deutschland\n",
    "\n",
    "Delay: 0h\n",
    "\n",
    "Column renamer:"
   ]
  },
  {
   "cell_type": "markdown",
   "id": "2c903d40",
   "metadata": {},
   "source": [
    "### `smard_consumption_ac`\n",
    "\n",
    "Actual consumption in Germany\n",
    "\n",
    "Source: Oberkategorie: Stromverbrauch > Datenkategorie: Realisierter Stromverbrauch > Land: Deutschland\n",
    "\n",
    "Delay: 2h (8 time steps)\n",
    "\n",
    "Column renamer:"
   ]
  },
  {
   "cell_type": "code",
   "execution_count": null,
   "id": "2295c2bd",
   "metadata": {},
   "outputs": [],
   "source": [
    "for i in range(len(dfl)):\n",
    "    dfl[i].rename(columns={'Gesamt_(Netzlast)[MWh]_real_verb':'consumption_ac_mwh',\n",
    "                      'Residuallast[MWh]_real_verb':'residual_ac_mwh',\n",
    "                      'Pumpspeicher[MWh]_real_verb':'pump_storage_ac_mwh'\n",
    "                     }, inplace=True)"
   ]
  },
  {
   "cell_type": "markdown",
   "id": "bed659d8",
   "metadata": {
    "tags": []
   },
   "source": [
    "### `smard_consumption_fc`\n",
    "\n",
    "Prognosticated consumption in Germany\n",
    "\n",
    "Source: Oberkategorie: Stromverbrauch > Datenkategorie: Prognostizierter Stromverbrauch > Land: Deutschland\n",
    "\n",
    "Delay: 0h\n",
    "\n",
    "Column renamer:"
   ]
  },
  {
   "cell_type": "code",
   "execution_count": null,
   "id": "06ed5d0c",
   "metadata": {},
   "outputs": [],
   "source": [
    "for i in range(len(dfl)):\n",
    "    dfl[i].rename(columns={'Gesamt[MWh]_prog_verb':'consumption_fc_mwh',\n",
    "                           'Prognostizierte Residuallast[MWh]_prog_verb':'residual_fc_mwh'\n",
    "                          }, inplace=True)"
   ]
  },
  {
   "cell_type": "markdown",
   "id": "e21a02a6",
   "metadata": {},
   "source": [
    "### `smard_mrl`\n",
    "\n",
    "Minutenreserve\n",
    "\n",
    "Source: Oberkategorie: Systemstabilität > Datenkategorie: Minutenreserve > Land: Deutschland\n",
    "\n",
    "Delay: \n",
    "- 'mrl_energy_pos_mwh', 'mrl_energy_neg_mwh', mrl_energy_price_pos_eur_mwh', 'mrl_energy_price_neg_eur_mwh': unclear; assume 1h (4 time steps) like for `smard_srl`\n",
    "- 'mrl_capacity_pos_mwh', 'mrl_capacity_neg_mwh', 'mrl_capacity_price_pos_eur_mwh', 'mrl_capacity_price_neg_eur_mwh': 0h\n",
    "                           \n",
    "Column renamer:"
   ]
  },
  {
   "cell_type": "code",
   "execution_count": null,
   "id": "93194356",
   "metadata": {},
   "outputs": [],
   "source": [
    "for i in range(len(dfl)):\n",
    "    dfl[i].rename(columns={'Abgerufene Menge (+)[MWh]_min_res':'mrl_energy_pos_mwh',\n",
    "                           'Abgerufene Menge (-)[MWh]_min_res':'mrl_energy_neg_mwh',\n",
    "                           'Arbeitspreis (+)[€/MWh]_min_res':'mrl_energy_price_pos_eur_mwh',\n",
    "                           'Arbeitspreis (-)[€/MWh]_min_res':'mrl_energy_price_neg_eur_mwh',\n",
    "                           'Vorgehaltene Menge (+)[MW]_min_res':'mrl_capacity_pos_mwh',\n",
    "                           'Vorgehaltene Menge (-)[MW]_min_res':'mrl_capacity_neg_mwh',\n",
    "                           'Leistungspreis (+)[€/MW]_min_res':'mrl_capacity_price_pos_eur_mwh',\n",
    "                           'Leistungspreis (-)[€/MW]_min_res':'mrl_capacity_price_neg_eur_mwh'\n",
    "                          }, inplace=True)"
   ]
  },
  {
   "cell_type": "markdown",
   "id": "66a71bc1",
   "metadata": {},
   "source": [
    "### `smard_prl`\n",
    "\n",
    "Primärregelreserve\n",
    "\n",
    "Source: Oberkategorie: Systemstabilität > Datenkategorie: Primärregelreserve > Land: Deutschland\n",
    "\n",
    "Delay: 0h\n",
    "\n",
    "Column renamer:"
   ]
  },
  {
   "cell_type": "markdown",
   "id": "d6db988d",
   "metadata": {},
   "source": [
    "### `smard_srl`\n",
    "\n",
    "Sekundärregelreserve\n",
    "\n",
    "Source: Oberkategorie: Systemstabilität > Datenkategorie: Sekundärregelreserve > Land: Deutschland\n",
    "\n",
    "Delay: \n",
    "- 'srl_energy_pos_mwh', 'srl_energy_neg_mwh', 'srl_energy_price_pos_eur_mwh', 'srl_energy_price_neg_eur_mwh': 1h (4 time steps)\n",
    "- 'srl_capacity_pos_mwh', 'srl_capacity_neg_mwh', 'srl_capacity_price_pos_eur_mwh', 'srl_capacity_price_neg_eur_mwh': 0h"
   ]
  },
  {
   "cell_type": "code",
   "execution_count": null,
   "id": "60f69862",
   "metadata": {},
   "outputs": [],
   "source": [
    "for i in range(len(dfl)):\n",
    "    dfl[i].rename(columns={'Abgerufene Menge (+)[MWh]_sek_rresv':'srl_energy_pos_mwh',\n",
    "                           'Abgerufene Menge (-)[MWh]_sek_rresv':'srl_energy_neg_mwh',\n",
    "                           'Arbeitspreis (+)[€/MWh]_sek_rresv':'srl_energy_price_pos_eur_mwh',\n",
    "                           'Arbeitspreis (-)[€/MWh]_sek_rresv':'srl_energy_price_neg_eur_mwh',\n",
    "                           'Vorgehaltene Menge (+)[MW]_sek_rresv':'srl_capacity_pos_mwh',\n",
    "                           'Vorgehaltene Menge (-)[MW]_sek_rresv':'srl_capacity_neg_mwh',\n",
    "                           'Leistungspreis (+)[€/MW]_sek_rresv':'srl_capacity_price_pos_eur_mwh',\n",
    "                           'Leistungspreis (-)[€/MW]_sek_rresv':'srl_capacity_price_neg_eur_mwh'\n",
    "                          }, inplace=True)"
   ]
  },
  {
   "cell_type": "markdown",
   "id": "276e2b15",
   "metadata": {},
   "source": [
    "### `imbalance_at`\n",
    "\n",
    "same as `entsoe_imbalance_at`\n",
    "\n",
    "Source: Oberkategorie: Systemstabilität > Datenkategorie: Ausgleichsenergie > Land: Österreich\n",
    "\n",
    "Delay: 2.5h (10 time steps)\n",
    "\n",
    "Combined from `imbalance_export_at` and `imbalance_import_at` via"
   ]
  },
  {
   "cell_type": "code",
   "execution_count": null,
   "id": "0565a053",
   "metadata": {
    "tags": []
   },
   "outputs": [],
   "source": [
    "for i in range(len(dfl)):\n",
    "    dfl[i].rename(columns={'Österreich[MWh]_exp_regel':'imbalance_export_at_mwh'\n",
    "                     }, inplace=True)"
   ]
  },
  {
   "cell_type": "code",
   "execution_count": 274,
   "id": "faead525",
   "metadata": {},
   "outputs": [],
   "source": [
    "dfl = [time2idx(pd.read_csv('data_raw/smard/stability/imbalance_export_at/imbalance_export_at_2016.csv', sep=';')), \n",
    "       time2idx(pd.read_csv('data_raw/smard/stability/imbalance_export_at/imbalance_export_at_2017_2018.csv', sep=';')), \n",
    "       time2idx(pd.read_csv('data_raw/smard/stability/imbalance_export_at/imbalance_export_at_2019_2020.csv', sep=';')), \n",
    "       time2idx(pd.read_csv('data_raw/smard/stability/imbalance_export_at/imbalance_export_at_2021.csv', sep=';')), \n",
    "      ]"
   ]
  },
  {
   "cell_type": "code",
   "execution_count": 275,
   "id": "8d483441",
   "metadata": {},
   "outputs": [
    {
     "name": "stdout",
     "output_type": "stream",
     "text": [
      "Index(['Österreich[MWh]_exp_regel'], dtype='object')\n",
      "Index(['Österreich[MWh]_exp_regel'], dtype='object')\n",
      "Index(['Österreich[MWh]_exp_regel'], dtype='object')\n",
      "Index(['Österreich[MWh]_exp_regel'], dtype='object')\n"
     ]
    }
   ],
   "source": [
    "for i in range(len(dfl)):\n",
    "    print(dfl[i].columns)"
   ]
  },
  {
   "cell_type": "code",
   "execution_count": 276,
   "id": "03ce8ccb",
   "metadata": {},
   "outputs": [],
   "source": [
    "for i in range(len(dfl)):\n",
    "    dfl[i].rename(columns={'Österreich[MWh]_exp_regel':'imbalance_export_at_mwh'\n",
    "                     }, inplace=True)"
   ]
  },
  {
   "cell_type": "code",
   "execution_count": 277,
   "id": "748f72ed",
   "metadata": {},
   "outputs": [],
   "source": [
    "df1 = pd.concat(dfl, axis=0)"
   ]
  },
  {
   "cell_type": "code",
   "execution_count": 279,
   "id": "8e5de9ca",
   "metadata": {},
   "outputs": [
    {
     "name": "stdout",
     "output_type": "stream",
     "text": [
      "Index(['Österreich[MWh]_imp_regel'], dtype='object')\n",
      "Index(['Österreich[MWh]_imp_regel'], dtype='object')\n",
      "Index(['Österreich[MWh]_imp_regel'], dtype='object')\n",
      "Index(['Österreich[MWh]_imp_regel'], dtype='object')\n"
     ]
    }
   ],
   "source": [
    "for i in range(len(dfl)):\n",
    "    print(dfl[i].columns)"
   ]
  },
  {
   "cell_type": "code",
   "execution_count": 280,
   "id": "f547d1c0",
   "metadata": {},
   "outputs": [],
   "source": [
    "for i in range(len(dfl)):\n",
    "    dfl[i].rename(columns={'Österreich[MWh]_imp_regel':'imbalance_import_at_mwh'\n",
    "                     }, inplace=True)"
   ]
  },
  {
   "cell_type": "code",
   "execution_count": 281,
   "id": "b4f3ef5a",
   "metadata": {},
   "outputs": [],
   "source": [
    "df2 = pd.concat(dfl, axis=0)"
   ]
  },
  {
   "cell_type": "code",
   "execution_count": 282,
   "id": "7c594df4",
   "metadata": {},
   "outputs": [],
   "source": [
    "df = align(df1, df2, prefixes=('',''))"
   ]
  },
  {
   "cell_type": "code",
   "execution_count": 283,
   "id": "61351636",
   "metadata": {},
   "outputs": [],
   "source": [
    "df.to_csv('data/smard_imbalance_at.csv')"
   ]
  },
  {
   "cell_type": "markdown",
   "id": "d2f204d8",
   "metadata": {
    "tags": []
   },
   "source": [
    "## ENTSOE data\n",
    "\n",
    "From https://transparency.entsoe.eu > Balancing > Imbalance"
   ]
  },
  {
   "cell_type": "code",
   "execution_count": 278,
   "id": "e9b5c291",
   "metadata": {},
   "outputs": [],
   "source": [
    "dfl = [time2idx(pd.read_csv('data_raw/smard/stability/imbalance_import_at/imbalance_import_at_2016.csv', sep=';')), \n",
    "       time2idx(pd.read_csv('data_raw/smard/stability/imbalance_import_at/imbalance_import_at_2017_2018.csv', sep=';')), \n",
    "       time2idx(pd.read_csv('data_raw/smard/stability/imbalance_import_at/imbalance_import_at_2019_2020.csv', sep=';')), \n",
    "       time2idx(pd.read_csv('data_raw/smard/stability/imbalance_import_at/imbalance_import_at_2021.csv', sep=';')), \n",
    "      ]"
   ]
  },
  {
   "cell_type": "markdown",
   "id": "d9bb3937",
   "metadata": {},
   "source": [
    "Timestamp correction due to forgotten option dayfirst=True (example pl):"
   ]
  },
  {
   "cell_type": "code",
   "execution_count": 6,
   "id": "1fdce90c",
   "metadata": {},
   "outputs": [],
   "source": [
    "country = 'pl'\n",
    "df = pd.read_csv('data/entsoe_imbalance_'+country+'.csv')\n",
    "df.rename(columns = {'dt_start_utc':'old'}, inplace=True)\n",
    "df['new'] = [x[:4]+'-'+x[8:10]+'-'+x[5:7]+x[10:] for x in df.old]\n",
    "df['dt_start_utc'] = [0 for x in df.index]\n",
    "for idx in df.index:\n",
    "    try: df['dt_start_utc'][idx] = pd.to_datetime(df.new[idx])\n",
    "    except: df['dt_start_utc'][idx] = pd.to_datetime(df.old[idx])\n",
    "df.drop(['old', 'new'], axis=1, inplace=True)\n",
    "df.set_index('dt_start_utc', inplace=True)\n",
    "df.to_csv('data/entsoe_imbalance_'+country+'.csv')"
   ]
  },
  {
   "cell_type": "markdown",
   "id": "e5348fbd",
   "metadata": {},
   "source": [
    "### `imbalance_at`\n",
    "\n",
    "Same as `smard_imbalance_at`\n",
    "\n",
    "\n",
    "Delay: 2.5h (10 time steps)\n",
    "\n",
    "Preparation:"
   ]
  },
  {
   "cell_type": "code",
   "execution_count": 132,
   "id": "91ff708d",
   "metadata": {},
   "outputs": [],
   "source": [
    "df = pd.read_csv('entsoe/imbalance_at.csv', parse_dates=['dt_start_utc'], index_col='dt_start_utc')"
   ]
  },
  {
   "cell_type": "code",
   "execution_count": 119,
   "id": "97db71a8",
   "metadata": {},
   "outputs": [
    {
     "name": "stdout",
     "output_type": "stream",
     "text": [
      "Index(['+ Imbalance Price [EUR/MWh] - SCA|BE',\n",
      "       '- Imbalance Price [EUR/MWh] - SCA|BE', 'Status',\n",
      "       'Total Imbalance [MWh] - SCA|BE', 'Difference', 'Situation',\n",
      "       'Status.1'],\n",
      "      dtype='object')\n"
     ]
    }
   ],
   "source": [
    "print(df.columns)"
   ]
  },
  {
   "cell_type": "code",
   "execution_count": 133,
   "id": "0cc4ae71",
   "metadata": {},
   "outputs": [
    {
     "data": {
      "text/plain": [
       "True    20089\n",
       "dtype: int64"
      ]
     },
     "execution_count": 133,
     "metadata": {},
     "output_type": "execute_result"
    }
   ],
   "source": [
    "(df['+ Imbalance Price [EUR/MWh] - SCA|AT']==df['- Imbalance Price [EUR/MWh] - SCA|AT']).value_counts()"
   ]
  },
  {
   "cell_type": "code",
   "execution_count": 134,
   "id": "972f5c4c",
   "metadata": {},
   "outputs": [],
   "source": [
    "df.drop(['Status.1', '- Imbalance Price [EUR/MWh] - SCA|AT', 'Difference'], axis=1, inplace=True)"
   ]
  },
  {
   "cell_type": "code",
   "execution_count": 135,
   "id": "a8e6b4c4",
   "metadata": {
    "tags": []
   },
   "outputs": [],
   "source": [
    "df.rename(columns={'+ Imbalance Price [EUR/MWh] - SCA|AT':'rebap_at_eur_mwh', \n",
    "                   'Total Imbalance [MWh] - SCA|AT':'imbalance_power_at_mwh', \n",
    "                   'Status':'status',\n",
    "                   'Situation':'sign',\n",
    "                     }, inplace=True)"
   ]
  },
  {
   "cell_type": "code",
   "execution_count": 136,
   "id": "cdfe6367",
   "metadata": {},
   "outputs": [],
   "source": [
    "df['sign'] = [-1 if x=='Deficit' else 1 for x in df.sign]\n",
    "df['imbalance_power_at_mwh'] = df.imbalance_power_at_mwh * df.sign\n",
    "df.drop('sign', axis=1, inplace=True)"
   ]
  },
  {
   "cell_type": "code",
   "execution_count": 138,
   "id": "ea99c13f",
   "metadata": {
    "tags": []
   },
   "outputs": [],
   "source": [
    "df.to_csv('data/entsoe_imbalance_at.csv')"
   ]
  },
  {
   "cell_type": "markdown",
   "id": "8ce77fac",
   "metadata": {},
   "source": [
    "## `imbalance_be`\n",
    "\n",
    "Delay: 2h (8 time steps)\n",
    "\n",
    "Preparation:"
   ]
  },
  {
   "cell_type": "code",
   "execution_count": 125,
   "id": "a3b5583d",
   "metadata": {},
   "outputs": [],
   "source": [
    "df = pd.read_csv('entsoe/imbalance_be.csv', parse_dates=['dt_start_utc'], index_col='dt_start_utc')"
   ]
  },
  {
   "cell_type": "code",
   "execution_count": 119,
   "id": "9c1da176",
   "metadata": {},
   "outputs": [
    {
     "name": "stdout",
     "output_type": "stream",
     "text": [
      "Index(['+ Imbalance Price [EUR/MWh] - SCA|BE',\n",
      "       '- Imbalance Price [EUR/MWh] - SCA|BE', 'Status',\n",
      "       'Total Imbalance [MWh] - SCA|BE', 'Difference', 'Situation',\n",
      "       'Status.1'],\n",
      "      dtype='object')\n"
     ]
    }
   ],
   "source": [
    "print(df.columns)"
   ]
  },
  {
   "cell_type": "code",
   "execution_count": 120,
   "id": "bbea4040",
   "metadata": {},
   "outputs": [
    {
     "data": {
      "text/plain": [
       "True    20114\n",
       "dtype: int64"
      ]
     },
     "execution_count": 120,
     "metadata": {},
     "output_type": "execute_result"
    }
   ],
   "source": [
    "(df['+ Imbalance Price [EUR/MWh] - SCA|BE']==df['- Imbalance Price [EUR/MWh] - SCA|BE']).value_counts()"
   ]
  },
  {
   "cell_type": "code",
   "execution_count": 126,
   "id": "4c278eb9",
   "metadata": {},
   "outputs": [],
   "source": [
    "df.drop(['Status.1', '- Imbalance Price [EUR/MWh] - SCA|BE', 'Difference'], axis=1, inplace=True)"
   ]
  },
  {
   "cell_type": "code",
   "execution_count": 127,
   "id": "3813750d",
   "metadata": {
    "tags": []
   },
   "outputs": [],
   "source": [
    "df.rename(columns={'+ Imbalance Price [EUR/MWh] - SCA|BE':'rebap_be_eur_mwh', \n",
    "                   'Total Imbalance [MWh] - SCA|BE':'imbalance_power_be_mwh', \n",
    "                   'Status':'status',\n",
    "                   'Situation':'sign',\n",
    "                     }, inplace=True)"
   ]
  },
  {
   "cell_type": "code",
   "execution_count": 128,
   "id": "429ca088",
   "metadata": {},
   "outputs": [],
   "source": [
    "df['sign'] = [-1 if x=='Deficit' else 1 for x in df.sign]\n",
    "df['imbalance_power_be_mwh'] = df.imbalance_power_be_mwh * df.sign\n",
    "df.drop('sign', axis=1, inplace=True)"
   ]
  },
  {
   "cell_type": "code",
   "execution_count": 130,
   "id": "47a5e953",
   "metadata": {
    "tags": []
   },
   "outputs": [],
   "source": [
    "df.to_csv('data/entsoe_imbalance_be.csv')"
   ]
  },
  {
   "cell_type": "markdown",
   "id": "16b4a882",
   "metadata": {},
   "source": [
    "## `imbalance_dk`\n",
    "\n",
    "Delay: 4h (16 time steps)\n",
    "\n",
    "Preparation:"
   ]
  },
  {
   "cell_type": "code",
   "execution_count": 104,
   "id": "ad7b45ed",
   "metadata": {
    "tags": []
   },
   "outputs": [],
   "source": [
    "df = pd.read_csv('entsoe/imbalance_dk.csv', parse_dates=['dt_start_utc'], index_col='dt_start_utc')"
   ]
  },
  {
   "cell_type": "code",
   "execution_count": 105,
   "id": "1a2b8ed8",
   "metadata": {},
   "outputs": [
    {
     "name": "stdout",
     "output_type": "stream",
     "text": [
      "Index(['Generation / + Imbalance price [EUR/MWh] - MBA|DK2',\n",
      "       'Generation / - Imbalance price [EUR/MWh] - MBA|DK2',\n",
      "       'Price for consumption [EUR/MWh] - MBA|DK2', 'Status',\n",
      "       'Total Imbalance [MWh] - MBA|DK2', 'Difference', 'Situation',\n",
      "       'Status.1'],\n",
      "      dtype='object')\n"
     ]
    }
   ],
   "source": [
    "print(df.columns)"
   ]
  },
  {
   "cell_type": "code",
   "execution_count": 109,
   "id": "6b94807a",
   "metadata": {},
   "outputs": [
    {
     "data": {
      "text/plain": [
       "False    3078\n",
       "True     1950\n",
       "dtype: int64"
      ]
     },
     "execution_count": 109,
     "metadata": {},
     "output_type": "execute_result"
    }
   ],
   "source": [
    "(df['Generation / + Imbalance price [EUR/MWh] - MBA|DK2']==df['Generation / - Imbalance price [EUR/MWh] - MBA|DK2']).value_counts()"
   ]
  },
  {
   "cell_type": "code",
   "execution_count": 114,
   "id": "ea234366",
   "metadata": {},
   "outputs": [],
   "source": [
    "df.drop(['Status.1', 'Difference'], axis=1, inplace=True)"
   ]
  },
  {
   "cell_type": "code",
   "execution_count": 110,
   "id": "339f0f6f",
   "metadata": {
    "tags": []
   },
   "outputs": [],
   "source": [
    "df.rename(columns={'Generation / + Imbalance price [EUR/MWh] - MBA|DK2':'imbalance_price_dk_pos_eur_mwh', \n",
    "                   'Generation / - Imbalance price [EUR/MWh] - MBA|DK2':'imbalance_price_dk_neg_eur_mwh', \n",
    "                   'Price for consumption [EUR/MWh] - MBA|DK2':'rebap_dk_eur_mwh',\n",
    "                   'Total Imbalance [MWh] - MBA|DK2':'imbalance_power_dk_mwh', \n",
    "                   'Status':'status',\n",
    "                   'Situation':'sign',\n",
    "                     }, inplace=True)"
   ]
  },
  {
   "cell_type": "code",
   "execution_count": 112,
   "id": "6706ce87",
   "metadata": {},
   "outputs": [],
   "source": [
    "df['sign'] = [-1 if x=='Deficit' else 1 for x in df.sign]\n",
    "df['imbalance_power_dk_mwh'] = df.imbalance_power_dk_mwh * df.sign\n",
    "df.drop('sign', axis=1, inplace=True)"
   ]
  },
  {
   "cell_type": "code",
   "execution_count": 116,
   "id": "d6aba5df",
   "metadata": {
    "tags": []
   },
   "outputs": [],
   "source": [
    "df.to_csv('data/entsoe_imbalance_dk.csv')"
   ]
  },
  {
   "cell_type": "markdown",
   "id": "ecad19e8",
   "metadata": {},
   "source": [
    "## `imbalance_fr`\n",
    "\n",
    "Not used, because past values are not available before July 25.\n",
    "\n",
    "Preparation"
   ]
  },
  {
   "cell_type": "code",
   "execution_count": 139,
   "id": "efcb3bf1",
   "metadata": {},
   "outputs": [],
   "source": [
    "df = pd.read_csv('entsoe/imbalance_fr.csv', parse_dates=['dt_start_utc'], index_col='dt_start_utc')"
   ]
  },
  {
   "cell_type": "code",
   "execution_count": 140,
   "id": "76aadb7b",
   "metadata": {},
   "outputs": [
    {
     "name": "stdout",
     "output_type": "stream",
     "text": [
      "Index(['+ Imbalance Price [EUR/MWh] - SCA|FR',\n",
      "       '- Imbalance Price [EUR/MWh] - SCA|FR', 'Status',\n",
      "       'Total Imbalance [MWh] - SCA|FR', 'Difference', 'Situation',\n",
      "       'Status.1'],\n",
      "      dtype='object')\n"
     ]
    }
   ],
   "source": [
    "print(df.columns)"
   ]
  },
  {
   "cell_type": "code",
   "execution_count": 146,
   "id": "9ea2a295",
   "metadata": {},
   "outputs": [
    {
     "data": {
      "text/plain": [
       "False    3004\n",
       "True        1\n",
       "dtype: int64"
      ]
     },
     "execution_count": 146,
     "metadata": {},
     "output_type": "execute_result"
    }
   ],
   "source": [
    "(df['+ Imbalance Price [EUR/MWh] - SCA|FR']==df['- Imbalance Price [EUR/MWh] - SCA|FR']).value_counts()"
   ]
  },
  {
   "cell_type": "code",
   "execution_count": 152,
   "id": "bd80cb2e",
   "metadata": {},
   "outputs": [],
   "source": [
    "df.drop(['Status.1', 'Difference'], axis=1, inplace=True)"
   ]
  },
  {
   "cell_type": "code",
   "execution_count": 147,
   "id": "badb7f4d",
   "metadata": {
    "tags": []
   },
   "outputs": [],
   "source": [
    "df.rename(columns={'+ Imbalance Price [EUR/MWh] - SCA|FR':'rebap_fr_pos_eur_mwh', \n",
    "                   '- Imbalance Price [EUR/MWh] - SCA|FR':'rebap_fr_neg_eur_mwh', \n",
    "                   'Total Imbalance [MWh] - SCA|FR':'imbalance_power_fr_mwh', \n",
    "                   'Status':'status',\n",
    "                   'Situation':'sign',\n",
    "                     }, inplace=True)"
   ]
  },
  {
   "cell_type": "code",
   "execution_count": 150,
   "id": "a00b267f",
   "metadata": {},
   "outputs": [],
   "source": [
    "df['sign'] = [-1 if x=='Deficit' else 1 for x in df.sign]\n",
    "df['imbalance_power_fr_mwh'] = df.imbalance_power_fr_mwh * df.sign\n",
    "df.drop('sign', axis=1, inplace=True)"
   ]
  },
  {
   "cell_type": "code",
   "execution_count": 154,
   "id": "6aeab924",
   "metadata": {
    "tags": []
   },
   "outputs": [],
   "source": [
    "df.to_csv('data/entsoe_imbalance_fr.csv')"
   ]
  },
  {
   "cell_type": "markdown",
   "id": "25b6750e",
   "metadata": {},
   "source": [
    "## `imbalance_pl`\n",
    "\n",
    "Delay: 2.5h (10 time steps)\n",
    "\n",
    "Preparation analogous."
   ]
  },
  {
   "cell_type": "markdown",
   "id": "fb84bc58",
   "metadata": {},
   "source": [
    "## Final combination into 1 file \n",
    "\n",
    "Exclude fr, because data available only from May 29 2021. Finally, not used either as the countries have different delays."
   ]
  },
  {
   "cell_type": "code",
   "execution_count": null,
   "id": "d23b26cf",
   "metadata": {},
   "outputs": [],
   "source": [
    "dfl = []\n",
    "countries = ['at', 'be', 'dk', 'pl']\n",
    "for country in countries:\n",
    "    X = pd.read_csv('data/entsoe_imbalance_'+country+'.csv', \n",
    "                           parse_dates=['dt_start_utc'], \n",
    "                           index_col='dt_start_utc')\n",
    "    dfl.append(X.drop('status', axis=1))\n",
    "df = align(*dfl, prefixes=('' for country in countries))\n",
    "df.to_csv('data/entsoe_imbalance.csv')"
   ]
  },
  {
   "cell_type": "code",
   "execution_count": null,
   "id": "b7ebc990",
   "metadata": {},
   "outputs": [],
   "source": []
  },
  {
   "cell_type": "code",
   "execution_count": null,
   "id": "670f662e",
   "metadata": {},
   "outputs": [],
   "source": []
  },
  {
   "cell_type": "markdown",
   "id": "66a6de1e",
   "metadata": {
    "tags": []
   },
   "source": [
    "## Features\n",
    "\n",
    "#### time \n",
    "\n",
    "- dayofyear\n",
    "- dayofweek\n",
    "- workday/holiday\n",
    "- time\n",
    "\n",
    "#### numerical ac\n",
    "\n",
    "- crossborder flows:\n",
    "    - original: from/to DK, NL, SE (6) \n",
    "    - names: DE_to_DK_power_mw, DK_to_DE_power_mw, DE_to_NL_power_mw, NL_to_DE_power_mw, DE_to_SE_power_mw, \n",
    "           SE_to_DE_power_mw, \n",
    "    - file: crossborder_flows_ts.csv\n",
    "    - derive: total in, total out (2)\n",
    "\n",
    "- control energy prices\n",
    "    - original: control capacity prices, control energy prices and import/export volumes per sign, reserve type and area (total/Germany) (52)\n",
    "    - names: all combinations of \n",
    "        - sign: NEG, POS\n",
    "        - reserve types: MRL, SRL\n",
    "        - area: total, Germany\n",
    "        - capacity prices: min_capacity_price_eur_mw, average_capacity_price_eur_mw, marginal_capacity_price_eur_mw\n",
    "        - energy prices: min_energy_price_eur_mwh, average_energy_price_eur_mwh, marginal_energy_price_eur_mwh \n",
    "        - import/export volume: germany_import_export_mw\n",
    "    - file: regelleistung_aggr_4h.csv\n",
    "    - derive: aggregate over reserve types and/or price types (capacity or energy) (52 --> 26 --> 13 --> 3)\n",
    "    \n",
    "- control power\n",
    "    - original: total and Germany block demand per sign, reserve type and area (total/Germany) (48)\n",
    "    - names: all combinations of \n",
    "        - sign: NEG, POS\n",
    "        - reserve types: MRL, SRL\n",
    "        - area: total_demand, Germany_block_demand\n",
    "    - file: regelleistung_demand_4h.csv\n",
    "    - derive: aggregate over reserve types and/or price types (capacity or energy) (8 --> 4 --> 2 --> 1)\n",
    "\n",
    "- wind speed:\n",
    "    - original: wind speed per Voronoi area (108)\n",
    "    - names: area_x_wind_speed_ms with x = 1, 2, 4, ..., 109\n",
    "    - file: wind_speed_ts.csv\n",
    "    - derive: mean over areas (108 --> 1)\n",
    "\n",
    "\n",
    "\n",
    "#### numerical fc\n",
    "    \n",
    "- forecast of renewables energy feed:\n",
    "    - original: power in MW for carriers solar, wind offshore, wind onshore and areas (15)\n",
    "    - names: all combinations of \n",
    "        - carriers: solar, wind_offshore, wind_onshore\n",
    "        - areas: 50Hertz_power_mw, TTG_power_mw, DE_power_mw, DK_power_mw, DK1_power_mw\n",
    "    - files: es_fc_solar_ts.csv, es_fc_wind_offshore_ts.csv, es_fc_wind_onshore_ts.csv\n",
    "    - derive: aggregate over areas and/or carriers (15 --> 3 --> 1)\n",
    "\n",
    "- forecast of total energy feed:\n",
    "    - original: power in MW per area (5)\n",
    "    - names: 50Hertz_power_mw, TTG_power_mw, DE_power_mw, DK_power_mw, DK1_power_mw\n",
    "    - file: es_fc_total_load_ts.csv\n",
    "    - derive: aggregate over areas (5 --> 1)\n",
    "\n",
    "- extrapolation of renewables energy feed:\n",
    "    - original: power in MW per carrier and area/total (12)\n",
    "    - names: all combinations of\n",
    "        - carriers solar, wind_onshore\n",
    "        - areas fiftyhertz, tennet, amprion, transnetbw, total\n",
    "        - plus wind_offshore with fiftyhertz, tennet, total\n",
    "    - files: extrapol_solar_mw.csv, extrapol_wind_offshore_mw.csv, extrapol_wind_onshore_mw.csv \n",
    "    - derive: aggregate over carriers and/or area (12 --> 4 --> 1\n",
    "\n",
    "\n",
    "#### numerical ac + fc\n",
    "\n",
    "- EPEX day ahead contract prices:\n",
    "    - original: \n",
    "        - ac: price per MWh for day ahead contracts in Germany (1)\n",
    "        - fc: price per MWh from n = 1 ... 4 (... 45) days back of price per MWh for day ahead contracts in Germany (1 ... 45)\n",
    "    - name: \n",
    "        - ac: epex_da_de_eur_mwh\n",
    "        - fc: epex_da_de_eur_mwh = dict with keys n = 1, 2, 3, ... (days back)\n",
    "    - files:\n",
    "        - ac: epex_da_de.csv\n",
    "        - fc: epex_da_prognosis.csv\n",
    "    - derive: \n",
    "        - derivatives of fc wrt n (1, 2)\n",
    "        - differences between last fc and ac (1)\n",
    "\n",
    "- wind energy feed per feeding point:\n",
    "    - original: power in kW (17 for ac and 22 for fc)\n",
    "    - file: power_ac.csv, power_fc.csv\n",
    "    - derive: \n",
    "        - aggregate over feeding points (17 --> 1, 22 --> 1)\n",
    "        - take difference between fc and ac where applicable (34 --> 17 -->1)\n",
    "    \n",
    "\n",
    "\n",
    "\n",
    "#### categorical\n",
    "\n",
    "- epex_da_de: sechs_h_regelung\n",
    "\n",
    "\n",
    "\n",
    "#### delays in ac features\n",
    "\n",
    "- cross border flows: 4h\n",
    "- EPEX day ahead contract prices: 1 day (already implemented by reading off the newest prediction)"
   ]
  },
  {
   "cell_type": "markdown",
   "id": "16dafe61",
   "metadata": {},
   "source": [
    "## Time series analysis\n",
    "\n",
    "\n",
    "### Stationarity\n",
    "\n",
    "tested rebap and its first and second derivative\n",
    "\n",
    "result: ...\n",
    "\n",
    "\n",
    "### ARIMA model\n",
    "\n",
    "\n",
    "\n",
    "### fbprophet\n",
    "\n",
    "\n",
    "\n",
    "### Result\n",
    "\n",
    "\n",
    "\n",
    "### Dependence on month, dayofyear, weekday, hour, minute"
   ]
  },
  {
   "cell_type": "code",
   "execution_count": null,
   "id": "28102c60",
   "metadata": {},
   "outputs": [],
   "source": [
    "quantity = 'minute'\n",
    "selection = None#'year'\n",
    "plottype = 'l'\n",
    "quantities = {'month':df.index.month,\n",
    "              'weekday':df.index.weekday, \n",
    "              'dayofyear':df.index.dayofyear, \n",
    "              'hour':df.index.hour, \n",
    "              'time':df.index.time, \n",
    "              'minute':df.index.minute}\n",
    "selections = {'weekday':df.index.weekday, 'month':df.index.month, 'year':df.index.year} \n",
    "plottypes = {'v':sns.violinplot, 'b':sns.boxplot, 'l':sns.lineplot}\n",
    "fig = plt.figure(figsize=(20,10))\n",
    "if quantity == 'minute':\n",
    "    plt.xlabel('quarter of hour', fontsize=36)\n",
    "    plt.ylabel('reBAP', fontsize=36)\n",
    "    plt.xticks(ticks=[0,15,30,45], labels=['1st','2nd','3rd','4th'], fontsize=24)\n",
    "    plt.yticks(fontsize=24)\n",
    "if quantity == 'hour':\n",
    "    plt.xlabel('daytime', fontsize=36)\n",
    "    plt.ylabel('reBAP', fontsize=36)\n",
    "    plt.xticks(ticks=range(25), fontsize=24)\n",
    "    plt.yticks(fontsize=24)\n",
    "if quantity == 'weekday':\n",
    "    plt.xlabel('weekday', fontsize=36)\n",
    "    plt.ylabel('reBAP', fontsize=36)\n",
    "    plt.xticks(ticks=range(7), labels=['Mo','Tu','We','Th','Fr','Sa','Su'], fontsize=24)\n",
    "    plt.yticks(fontsize=24)\n",
    "if quantity == 'month':\n",
    "    plt.xlabel('month', fontsize=36)\n",
    "    plt.ylabel('reBAP', fontsize=36)\n",
    "    plt.xticks(ticks=range(1,13),fontsize=24)\n",
    "    plt.yticks(fontsize=24)\n",
    "if quantity == 'dayofyear': plt.xticks(rotation=90)\n",
    "if selection: \n",
    "    plottypes[plottype](x=quantities[quantity], y=df.rebap_eur_mwh, hue=selections[selection], legend='full')\n",
    "    plt.savefig('images/'+quantity+'_per_'+selection+'_'+plottype+'.png', format='png', dpi=150);\n",
    "else: \n",
    "    plottypes[plottype](x=quantities[quantity], y=df.rebap_eur_mwh)\n",
    "    plt.savefig('images/'+quantity+'_'+plottype+'.png', format='png', dpi=150);"
   ]
  },
  {
   "cell_type": "markdown",
   "id": "5cc96257",
   "metadata": {
    "tags": []
   },
   "source": [
    "## Correlation for appropriately delayed numerical features"
   ]
  },
  {
   "cell_type": "code",
   "execution_count": null,
   "id": "91e26797",
   "metadata": {},
   "outputs": [],
   "source": [
    "df1 = pd.read_csv('data/imbalance_de.csv', parse_dates=True, index_col='dt_start_utc')\n",
    "df1 = df1[df1.rebap_eur_mwh.mean()-3*df1.rebap_eur_mwh.std() <= df1.rebap_eur_mwh][df1.rebap_eur_mwh <= df1.rebap_eur_mwh.mean()+3*df1.rebap_eur_mwh.std()]\n",
    "df1['power_mw'] = df1.power_mw.shift(periods=5)\n",
    "df1.dropna(axis=0, inplace=True)\n",
    "\n",
    "df2 = pd.read_csv('data/power_ac.csv', parse_dates=True, index_col='dt_start_utc')\n",
    "\n",
    "df = align(df1, df2, prefixes=('',''), method='forward')\n",
    "\n",
    "sorted(df1.corr(method='pearson')['rebap_eur_mwh'].items(), key = lambda x : x[1], reverse=True)[1:]"
   ]
  },
  {
   "cell_type": "raw",
   "id": "bee671c0",
   "metadata": {},
   "source": [
    "time features:\n",
    "\n",
    "weekday: -0.07524715617361509\n",
    "month: 0.033428034752845885\n",
    "dayofyear: 0.032707378420525866\n",
    "minute: -0.024979385412350535\n",
    "hour: 0.018776311861206034\n",
    "\n",
    "\n",
    "\n",
    "imbalance power:\n",
    "15 min delay: 0.4843013192757145\n",
    "30 min delay: 0.40729951999584196\n",
    "45 min delay: 0.34327285926548573\n",
    "60 min delay: 0.2989226526837441\n",
    "75 min delay: 0.24232271053895155\n",
    "\n",
    "crossborder_flows: (4h delay)\n",
    "\n",
    "DE_to_DK_power_mw   -0.076075\n",
    "DE_to_NL_power_mw   -0.021278\n",
    "DE_to_SE_power_mw   -0.023156\n",
    "DK_to_DE_power_mw    0.039917\n",
    "NL_to_DE_power_mw    0.002682\n",
    "SE_to_DE_power_mw    0.043131\n",
    "in                   0.040426\n",
    "out                 -0.059153\n",
    "\n",
    "\n",
    "\n",
    "epex_da_de:\n",
    "\n",
    "'sechs_h_regelung: -0.08007528283658467\n",
    "'epex_da_de_eur_mwh: 0.28175866494077273\n",
    "\n",
    "\n",
    "\n",
    "epex_da_prognosis:\n",
    "\n",
    "newest_fc: 0.3038766964033372\n",
    "second_newest_fc: 0.24818222169636459\n",
    "diff: 0.16107723299254156\n",
    "\n",
    "\n",
    "\n",
    "es_fc_solar: (available?)\n",
    "\n",
    "DK_power_mw: -0.00740397990116901\n",
    "DK1_power_mw: -0.00882052149761261\n",
    "DE_power_mw: -0.033728544997301595\n",
    "50Hertz_power_mw: -0.03456937472344083\n",
    "total_power_mw: -0.0378171709552171\n",
    "TTG_power_mw: -0.045797529561683294\n",
    " \n",
    " \n",
    " \n",
    "es_fc_total_load: (available?)\n",
    "\n",
    "DK1_power_mw: 0.16399404219453498\n",
    "DE_power_mw: 0.15881424901005614\n",
    "total_power_mw: 0.1576652377437372\n",
    "DK_power_mw: 0.15764626677772892\n",
    "50Hertz_power_mw: 0.14682049546623946\n",
    "TTG_power_mw: 0.1335574183987026\n",
    " \n",
    "\n",
    "\n",
    "es_fc_total_renewables: (available?)\n",
    "\n",
    "DK1_power_mw: -0.029985527280648256\n",
    "DK_power_mw: -0.03391124565636769\n",
    "50Hertz_power_mw: -0.0556007905162608\n",
    "DE_power_mw: -0.0687700325014996\n",
    "total_power_mw: -0.07655475812419277\n",
    "TTG_power_mw: -0.08207607775702935\n",
    "\n",
    "\n",
    "\n",
    "es_fc_wind_offshore: (available?)\n",
    "\n",
    "50Hertz_power_mw: -0.03519033079257517\n",
    "DK1_power_mw: -0.07316134092492045\n",
    "DK_power_mw: -0.08048739963488684\n",
    "DE_power_mw: -0.08760064769175391\n",
    "total_power_mw: -0.08850380338208434\n",
    "TTG_power_mw: -0.08943316662638912\n",
    "\n",
    "\n",
    "\n",
    "es_fc_wind_onshore: (available?)\n",
    "\n",
    "DK1_power_mw: -0.07671651506632371\n",
    "DK_power_mw: -0.07904779226947446\n",
    "50Hertz_power_mw: -0.11821192875996044\n",
    "DE_power_mw: -0.12236128308611773\n",
    "TTG_power_mw: -0.12252708703508135\n",
    "total_power_mw: -0.12635415790460372\n",
    "\n",
    "\n",
    "\n",
    "extrapol_solar: (last month --> useful anyway?)\n",
    "\n",
    "\n",
    "\n",
    "extrapol_wind_offshore: (last month --> useful anyway?)\n",
    "\n",
    "\n",
    "\n",
    "extrapol_wind_onshore: (last month --> useful anyway?)\n",
    "\n",
    "\n",
    "\n",
    "power_ac:\n",
    "\n",
    "power_act_308: 0.07658183045445838\n",
    "power_act_293: 0.0660940841376452\n",
    "power_act_179: 0.057968468218609924\n",
    "power_act_336: 0.04453956161573406\n",
    "power_act_183: 0.035109841174691916\n",
    "power_act_292: 0.022832383355489122\n",
    "power_act_291: 0.014656408729780683\n",
    "power_act_47: -0.008542990890438393\n",
    "power_act_202: -0.011874958493279467\n",
    "power_act_196: -0.0320837123825782\n",
    "power_act_176: -0.033338655527361004\n",
    "power_act_222: -0.03881168110873936\n",
    "power_act_233: -0.05052901177091879\n",
    "power_act_24: -0.05139346946882312\n",
    "power_act_total: -0.06885519642494121\n",
    "power_act_84: -0.07679272340664316\n",
    "power_act_21: -0.09124428206100685\n",
    "power_act_206: -0.10222719700350814\n",
    "\n",
    "\n",
    "\n",
    "power_fc: (unclear whether available)\n",
    "\n",
    "power_fc_308: 0.07508690567461161\n",
    "power_fc_293: 0.0669889523110434\n",
    "power_fc_179: 0.05851182386634871\n",
    "power_fc_322: 0.05850624979680117\n",
    "power_fc_292: 0.050642060985486244\n",
    "power_fc_336: 0.04915604983025744\n",
    "power_fc_327: 0.04723014254501161\n",
    "power_fc_325: 0.04533460136600698\n",
    "power_fc_339: 0.040323540862719616\n",
    "power_fc_183: 0.037476905562437324\n",
    "power_fc_291: 0.03599904330430745\n",
    "power_fc_202: -0.009744543573078298\n",
    "power_fc_176: -0.03117351157479673\n",
    "power_fc_222: -0.038568255783482025\n",
    "power_fc_51: -0.04611440542817475\n",
    "power_fc_48: -0.04858612598063991\n",
    "power_fc_total: -0.07828080301589488\n",
    "power_fc_196: -0.08291421410125561\n",
    "power_fc_21: -0.09433069255635973\n",
    "power_fc_233: -0.09758075360573289\n",
    "power_fc_24: -0.10569035945716927\n",
    "power_fc_206: -0.1137920338995106\n",
    "power_fc_47: -0.1183477138768534\n",
    "\n",
    "\n",
    "\n",
    "power_fc - power_ac:\n",
    "\n",
    "diff_206: 0.0939603979281782\n",
    "diff_21: 0.08759799312870238\n",
    "diff_total: 0.040710520751938456\n",
    "diff_222: 0.03783567641540703\n",
    "diff_233: 0.027121130419798564\n",
    "diff_24: 0.023206468881456454\n",
    "diff_202: 0.012665234100206464\n",
    "diff_196: 0.011322635982882643\n",
    "diff_291: -0.0018699648263636236\n",
    "diff_292: -0.00882535704256666\n",
    "diff_183: -0.03371598608585559\n",
    "diff_47: -0.03734100772864768\n",
    "diff_336: -0.04143275257706306\n",
    "diff_179: -0.05686309590125804\n",
    "diff_293: -0.06399007477285543\n",
    "diff_308: -0.07587909213797546\n",
    "\n",
    "\n",
    "\n",
    "regelleistung_aggr_4h: (last month --> useful anyway?)\n",
    "\n",
    "\n",
    "\n",
    "regelleistung_demand_4h: (last month --> useful anyway?)\n",
    "\n",
    "\n",
    "\n",
    "wind_speed: (delay 2h)\n",
    "\n",
    "area_2_windspeed_ms: -0.11884693848084507\n",
    "area_1_windspeed_ms: -0.10767247686479652\n",
    "area_87_windspeed_ms: -0.10664680977028278\n",
    "area_102_windspeed_ms: -0.10651563501572858\n",
    "area_100_windspeed_ms: -0.10588448167571426\n",
    "area_45_windspeed_ms: -0.10579818226648323\n",
    "area_75_windspeed_ms: -0.10577686696741571\n",
    "area_109_windspeed_ms: -0.10523505194564593\n",
    "area_107_windspeed_ms: -0.10511279778126166\n",
    "area_78_windspeed_ms: -0.10491804940408372\n",
    "area_98_windspeed_ms: -0.1045942299377271\n",
    "mean: -0.10456576398494817\n",
    "area_88_windspeed_ms: -0.104053819101483\n",
    "area_76_windspeed_ms: -0.1039528234184265\n",
    "area_64_windspeed_ms: -0.10389782270982131\n",
    "area_55_windspeed_ms: -0.10345070885936075\n",
    "area_71_windspeed_ms: -0.10343408092587802\n",
    "area_65_windspeed_ms: -0.10340212123418346\n",
    "area_44_windspeed_ms: -0.10323711099596143\n",
    "area_99_windspeed_ms: -0.10306516623329809\n",
    "area_108_windspeed_ms: -0.10305728816821544\n",
    "area_89_windspeed_ms: -0.10301579996850366\n",
    "area_85_windspeed_ms: -0.10301249191781431\n",
    "area_31_windspeed_ms: -0.1028724075145295\n",
    "area_81_windspeed_ms: -0.10272897005317297\n",
    "area_95_windspeed_ms: -0.10255931651455888\n",
    "area_86_windspeed_ms: -0.1025150520502878\n",
    "area_56_windspeed_ms: -0.10245530752102429\n",
    "area_90_windspeed_ms: -0.10237955009268562\n",
    "area_101_windspeed_ms: -0.10216510152551811\n",
    "area_67_windspeed_ms: -0.1020531209362037\n",
    "area_103_windspeed_ms: -0.10183374673699895\n",
    "area_57_windspeed_ms: -0.10174256645628285\n",
    "area_73_windspeed_ms: -0.10149670671135536\n",
    "area_53_windspeed_ms: -0.10144402707444619\n",
    "area_104_windspeed_ms: -0.10099370770928982\n",
    "area_96_windspeed_ms: -0.10061110552950626\n",
    "area_33_windspeed_ms: -0.10059160827140212\n",
    "area_83_windspeed_ms: -0.10051608625486445\n",
    "area_13_windspeed_ms: -0.10028466891201557\n",
    "area_84_windspeed_ms: -0.10019241128831329\n",
    "area_77_windspeed_ms: -0.10001402985776219\n",
    "area_48_windspeed_ms: -0.09986486497075055\n",
    "area_12_windspeed_ms: -0.09976351257003367\n",
    "area_69_windspeed_ms: -0.09956041022642231\n",
    "area_92_windspeed_ms: -0.09923067441071022\n",
    "area_10_windspeed_ms: -0.0991845747257379\n",
    "area_74_windspeed_ms: -0.09890017086091889\n",
    "area_91_windspeed_ms: -0.09875640655999321\n",
    "area_34_windspeed_ms: -0.09867450393754461\n",
    "area_47_windspeed_ms: -0.09837900910739089\n",
    "area_41_windspeed_ms: -0.09833561818608844\n",
    "area_93_windspeed_ms: -0.09815234776532009\n",
    "area_70_windspeed_ms: -0.09791123870570892\n",
    "area_22_windspeed_ms: -0.09790025634756981\n",
    "area_80_windspeed_ms: -0.09770899703360632\n",
    "area_62_windspeed_ms: -0.09745580621004832\n",
    "area_51_windspeed_ms: -0.09737162103256715\n",
    "area_105_windspeed_ms: -0.09695380816514824\n",
    "area_60_windspeed_ms: -0.09688974452269475\n",
    "area_25_windspeed_ms: -0.09686243390276907\n",
    "area_63_windspeed_ms: -0.09664816147597012\n",
    "area_14_windspeed_ms: -0.09650085608922859\n",
    "area_46_windspeed_ms: -0.09595113506482815\n",
    "area_23_windspeed_ms: -0.09595102623704757\n",
    "area_4_windspeed_ms: -0.09566110854606281\n",
    "area_49_windspeed_ms: -0.09559883166922797\n",
    "area_82_windspeed_ms: -0.09534271858909117\n",
    "area_52_windspeed_ms: -0.09509566004336475\n",
    "area_94_windspeed_ms: -0.09497554179019704\n",
    "area_54_windspeed_ms: -0.09483523035609712\n",
    "area_5_windspeed_ms: -0.09445204317892729\n",
    "area_50_windspeed_ms: -0.09432276119634528\n",
    "area_68_windspeed_ms: -0.09413888218191635\n",
    "area_38_windspeed_ms: -0.09399726641519673\n",
    "area_39_windspeed_ms: -0.09362101588673762\n",
    "area_106_windspeed_ms: -0.09332369779326981\n",
    "area_37_windspeed_ms: -0.09219131450101332\n",
    "area_59_windspeed_ms: -0.09040123100065411\n",
    "area_29_windspeed_ms: -0.09009179521387649\n",
    "area_97_windspeed_ms: -0.08929711337799748\n",
    "area_40_windspeed_ms: -0.08872219947965566\n",
    "area_36_windspeed_ms: -0.08855333712601116\n",
    "area_79_windspeed_ms: -0.08834895835542354\n",
    "area_43_windspeed_ms: -0.08821531246905691\n",
    "area_7_windspeed_ms: -0.08733101896810538\n",
    "area_32_windspeed_ms: -0.08705332573495184\n",
    "area_11_windspeed_ms: -0.08694329351617923\n",
    "area_24_windspeed_ms: -0.08692221650138306\n",
    "area_26_windspeed_ms: -0.08400674594159341\n",
    "area_30_windspeed_ms: -0.08392642702174967\n",
    "area_58_windspeed_ms: -0.08392426734819189\n",
    "area_16_windspeed_ms: -0.08309731983564116\n",
    "area_66_windspeed_ms: -0.0802854027916407\n",
    "area_15_windspeed_ms: -0.07796578855208011\n",
    "area_8_windspeed_ms: -0.07606976813616023\n",
    "area_17_windspeed_ms: -0.0745816849624981\n",
    "area_21_windspeed_ms: -0.07452941317923435\n",
    "area_28_windspeed_ms: -0.07417886634292109\n",
    "area_35_windspeed_ms: -0.0731023411572452\n",
    "area_20_windspeed_ms: -0.07248164154526687\n",
    "area_61_windspeed_ms: -0.07186362093942315\n",
    "area_18_windspeed_ms: -0.07073663468941783\n",
    "area_19_windspeed_ms: -0.06996961081082885\n",
    "area_27_windspeed_ms: -0.06630672290683581\n",
    "area_6_windspeed_ms: -0.06267976818889459\n",
    "area_72_windspeed_ms: -0.06195200812361306\n",
    "area_9_windspeed_ms: -0.06005708343974108\n",
    "area_42_windspeed_ms: -0.04361086834554043\n",
    "\n",
    "\n"
   ]
  },
  {
   "cell_type": "markdown",
   "id": "fc75881a",
   "metadata": {},
   "source": [
    "### Features to be included\n",
    "\n",
    "month (D)\n",
    "\n",
    "weekday (D) (from lineplot)\n",
    "\n",
    "hour (D)\n",
    "\n",
    "minute (D)\n",
    "(or linear segments 0-3, 3-6, 6-11:30, 11:30-15, 15-17, 17-19, 19-21, 21-23) (from lineplot)\n",
    "\n",
    "epex_da_de_eur_mwh\n",
    "\n",
    "epex_da_prognosis: newest_fc, second_newest_fc\n",
    "\n",
    "es_fc_total_load: total_power_mw\n",
    "\n",
    "es_fc_wind_offshore: total_power_mw\n",
    "\n",
    "es_fc_wind_onshore: total_power_mw\n",
    "\n",
    "power_ac: power_act_206, 21, 84, 308, 293, total_power_kw\n",
    "\n",
    "power_fc: power_fc_47, 206, 24, 233, 21, 196, 308, 293, total_power_kw\n",
    "\n",
    "power_fc - power_ac: diff_206, 21, 308, 293\n",
    "\n",
    "wind speed: area_2, 1, 87, 102"
   ]
  },
  {
   "cell_type": "markdown",
   "id": "e24349a9",
   "metadata": {},
   "source": [
    "## Plan\n",
    "\n",
    "\n",
    "### Time\n",
    "\n",
    "- analyze stationarity, trend + seasonality (seasonal_decompose)\n",
    "- smoothing, rolling window\n",
    "- autocorrelation\n",
    "\n",
    "--> model pure time dependence (ARIMA, prophet)\n",
    "\n",
    "\n",
    "### Features\n",
    "\n",
    "- add weekday, businessday/holiday, dayofyear, hour to the features\n",
    "- write table with features and type of values: ac or fc\n",
    "- shift ac values to time they are available\n",
    "- idea: use differences between ac and fc values if applicable\n",
    "- further shift all features by desired advance time of prediction\n",
    "\n",
    "--> model rebap by any regressor\n",
    "--> model rebap sign by any classifier\n",
    "\n",
    "\n",
    "### Theory\n",
    "\n",
    "- multivariate time series analysis\n"
   ]
  },
  {
   "cell_type": "code",
   "execution_count": null,
   "id": "c8ce2969",
   "metadata": {},
   "outputs": [],
   "source": []
  }
 ],
 "metadata": {
  "kernelspec": {
   "display_name": "Python 3 (ipykernel)",
   "language": "python",
   "name": "python3"
  },
  "language_info": {
   "codemirror_mode": {
    "name": "ipython",
    "version": 3
   },
   "file_extension": ".py",
   "mimetype": "text/x-python",
   "name": "python",
   "nbconvert_exporter": "python",
   "pygments_lexer": "ipython3",
   "version": "3.8.5"
  }
 },
 "nbformat": 4,
 "nbformat_minor": 5
}
