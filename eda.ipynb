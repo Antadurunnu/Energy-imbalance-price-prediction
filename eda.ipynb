{
 "cells": [
  {
   "cell_type": "markdown",
   "source": [
    "# EDA"
   ],
   "metadata": {}
  },
  {
   "cell_type": "markdown",
   "source": [
    "## ane.energy data files"
   ],
   "metadata": {}
  },
  {
   "cell_type": "code",
   "execution_count": 2,
   "source": [
    "import pandas as pd\r\n",
    "import vaex\r\n",
    "import matplotlib.pyplot as plt\r\n",
    "import seaborn as sns\r\n",
    "from script.rebap_util.rebap_functions import align"
   ],
   "outputs": [
    {
     "output_type": "error",
     "ename": "ModuleNotFoundError",
     "evalue": "No module named 'seaborn'",
     "traceback": [
      "\u001b[1;31m---------------------------------------------------------------------------\u001b[0m",
      "\u001b[1;31mModuleNotFoundError\u001b[0m                       Traceback (most recent call last)",
      "\u001b[1;32m~\\AppData\\Local\\Temp/ipykernel_5936/821147706.py\u001b[0m in \u001b[0;36m<module>\u001b[1;34m\u001b[0m\n\u001b[0;32m      2\u001b[0m \u001b[1;32mimport\u001b[0m \u001b[0mvaex\u001b[0m\u001b[1;33m\u001b[0m\u001b[1;33m\u001b[0m\u001b[0m\n\u001b[0;32m      3\u001b[0m \u001b[1;32mimport\u001b[0m \u001b[0mmatplotlib\u001b[0m\u001b[1;33m.\u001b[0m\u001b[0mpyplot\u001b[0m \u001b[1;32mas\u001b[0m \u001b[0mplt\u001b[0m\u001b[1;33m\u001b[0m\u001b[1;33m\u001b[0m\u001b[0m\n\u001b[1;32m----> 4\u001b[1;33m \u001b[1;32mimport\u001b[0m \u001b[0mseaborn\u001b[0m \u001b[1;32mas\u001b[0m \u001b[0msns\u001b[0m\u001b[1;33m\u001b[0m\u001b[1;33m\u001b[0m\u001b[0m\n\u001b[0m\u001b[0;32m      5\u001b[0m \u001b[1;32mfrom\u001b[0m \u001b[0mscript\u001b[0m\u001b[1;33m.\u001b[0m\u001b[0mrebap_util\u001b[0m\u001b[1;33m.\u001b[0m\u001b[0mrebap_functions\u001b[0m \u001b[1;32mimport\u001b[0m \u001b[0malign\u001b[0m\u001b[1;33m\u001b[0m\u001b[1;33m\u001b[0m\u001b[0m\n",
      "\u001b[1;31mModuleNotFoundError\u001b[0m: No module named 'seaborn'"
     ]
    }
   ],
   "metadata": {}
  },
  {
   "cell_type": "markdown",
   "source": [
    "Write information on data files into info.csv:"
   ],
   "metadata": {}
  },
  {
   "cell_type": "code",
   "execution_count": 3,
   "source": [
    "info = pd.DataFrame(data=[['crossborder_flows', \r\n",
    "                           'dt_start_utc, power_mw, from_country, to_country', \r\n",
    "                           '2016-12-31 23:00', '2019-09-20 02:00', '1h', \r\n",
    "                           'ac', (142816, 4), '6.6', \r\n",
    "                           '4h behind live data'],\r\n",
    "                          ['epex_da_de', \r\n",
    "                           'dt_start_utc, sechs_h_regelung, epex_da_de_eur_mwh', \r\n",
    "                           '2004-12-31 23:00', '2021-07-13 21:00', '1h', \r\n",
    "                           '?', (144911, 3), '4.7', \r\n",
    "                           ''],\r\n",
    "                          ['epex_da_prognosis', \r\n",
    "                           'predicted_at, predicted_for, prediction',\r\n",
    "                           '2018-12-26 23:00','2021-07-01 22:00','1h',\r\n",
    "                           'fc',(483097, 3),'24.4',''],\r\n",
    "                          ['es_forecast', \r\n",
    "                           'dt_start_utc, power_mw, carrier, type, area, version_utc',\r\n",
    "                           '2016-12-31 23:00','2020-02-13 23:45','15min',\r\n",
    "                           'fc',(36876431, 6),'2700',''],\r\n",
    "                          ['imbalance_de', \r\n",
    "                           'time, val1, val2',\r\n",
    "                           '2013-12-31 23:00','2021-04-29 23:45','15min',\r\n",
    "                           'ac',(257009, 3),'10.1',\r\n",
    "                           'end = last day fully covered; published for past month'],\r\n",
    "                          ['power_ac', \r\n",
    "                           'dt_start_utc, power_act_21, 24, 47, 84, 176, 179, 183, 196, 202, 206, 222, 233, 291, 292, 293, 308, 336',\r\n",
    "                           '2019-06-30 22:00','2021-04-30 23:45','15min',\r\n",
    "                           'ac',(64328,18),'5.1',\r\n",
    "                           'live data'],\r\n",
    "                          ['power_fc', \r\n",
    "                           'dt_start_utc, power_fc_21, 24, 47, 48, 51, 176, 179, 183, 196, 202, 206, 222, 233, 291, 292, 293, 308, 322, 325, 327, 336, 339',\r\n",
    "                           '2019-06-13 07:00','2021-04-30 23:45','15min',\r\n",
    "                           'fc',(66020, 23),'5.4',\r\n",
    "                           'meaning of timestamp unclear'],\r\n",
    "                          ['regelleistung_aggr', \r\n",
    "                           'date_start, date_end, product, reserve_type, 6 total capacity values, 7 German capacity values',\r\n",
    "                           '2019-01-01','2021-03-19','1d',\r\n",
    "                           'ac',(16068, 17),'1.5',\r\n",
    "                           'available for past month; date_start == date_end'],\r\n",
    "                          ['regelleistung_demand', \r\n",
    "                           'date_start, date_end, product, total_demand, germany_block_demand, reserve_type',\r\n",
    "                           '2019-01-01','2021-03-18','1d',\r\n",
    "                           'ac',(16188, 6),'0.7',\r\n",
    "                           'available for past month; date_start == date_end'],\r\n",
    "                          ['solar_mw', \r\n",
    "                           'dt_start_utc, fiftyhertz, tennet, amprion, transnetbw, nrv',\r\n",
    "                           '2011-12-31 23:00','2021-07-11 21:00','1h',\r\n",
    "                           'ac',(83519, 6),'3.6',\r\n",
    "                           'available for past month'],\r\n",
    "                          ['wind_offshore_mw', \r\n",
    "                           'dt_start_utc, fiftyhertz, tennet, sum',\r\n",
    "                           '2012-12-31 23:00','2021-07-11 21:00','1h',\r\n",
    "                           'ac',(74735, ),'4.4',\r\n",
    "                           'available for past month'],\r\n",
    "                          ['wind_onshore_mw', \r\n",
    "                           'dt_start_utc, fiftyhertz, tennet, amprion, transnetbw, nrv',\r\n",
    "                           '2011-12-31 23:00','2021-07-01 21:00','1h',\r\n",
    "                           'ac',(83278, 6),'5.5',\r\n",
    "                           'available for past month; meaning of values: 4 control zones + sum?'],\r\n",
    "                          ['wind_speed', \r\n",
    "                           'dt_start_utc, voronoi_area_id, windspeed',\r\n",
    "                           '2018-12-31 23:00','2020-09-30 23:45','15min','2h delay',(6548085, 3),'187.6','']\r\n",
    "                         ],\r\n",
    "                   columns=['filename', 'data', 'start', 'end', 'timestep', 'ac/fc', 'shape', 'filesize_MB', 'notes'])"
   ],
   "outputs": [],
   "metadata": {
    "tags": []
   }
  },
  {
   "cell_type": "code",
   "execution_count": 4,
   "source": [
    "info.to_csv('info.csv')"
   ],
   "outputs": [],
   "metadata": {}
  },
  {
   "cell_type": "markdown",
   "source": [
    "### Notes"
   ],
   "metadata": {}
  },
  {
   "cell_type": "markdown",
   "source": [
    "### `imbalance_de`\r\n",
    "\r\n",
    "15min data only until 2021-04-30 21:45, after that only occasional data until 2021-05-22 22:00 (skipped latter)\r\n",
    "\r\n",
    "Actual imbalance power can be taken live from \r\n",
    "- SMARD > Marktdaten > Oberkategorie: Systemstabilität > Datenkategorie Ausgleichsenergie > Land: Deutschland or \r\n",
    "- ENTSOE > Balancing > Imbalance > Germany\r\n",
    "\r\n",
    "(see below) with a delay of 1h (4 time steps)"
   ],
   "metadata": {}
  },
  {
   "cell_type": "markdown",
   "source": [
    "### `es_forecast`\r\n",
    "\r\n",
    "turn into hdf5 format:"
   ],
   "metadata": {
    "tags": []
   }
  },
  {
   "cell_type": "code",
   "execution_count": 15,
   "source": [
    "esf = vaex.from_csv('data/es_forecast.csv', nrows = 30)\r\n",
    "for i, df in enumerate(vaex.from_csv('data/es_forecast.csv', chunk_size=100_000)):\r\n",
    "    if i%50 == 0: print(i)\r\n",
    "    df.export_hdf5(f'data/es_forecast/es_forecast_{i:02}.hdf5')\r\n",
    "df = vaex.open('data/es_forecast/es_forecast*')\r\n",
    "df.export_hdf5('data/es_forecast.hdf5')"
   ],
   "outputs": [
    {
     "output_type": "error",
     "ename": "FileNotFoundError",
     "evalue": "[WinError 2] Failed to open local file 'data/es_forecast.csv'. Detail: [Windows error 2] Das System kann die angegebene Datei nicht finden.\r\n",
     "traceback": [
      "\u001b[1;31m---------------------------------------------------------------------------\u001b[0m",
      "\u001b[1;31mFileNotFoundError\u001b[0m                         Traceback (most recent call last)",
      "\u001b[1;32m~\\AppData\\Local\\Temp/ipykernel_10380/2359822436.py\u001b[0m in \u001b[0;36m<module>\u001b[1;34m\u001b[0m\n\u001b[1;32m----> 1\u001b[1;33m \u001b[0mesf\u001b[0m \u001b[1;33m=\u001b[0m \u001b[0mvaex\u001b[0m\u001b[1;33m.\u001b[0m\u001b[0mfrom_csv\u001b[0m\u001b[1;33m(\u001b[0m\u001b[1;34m'data/es_forecast.csv'\u001b[0m\u001b[1;33m,\u001b[0m \u001b[0mnrows\u001b[0m \u001b[1;33m=\u001b[0m \u001b[1;36m30\u001b[0m\u001b[1;33m)\u001b[0m\u001b[1;33m\u001b[0m\u001b[1;33m\u001b[0m\u001b[0m\n\u001b[0m\u001b[0;32m      2\u001b[0m \u001b[1;32mfor\u001b[0m \u001b[0mi\u001b[0m\u001b[1;33m,\u001b[0m \u001b[0mdf\u001b[0m \u001b[1;32min\u001b[0m \u001b[0menumerate\u001b[0m\u001b[1;33m(\u001b[0m\u001b[0mvaex\u001b[0m\u001b[1;33m.\u001b[0m\u001b[0mfrom_csv\u001b[0m\u001b[1;33m(\u001b[0m\u001b[1;34m'data/es_forecast.csv'\u001b[0m\u001b[1;33m,\u001b[0m \u001b[0mchunk_size\u001b[0m\u001b[1;33m=\u001b[0m\u001b[1;36m100_000\u001b[0m\u001b[1;33m)\u001b[0m\u001b[1;33m)\u001b[0m\u001b[1;33m:\u001b[0m\u001b[1;33m\u001b[0m\u001b[1;33m\u001b[0m\u001b[0m\n\u001b[0;32m      3\u001b[0m     \u001b[1;32mif\u001b[0m \u001b[0mi\u001b[0m\u001b[1;33m%\u001b[0m\u001b[1;36m50\u001b[0m \u001b[1;33m==\u001b[0m \u001b[1;36m0\u001b[0m\u001b[1;33m:\u001b[0m \u001b[0mprint\u001b[0m\u001b[1;33m(\u001b[0m\u001b[0mi\u001b[0m\u001b[1;33m)\u001b[0m\u001b[1;33m\u001b[0m\u001b[1;33m\u001b[0m\u001b[0m\n\u001b[0;32m      4\u001b[0m     \u001b[0mdf\u001b[0m\u001b[1;33m.\u001b[0m\u001b[0mexport_hdf5\u001b[0m\u001b[1;33m(\u001b[0m\u001b[1;34mf'data/es_forecast/es_forecast_{i:02}.hdf5'\u001b[0m\u001b[1;33m)\u001b[0m\u001b[1;33m\u001b[0m\u001b[1;33m\u001b[0m\u001b[0m\n\u001b[0;32m      5\u001b[0m \u001b[0mdf\u001b[0m \u001b[1;33m=\u001b[0m \u001b[0mvaex\u001b[0m\u001b[1;33m.\u001b[0m\u001b[0mopen\u001b[0m\u001b[1;33m(\u001b[0m\u001b[1;34m'data/es_forecast/es_forecast*'\u001b[0m\u001b[1;33m)\u001b[0m\u001b[1;33m\u001b[0m\u001b[1;33m\u001b[0m\u001b[0m\n",
      "\u001b[1;32m~\\AppData\\Local\\Packages\\PythonSoftwareFoundation.Python.3.9_qbz5n2kfra8p0\\LocalCache\\local-packages\\Python39\\site-packages\\vaex\\__init__.py\u001b[0m in \u001b[0;36mfrom_csv\u001b[1;34m(filename_or_buffer, copy_index, chunk_size, convert, fs_options, fs, **kwargs)\u001b[0m\n\u001b[0;32m    524\u001b[0m     \"\"\"\n\u001b[0;32m    525\u001b[0m     \u001b[1;32mif\u001b[0m \u001b[1;32mnot\u001b[0m \u001b[0mconvert\u001b[0m\u001b[1;33m:\u001b[0m\u001b[1;33m\u001b[0m\u001b[1;33m\u001b[0m\u001b[0m\n\u001b[1;32m--> 526\u001b[1;33m         return _from_csv_read(filename_or_buffer=filename_or_buffer, copy_index=copy_index,\n\u001b[0m\u001b[0;32m    527\u001b[0m                               fs_options=fs_options, fs=fs, chunk_size=chunk_size, **kwargs)\n\u001b[0;32m    528\u001b[0m     \u001b[1;32melse\u001b[0m\u001b[1;33m:\u001b[0m\u001b[1;33m\u001b[0m\u001b[1;33m\u001b[0m\u001b[0m\n",
      "\u001b[1;32m~\\AppData\\Local\\Packages\\PythonSoftwareFoundation.Python.3.9_qbz5n2kfra8p0\\LocalCache\\local-packages\\Python39\\site-packages\\vaex\\__init__.py\u001b[0m in \u001b[0;36m_from_csv_read\u001b[1;34m(filename_or_buffer, copy_index, chunk_size, fs_options, fs, **kwargs)\u001b[0m\n\u001b[0;32m    545\u001b[0m     \u001b[1;32mimport\u001b[0m \u001b[0mpandas\u001b[0m \u001b[1;32mas\u001b[0m \u001b[0mpd\u001b[0m\u001b[1;33m\u001b[0m\u001b[1;33m\u001b[0m\u001b[0m\n\u001b[0;32m    546\u001b[0m     \u001b[1;32mif\u001b[0m \u001b[1;32mnot\u001b[0m \u001b[0mchunk_size\u001b[0m\u001b[1;33m:\u001b[0m\u001b[1;33m\u001b[0m\u001b[1;33m\u001b[0m\u001b[0m\n\u001b[1;32m--> 547\u001b[1;33m         \u001b[1;32mwith\u001b[0m \u001b[0mvaex\u001b[0m\u001b[1;33m.\u001b[0m\u001b[0mfile\u001b[0m\u001b[1;33m.\u001b[0m\u001b[0mopen\u001b[0m\u001b[1;33m(\u001b[0m\u001b[0mfilename_or_buffer\u001b[0m\u001b[1;33m,\u001b[0m \u001b[0mfs_options\u001b[0m\u001b[1;33m=\u001b[0m\u001b[0mfs_options\u001b[0m\u001b[1;33m,\u001b[0m \u001b[0mfs\u001b[0m\u001b[1;33m=\u001b[0m\u001b[0mfs\u001b[0m\u001b[1;33m,\u001b[0m \u001b[0mfor_arrow\u001b[0m\u001b[1;33m=\u001b[0m\u001b[1;32mTrue\u001b[0m\u001b[1;33m)\u001b[0m \u001b[1;32mas\u001b[0m \u001b[0mf\u001b[0m\u001b[1;33m:\u001b[0m\u001b[1;33m\u001b[0m\u001b[1;33m\u001b[0m\u001b[0m\n\u001b[0m\u001b[0;32m    548\u001b[0m             \u001b[0mfull_df\u001b[0m \u001b[1;33m=\u001b[0m \u001b[0mpd\u001b[0m\u001b[1;33m.\u001b[0m\u001b[0mread_csv\u001b[0m\u001b[1;33m(\u001b[0m\u001b[0mf\u001b[0m\u001b[1;33m,\u001b[0m \u001b[1;33m**\u001b[0m\u001b[0mkwargs\u001b[0m\u001b[1;33m)\u001b[0m\u001b[1;33m\u001b[0m\u001b[1;33m\u001b[0m\u001b[0m\n\u001b[0;32m    549\u001b[0m             \u001b[1;32mreturn\u001b[0m \u001b[0mfrom_pandas\u001b[0m\u001b[1;33m(\u001b[0m\u001b[0mfull_df\u001b[0m\u001b[1;33m,\u001b[0m \u001b[0mcopy_index\u001b[0m\u001b[1;33m=\u001b[0m\u001b[0mcopy_index\u001b[0m\u001b[1;33m)\u001b[0m\u001b[1;33m\u001b[0m\u001b[1;33m\u001b[0m\u001b[0m\n",
      "\u001b[1;32m~\\AppData\\Local\\Packages\\PythonSoftwareFoundation.Python.3.9_qbz5n2kfra8p0\\LocalCache\\local-packages\\Python39\\site-packages\\vaex\\file\\__init__.py\u001b[0m in \u001b[0;36mopen\u001b[1;34m(path, mode, fs_options, fs, for_arrow, mmap, encoding)\u001b[0m\n\u001b[0;32m    267\u001b[0m                 \u001b[1;32mreturn\u001b[0m \u001b[0mpa\u001b[0m\u001b[1;33m.\u001b[0m\u001b[0mmemory_map\u001b[0m\u001b[1;33m(\u001b[0m\u001b[0mpath\u001b[0m\u001b[1;33m,\u001b[0m \u001b[0mmode\u001b[0m\u001b[1;33m)\u001b[0m\u001b[1;33m\u001b[0m\u001b[1;33m\u001b[0m\u001b[0m\n\u001b[0;32m    268\u001b[0m             \u001b[1;32melse\u001b[0m\u001b[1;33m:\u001b[0m\u001b[1;33m\u001b[0m\u001b[1;33m\u001b[0m\u001b[0m\n\u001b[1;32m--> 269\u001b[1;33m                 \u001b[1;32mreturn\u001b[0m \u001b[0mpa\u001b[0m\u001b[1;33m.\u001b[0m\u001b[0mOSFile\u001b[0m\u001b[1;33m(\u001b[0m\u001b[0mpath\u001b[0m\u001b[1;33m,\u001b[0m \u001b[0mmode\u001b[0m\u001b[1;33m)\u001b[0m\u001b[1;33m\u001b[0m\u001b[1;33m\u001b[0m\u001b[0m\n\u001b[0m\u001b[0;32m    270\u001b[0m         \u001b[1;32melse\u001b[0m\u001b[1;33m:\u001b[0m\u001b[1;33m\u001b[0m\u001b[1;33m\u001b[0m\u001b[0m\n\u001b[0;32m    271\u001b[0m             \u001b[1;32mif\u001b[0m \u001b[1;34m'b'\u001b[0m \u001b[1;32mnot\u001b[0m \u001b[1;32min\u001b[0m \u001b[0mmode\u001b[0m\u001b[1;33m:\u001b[0m\u001b[1;33m\u001b[0m\u001b[1;33m\u001b[0m\u001b[0m\n",
      "\u001b[1;32m~\\AppData\\Local\\Packages\\PythonSoftwareFoundation.Python.3.9_qbz5n2kfra8p0\\LocalCache\\local-packages\\Python39\\site-packages\\pyarrow\\io.pxi\u001b[0m in \u001b[0;36mpyarrow.lib.OSFile.__cinit__\u001b[1;34m()\u001b[0m\n",
      "\u001b[1;32m~\\AppData\\Local\\Packages\\PythonSoftwareFoundation.Python.3.9_qbz5n2kfra8p0\\LocalCache\\local-packages\\Python39\\site-packages\\pyarrow\\io.pxi\u001b[0m in \u001b[0;36mpyarrow.lib.OSFile._open_readable\u001b[1;34m()\u001b[0m\n",
      "\u001b[1;32m~\\AppData\\Local\\Packages\\PythonSoftwareFoundation.Python.3.9_qbz5n2kfra8p0\\LocalCache\\local-packages\\Python39\\site-packages\\pyarrow\\error.pxi\u001b[0m in \u001b[0;36mpyarrow.lib.pyarrow_internal_check_status\u001b[1;34m()\u001b[0m\n",
      "\u001b[1;32m~\\AppData\\Local\\Packages\\PythonSoftwareFoundation.Python.3.9_qbz5n2kfra8p0\\LocalCache\\local-packages\\Python39\\site-packages\\pyarrow\\error.pxi\u001b[0m in \u001b[0;36mpyarrow.lib.check_status\u001b[1;34m()\u001b[0m\n",
      "\u001b[1;31mFileNotFoundError\u001b[0m: [WinError 2] Failed to open local file 'data/es_forecast.csv'. Detail: [Windows error 2] Das System kann die angegebene Datei nicht finden.\r\n"
     ]
    }
   ],
   "metadata": {}
  },
  {
   "cell_type": "markdown",
   "source": [
    "columns: `dt_start_utc`, `power_mw`, `carrier`, `type`, `area`, `version_utc`\r\n",
    "\r\n",
    "carrier.value_counts(): Gesamt 15896126, Wind Offshore 7010591, Solar 6993803, Wind Onshore 6975911, dtype int64\r\n",
    " \r\n",
    "type.value_counts(): Renewables Forecast 28033409, Load Forecast 8843022, dtype int64\r\n",
    "\r\n",
    "area.value_counts(): 50Hertz 10652224, TTG (=Tennet) 10608236, DE 10435444, DK1 2594607, DK 2585920, dtype int64\r\n",
    "\r\n",
    "We split the large hdf5 file by carrier and type into ordinary pandas data frames, remove duplicates, sort by `dt_start_utc` time stamps, and write into `es_fc_solar_ts`, `es_fc_wind_offshore_ts`, `es_fc_wind_onshore_ts`, `es_fc_total_renewables_ts`, `es_fc_total_load_ts`. For many data points (146 000 from 158 000), the entries of `es_fc_total_load_ts` coincide with the entries of solar, wind_offshore or wind_onshore, but in a seemingly random way. Therefore, we ignore this file in what follows."
   ],
   "metadata": {}
  },
  {
   "cell_type": "code",
   "execution_count": null,
   "source": [
    "esf = vaex.open('data_raw/es_forecast.hdf5')\r\n",
    "esf['dt_start_utc'] = esf['dt_start_utc'].astype('datetime64')\r\n",
    "\r\n",
    "carriers = esf.carrier.unique()\r\n",
    "types = esf['type'].unique()\r\n",
    "\r\n",
    "for c in carriers:\r\n",
    "    for t in types:\r\n",
    "        print(c, t)\r\n",
    "        df = esf[esf.carrier == c][esf.type == t].to_pandas_df(['dt_start_utc', 'power_mw', \r\n",
    "                                                                'area', 'version_utc'])\r\n",
    "        df.drop_duplicates(subset=['dt_start_utc', 'area'], inplace=True)\r\n",
    "        if len(df) > 0:\r\n",
    "            df.sort_values('dt_start_utc', inplace=True)\r\n",
    "            df.set_index('dt_start_utc', inplace=True)\r\n",
    "            filename = c.replace(' ','_')\r\n",
    "            if c == 'Gesamt':\r\n",
    "                filename = 'total' + '_' + t[:t.find(' ')]\r\n",
    "            filename = 'es_fc_' + filename.lower()\r\n",
    "            print(filename, len(df))\r\n",
    "            df.to_csv('data_raw/'+filename+'.csv')"
   ],
   "outputs": [],
   "metadata": {}
  },
  {
   "cell_type": "markdown",
   "source": [
    "After 2019-09-23, the `version_utc` time stamp is older than `dt_start_utc`. Therefore, we may assume that the values are always known at the time they are predicted for. So, we drop `version_utc`, remove occasional further duplicates due to different forecasts (later on one may collect these forecasts into a dict or take the last one or ...) and cast each of these ordinary data frames into a time series by means of the `cast` function with method `column`, filling nans by method `ffill`."
   ],
   "metadata": {}
  },
  {
   "cell_type": "markdown",
   "source": [
    "### `regelleistung_demand` and `regelleistung_aggr`\r\n",
    "\r\n",
    "The columns `date_start` and `date_end` have the same entries --> drop `date_end`\r\n",
    "\r\n",
    "The column `reserve_type` has values MRL (Minutenreserveleistung, Tertiärregelung) and SRL (Sekundärregelleistung). For MRL, `total_demand_mw` and `germany_block_demand_mw` have the same entries. For SRL, this holds until 2020-01-31, after that the difference first - second is 200, independent of `product`. Therefore, we turn them into the columns MRL, SRL_total, SRL_germany.\r\n",
    "\r\n",
    "The column `product` contains `NEG_00_04` valid from 00:00 to 04:00, `NEG_04_08` valid from 04:00 to 08:00 etc and the same with `NEG` replaced by `POS`. We split it accordingly so that `NEG` and `POS` combine with the remaining columns to 52 new columns and the timestamp runs in 4h steps: "
   ],
   "metadata": {}
  },
  {
   "cell_type": "code",
   "execution_count": 6,
   "source": [
    "filename = 'regelleistung_aggr'# and 'regelleistung_demand'\r\n",
    "df = pd.read_csv('data/'+filename+'_ts.csv')#, parse_dates=['dt_start_utc'])#.iloc[:1000]\r\n",
    "\r\n",
    "hours = ['00_04', '04_08', '08_12', '12_16', '16_20', '20_24']\r\n",
    "start = df.date_start.iloc[0]\r\n",
    "end = df.date_start.iloc[-1]\r\n",
    "dfl = []\r\n",
    "for hour in hours:\r\n",
    "    cols = [x for x in df.columns if hour in x]\r\n",
    "    dfi = df[['date_start'] + cols]\r\n",
    "    dfi['date_start'] = dfi.date_start + ' ' + hour[:2] + ':00:00'\r\n",
    "    dfi.rename(columns = {'date_start':'dt_start_utc'}, inplace=True)\r\n",
    "    dfi['dt_start_utc'] = dfi.dt_start_utc.astype('datetime64')\r\n",
    "    dfi.set_index('dt_start_utc', drop=True, inplace=True)\r\n",
    "    if hour != '00_04':\r\n",
    "        firstrow = pd.DataFrame(data=[[start+' 00:00:00'] + [0 for col in cols]], columns=['dt_start_utc']+cols)\r\n",
    "        firstrow['dt_start_utc'] = firstrow.dt_start_utc.astype('datetime64')\r\n",
    "        firstrow.set_index('dt_start_utc', drop=True, inplace=True)\r\n",
    "        dfi = pd.concat([firstrow, dfi], axis=0)\r\n",
    "    if hour != '20_24':\r\n",
    "        lastrow = pd.DataFrame(data=[[end+' 20:00:00'] + [0 for col in cols]], columns=['dt_start_utc']+cols)\r\n",
    "        lastrow['dt_start_utc'] = lastrow.dt_start_utc.astype('datetime64')\r\n",
    "        lastrow.set_index('dt_start_utc', drop=True, inplace=True)\r\n",
    "        dfi = pd.concat([dfi, lastrow], axis=0)\r\n",
    "    dfi.columns = [x.replace('NEG_'+hour, 'neg') for x in dfi.columns]\r\n",
    "    dfi.columns = [x.replace('POS_'+hour, 'pos') for x in dfi.columns]\r\n",
    "    dfi.columns = [x.lower() for x in dfi.columns]\r\n",
    "    dfl.append(dfi)\r\n",
    "\r\n",
    "dft = align(*dfl, value=0)\r\n",
    "\r\n",
    "cols = [x[2:] for x in dft.columns if '1_' in x]\r\n",
    "\r\n",
    "for col in cols:\r\n",
    "    nrcols = [str(i)+'_'+col for i in range(1,7)]\r\n",
    "    dft[col] = dft[nrcols].sum(axis=1)\r\n",
    "\r\n",
    "dft[cols].to_csv('data/'+filename+'_4h.csv')"
   ],
   "outputs": [
    {
     "output_type": "error",
     "ename": "FileNotFoundError",
     "evalue": "[Errno 2] No such file or directory: 'data/regelleistung_aggr_ts.csv'",
     "traceback": [
      "\u001b[1;31m---------------------------------------------------------------------------\u001b[0m",
      "\u001b[1;31mFileNotFoundError\u001b[0m                         Traceback (most recent call last)",
      "\u001b[1;32m~\\AppData\\Local\\Temp/ipykernel_10380/510401220.py\u001b[0m in \u001b[0;36m<module>\u001b[1;34m\u001b[0m\n\u001b[0;32m      1\u001b[0m \u001b[0mfilename\u001b[0m \u001b[1;33m=\u001b[0m \u001b[1;34m'regelleistung_aggr'\u001b[0m\u001b[1;31m# and 'regelleistung_demand'\u001b[0m\u001b[1;33m\u001b[0m\u001b[1;33m\u001b[0m\u001b[0m\n\u001b[1;32m----> 2\u001b[1;33m \u001b[0mdf\u001b[0m \u001b[1;33m=\u001b[0m \u001b[0mpd\u001b[0m\u001b[1;33m.\u001b[0m\u001b[0mread_csv\u001b[0m\u001b[1;33m(\u001b[0m\u001b[1;34m'data/'\u001b[0m\u001b[1;33m+\u001b[0m\u001b[0mfilename\u001b[0m\u001b[1;33m+\u001b[0m\u001b[1;34m'_ts.csv'\u001b[0m\u001b[1;33m)\u001b[0m\u001b[1;31m#, parse_dates=['dt_start_utc'])#.iloc[:1000]\u001b[0m\u001b[1;33m\u001b[0m\u001b[1;33m\u001b[0m\u001b[0m\n\u001b[0m\u001b[0;32m      3\u001b[0m \u001b[1;33m\u001b[0m\u001b[0m\n\u001b[0;32m      4\u001b[0m \u001b[0mhours\u001b[0m \u001b[1;33m=\u001b[0m \u001b[1;33m[\u001b[0m\u001b[1;34m'00_04'\u001b[0m\u001b[1;33m,\u001b[0m \u001b[1;34m'04_08'\u001b[0m\u001b[1;33m,\u001b[0m \u001b[1;34m'08_12'\u001b[0m\u001b[1;33m,\u001b[0m \u001b[1;34m'12_16'\u001b[0m\u001b[1;33m,\u001b[0m \u001b[1;34m'16_20'\u001b[0m\u001b[1;33m,\u001b[0m \u001b[1;34m'20_24'\u001b[0m\u001b[1;33m]\u001b[0m\u001b[1;33m\u001b[0m\u001b[1;33m\u001b[0m\u001b[0m\n\u001b[0;32m      5\u001b[0m \u001b[0mstart\u001b[0m \u001b[1;33m=\u001b[0m \u001b[0mdf\u001b[0m\u001b[1;33m.\u001b[0m\u001b[0mdate_start\u001b[0m\u001b[1;33m.\u001b[0m\u001b[0miloc\u001b[0m\u001b[1;33m[\u001b[0m\u001b[1;36m0\u001b[0m\u001b[1;33m]\u001b[0m\u001b[1;33m\u001b[0m\u001b[1;33m\u001b[0m\u001b[0m\n",
      "\u001b[1;32m~\\AppData\\Local\\Packages\\PythonSoftwareFoundation.Python.3.9_qbz5n2kfra8p0\\LocalCache\\local-packages\\Python39\\site-packages\\pandas\\util\\_decorators.py\u001b[0m in \u001b[0;36mwrapper\u001b[1;34m(*args, **kwargs)\u001b[0m\n\u001b[0;32m    309\u001b[0m                     \u001b[0mstacklevel\u001b[0m\u001b[1;33m=\u001b[0m\u001b[0mstacklevel\u001b[0m\u001b[1;33m,\u001b[0m\u001b[1;33m\u001b[0m\u001b[1;33m\u001b[0m\u001b[0m\n\u001b[0;32m    310\u001b[0m                 )\n\u001b[1;32m--> 311\u001b[1;33m             \u001b[1;32mreturn\u001b[0m \u001b[0mfunc\u001b[0m\u001b[1;33m(\u001b[0m\u001b[1;33m*\u001b[0m\u001b[0margs\u001b[0m\u001b[1;33m,\u001b[0m \u001b[1;33m**\u001b[0m\u001b[0mkwargs\u001b[0m\u001b[1;33m)\u001b[0m\u001b[1;33m\u001b[0m\u001b[1;33m\u001b[0m\u001b[0m\n\u001b[0m\u001b[0;32m    312\u001b[0m \u001b[1;33m\u001b[0m\u001b[0m\n\u001b[0;32m    313\u001b[0m         \u001b[1;32mreturn\u001b[0m \u001b[0mwrapper\u001b[0m\u001b[1;33m\u001b[0m\u001b[1;33m\u001b[0m\u001b[0m\n",
      "\u001b[1;32m~\\AppData\\Local\\Packages\\PythonSoftwareFoundation.Python.3.9_qbz5n2kfra8p0\\LocalCache\\local-packages\\Python39\\site-packages\\pandas\\io\\parsers\\readers.py\u001b[0m in \u001b[0;36mread_csv\u001b[1;34m(filepath_or_buffer, sep, delimiter, header, names, index_col, usecols, squeeze, prefix, mangle_dupe_cols, dtype, engine, converters, true_values, false_values, skipinitialspace, skiprows, skipfooter, nrows, na_values, keep_default_na, na_filter, verbose, skip_blank_lines, parse_dates, infer_datetime_format, keep_date_col, date_parser, dayfirst, cache_dates, iterator, chunksize, compression, thousands, decimal, lineterminator, quotechar, quoting, doublequote, escapechar, comment, encoding, encoding_errors, dialect, error_bad_lines, warn_bad_lines, on_bad_lines, delim_whitespace, low_memory, memory_map, float_precision, storage_options)\u001b[0m\n\u001b[0;32m    584\u001b[0m     \u001b[0mkwds\u001b[0m\u001b[1;33m.\u001b[0m\u001b[0mupdate\u001b[0m\u001b[1;33m(\u001b[0m\u001b[0mkwds_defaults\u001b[0m\u001b[1;33m)\u001b[0m\u001b[1;33m\u001b[0m\u001b[1;33m\u001b[0m\u001b[0m\n\u001b[0;32m    585\u001b[0m \u001b[1;33m\u001b[0m\u001b[0m\n\u001b[1;32m--> 586\u001b[1;33m     \u001b[1;32mreturn\u001b[0m \u001b[0m_read\u001b[0m\u001b[1;33m(\u001b[0m\u001b[0mfilepath_or_buffer\u001b[0m\u001b[1;33m,\u001b[0m \u001b[0mkwds\u001b[0m\u001b[1;33m)\u001b[0m\u001b[1;33m\u001b[0m\u001b[1;33m\u001b[0m\u001b[0m\n\u001b[0m\u001b[0;32m    587\u001b[0m \u001b[1;33m\u001b[0m\u001b[0m\n\u001b[0;32m    588\u001b[0m \u001b[1;33m\u001b[0m\u001b[0m\n",
      "\u001b[1;32m~\\AppData\\Local\\Packages\\PythonSoftwareFoundation.Python.3.9_qbz5n2kfra8p0\\LocalCache\\local-packages\\Python39\\site-packages\\pandas\\io\\parsers\\readers.py\u001b[0m in \u001b[0;36m_read\u001b[1;34m(filepath_or_buffer, kwds)\u001b[0m\n\u001b[0;32m    480\u001b[0m \u001b[1;33m\u001b[0m\u001b[0m\n\u001b[0;32m    481\u001b[0m     \u001b[1;31m# Create the parser.\u001b[0m\u001b[1;33m\u001b[0m\u001b[1;33m\u001b[0m\u001b[1;33m\u001b[0m\u001b[0m\n\u001b[1;32m--> 482\u001b[1;33m     \u001b[0mparser\u001b[0m \u001b[1;33m=\u001b[0m \u001b[0mTextFileReader\u001b[0m\u001b[1;33m(\u001b[0m\u001b[0mfilepath_or_buffer\u001b[0m\u001b[1;33m,\u001b[0m \u001b[1;33m**\u001b[0m\u001b[0mkwds\u001b[0m\u001b[1;33m)\u001b[0m\u001b[1;33m\u001b[0m\u001b[1;33m\u001b[0m\u001b[0m\n\u001b[0m\u001b[0;32m    483\u001b[0m \u001b[1;33m\u001b[0m\u001b[0m\n\u001b[0;32m    484\u001b[0m     \u001b[1;32mif\u001b[0m \u001b[0mchunksize\u001b[0m \u001b[1;32mor\u001b[0m \u001b[0miterator\u001b[0m\u001b[1;33m:\u001b[0m\u001b[1;33m\u001b[0m\u001b[1;33m\u001b[0m\u001b[0m\n",
      "\u001b[1;32m~\\AppData\\Local\\Packages\\PythonSoftwareFoundation.Python.3.9_qbz5n2kfra8p0\\LocalCache\\local-packages\\Python39\\site-packages\\pandas\\io\\parsers\\readers.py\u001b[0m in \u001b[0;36m__init__\u001b[1;34m(self, f, engine, **kwds)\u001b[0m\n\u001b[0;32m    809\u001b[0m             \u001b[0mself\u001b[0m\u001b[1;33m.\u001b[0m\u001b[0moptions\u001b[0m\u001b[1;33m[\u001b[0m\u001b[1;34m\"has_index_names\"\u001b[0m\u001b[1;33m]\u001b[0m \u001b[1;33m=\u001b[0m \u001b[0mkwds\u001b[0m\u001b[1;33m[\u001b[0m\u001b[1;34m\"has_index_names\"\u001b[0m\u001b[1;33m]\u001b[0m\u001b[1;33m\u001b[0m\u001b[1;33m\u001b[0m\u001b[0m\n\u001b[0;32m    810\u001b[0m \u001b[1;33m\u001b[0m\u001b[0m\n\u001b[1;32m--> 811\u001b[1;33m         \u001b[0mself\u001b[0m\u001b[1;33m.\u001b[0m\u001b[0m_engine\u001b[0m \u001b[1;33m=\u001b[0m \u001b[0mself\u001b[0m\u001b[1;33m.\u001b[0m\u001b[0m_make_engine\u001b[0m\u001b[1;33m(\u001b[0m\u001b[0mself\u001b[0m\u001b[1;33m.\u001b[0m\u001b[0mengine\u001b[0m\u001b[1;33m)\u001b[0m\u001b[1;33m\u001b[0m\u001b[1;33m\u001b[0m\u001b[0m\n\u001b[0m\u001b[0;32m    812\u001b[0m \u001b[1;33m\u001b[0m\u001b[0m\n\u001b[0;32m    813\u001b[0m     \u001b[1;32mdef\u001b[0m \u001b[0mclose\u001b[0m\u001b[1;33m(\u001b[0m\u001b[0mself\u001b[0m\u001b[1;33m)\u001b[0m\u001b[1;33m:\u001b[0m\u001b[1;33m\u001b[0m\u001b[1;33m\u001b[0m\u001b[0m\n",
      "\u001b[1;32m~\\AppData\\Local\\Packages\\PythonSoftwareFoundation.Python.3.9_qbz5n2kfra8p0\\LocalCache\\local-packages\\Python39\\site-packages\\pandas\\io\\parsers\\readers.py\u001b[0m in \u001b[0;36m_make_engine\u001b[1;34m(self, engine)\u001b[0m\n\u001b[0;32m   1038\u001b[0m             )\n\u001b[0;32m   1039\u001b[0m         \u001b[1;31m# error: Too many arguments for \"ParserBase\"\u001b[0m\u001b[1;33m\u001b[0m\u001b[1;33m\u001b[0m\u001b[1;33m\u001b[0m\u001b[0m\n\u001b[1;32m-> 1040\u001b[1;33m         \u001b[1;32mreturn\u001b[0m \u001b[0mmapping\u001b[0m\u001b[1;33m[\u001b[0m\u001b[0mengine\u001b[0m\u001b[1;33m]\u001b[0m\u001b[1;33m(\u001b[0m\u001b[0mself\u001b[0m\u001b[1;33m.\u001b[0m\u001b[0mf\u001b[0m\u001b[1;33m,\u001b[0m \u001b[1;33m**\u001b[0m\u001b[0mself\u001b[0m\u001b[1;33m.\u001b[0m\u001b[0moptions\u001b[0m\u001b[1;33m)\u001b[0m  \u001b[1;31m# type: ignore[call-arg]\u001b[0m\u001b[1;33m\u001b[0m\u001b[1;33m\u001b[0m\u001b[0m\n\u001b[0m\u001b[0;32m   1041\u001b[0m \u001b[1;33m\u001b[0m\u001b[0m\n\u001b[0;32m   1042\u001b[0m     \u001b[1;32mdef\u001b[0m \u001b[0m_failover_to_python\u001b[0m\u001b[1;33m(\u001b[0m\u001b[0mself\u001b[0m\u001b[1;33m)\u001b[0m\u001b[1;33m:\u001b[0m\u001b[1;33m\u001b[0m\u001b[1;33m\u001b[0m\u001b[0m\n",
      "\u001b[1;32m~\\AppData\\Local\\Packages\\PythonSoftwareFoundation.Python.3.9_qbz5n2kfra8p0\\LocalCache\\local-packages\\Python39\\site-packages\\pandas\\io\\parsers\\c_parser_wrapper.py\u001b[0m in \u001b[0;36m__init__\u001b[1;34m(self, src, **kwds)\u001b[0m\n\u001b[0;32m     49\u001b[0m \u001b[1;33m\u001b[0m\u001b[0m\n\u001b[0;32m     50\u001b[0m         \u001b[1;31m# open handles\u001b[0m\u001b[1;33m\u001b[0m\u001b[1;33m\u001b[0m\u001b[1;33m\u001b[0m\u001b[0m\n\u001b[1;32m---> 51\u001b[1;33m         \u001b[0mself\u001b[0m\u001b[1;33m.\u001b[0m\u001b[0m_open_handles\u001b[0m\u001b[1;33m(\u001b[0m\u001b[0msrc\u001b[0m\u001b[1;33m,\u001b[0m \u001b[0mkwds\u001b[0m\u001b[1;33m)\u001b[0m\u001b[1;33m\u001b[0m\u001b[1;33m\u001b[0m\u001b[0m\n\u001b[0m\u001b[0;32m     52\u001b[0m         \u001b[1;32massert\u001b[0m \u001b[0mself\u001b[0m\u001b[1;33m.\u001b[0m\u001b[0mhandles\u001b[0m \u001b[1;32mis\u001b[0m \u001b[1;32mnot\u001b[0m \u001b[1;32mNone\u001b[0m\u001b[1;33m\u001b[0m\u001b[1;33m\u001b[0m\u001b[0m\n\u001b[0;32m     53\u001b[0m \u001b[1;33m\u001b[0m\u001b[0m\n",
      "\u001b[1;32m~\\AppData\\Local\\Packages\\PythonSoftwareFoundation.Python.3.9_qbz5n2kfra8p0\\LocalCache\\local-packages\\Python39\\site-packages\\pandas\\io\\parsers\\base_parser.py\u001b[0m in \u001b[0;36m_open_handles\u001b[1;34m(self, src, kwds)\u001b[0m\n\u001b[0;32m    220\u001b[0m         \u001b[0mLet\u001b[0m \u001b[0mthe\u001b[0m \u001b[0mreaders\u001b[0m \u001b[0mopen\u001b[0m \u001b[0mIOHandles\u001b[0m \u001b[0mafter\u001b[0m \u001b[0mthey\u001b[0m \u001b[0mare\u001b[0m \u001b[0mdone\u001b[0m \u001b[1;32mwith\u001b[0m \u001b[0mtheir\u001b[0m \u001b[0mpotential\u001b[0m \u001b[0mraises\u001b[0m\u001b[1;33m.\u001b[0m\u001b[1;33m\u001b[0m\u001b[1;33m\u001b[0m\u001b[0m\n\u001b[0;32m    221\u001b[0m         \"\"\"\n\u001b[1;32m--> 222\u001b[1;33m         self.handles = get_handle(\n\u001b[0m\u001b[0;32m    223\u001b[0m             \u001b[0msrc\u001b[0m\u001b[1;33m,\u001b[0m\u001b[1;33m\u001b[0m\u001b[1;33m\u001b[0m\u001b[0m\n\u001b[0;32m    224\u001b[0m             \u001b[1;34m\"r\"\u001b[0m\u001b[1;33m,\u001b[0m\u001b[1;33m\u001b[0m\u001b[1;33m\u001b[0m\u001b[0m\n",
      "\u001b[1;32m~\\AppData\\Local\\Packages\\PythonSoftwareFoundation.Python.3.9_qbz5n2kfra8p0\\LocalCache\\local-packages\\Python39\\site-packages\\pandas\\io\\common.py\u001b[0m in \u001b[0;36mget_handle\u001b[1;34m(path_or_buf, mode, encoding, compression, memory_map, is_text, errors, storage_options)\u001b[0m\n\u001b[0;32m    699\u001b[0m         \u001b[1;32mif\u001b[0m \u001b[0mioargs\u001b[0m\u001b[1;33m.\u001b[0m\u001b[0mencoding\u001b[0m \u001b[1;32mand\u001b[0m \u001b[1;34m\"b\"\u001b[0m \u001b[1;32mnot\u001b[0m \u001b[1;32min\u001b[0m \u001b[0mioargs\u001b[0m\u001b[1;33m.\u001b[0m\u001b[0mmode\u001b[0m\u001b[1;33m:\u001b[0m\u001b[1;33m\u001b[0m\u001b[1;33m\u001b[0m\u001b[0m\n\u001b[0;32m    700\u001b[0m             \u001b[1;31m# Encoding\u001b[0m\u001b[1;33m\u001b[0m\u001b[1;33m\u001b[0m\u001b[1;33m\u001b[0m\u001b[0m\n\u001b[1;32m--> 701\u001b[1;33m             handle = open(\n\u001b[0m\u001b[0;32m    702\u001b[0m                 \u001b[0mhandle\u001b[0m\u001b[1;33m,\u001b[0m\u001b[1;33m\u001b[0m\u001b[1;33m\u001b[0m\u001b[0m\n\u001b[0;32m    703\u001b[0m                 \u001b[0mioargs\u001b[0m\u001b[1;33m.\u001b[0m\u001b[0mmode\u001b[0m\u001b[1;33m,\u001b[0m\u001b[1;33m\u001b[0m\u001b[1;33m\u001b[0m\u001b[0m\n",
      "\u001b[1;31mFileNotFoundError\u001b[0m: [Errno 2] No such file or directory: 'data/regelleistung_aggr_ts.csv'"
     ]
    }
   ],
   "metadata": {
    "tags": []
   }
  },
  {
   "cell_type": "markdown",
   "source": [
    "### `wind_speed`\r\n",
    "\r\n",
    "There are no data for `voronoi_area_id` = 3.\r\n",
    "\r\n",
    "We apply the `cast` function with `method = 'forward'`. Still, there remain missing entries, due to some areas having no starting time. We fill them backwards, using `fillna` with `method = 'bfill'`."
   ],
   "metadata": {}
  },
  {
   "cell_type": "markdown",
   "source": [
    "### `epex_da_prognosis`\r\n",
    "\r\n",
    "We turn `dt_fc_utc` into the number of days in advance the prognosis was made:"
   ],
   "metadata": {}
  },
  {
   "cell_type": "code",
   "execution_count": null,
   "source": [
    "df['dt_fc_utc'] = (df.dt_start_utc.dt.date - df.dt_fc_utc.dt.date).astype('int')//86400000000000"
   ],
   "outputs": [],
   "metadata": {}
  },
  {
   "cell_type": "markdown",
   "source": [
    "After casting the file into a dictionary aggregated time series, we read off the last and the second last prognosis:"
   ],
   "metadata": {}
  },
  {
   "cell_type": "code",
   "execution_count": null,
   "source": [
    "df2 = pd.read_csv('data/epex_da_prognosis_ts.csv', parse_dates=True, index_col='dt_start_utc')\r\n",
    "df2['forecasts'] = [ast.literal_eval(x) for x in df2.da_price_eur_mwh]\r\n",
    "df2['newest_fc'] = [x[str(min(int(y) for y in x.keys()))] \r\n",
    "                    #if '1' in x.keys() \r\n",
    "                    #else x['2'] if '2' in x.keys() \r\n",
    "                    #else x['3'] if '3' in x.keys()                     \r\n",
    "                    #else None \r\n",
    "                    for x in df2.forecasts]\r\n",
    "df2['second_newest_fc'] = [x[sorted(x.keys())[1]] \r\n",
    "                    if len(x.keys()) > 1 else None\r\n",
    "                    #else x['2'] if '2' in x.keys() \r\n",
    "                    #else x['3'] if '3' in x.keys()                     \r\n",
    "                    #else None \r\n",
    "                    for x in df2.forecasts]\r\n",
    "\r\n",
    "df2.drop(['forecasts'], axis=1, inplace=True)"
   ],
   "outputs": [],
   "metadata": {}
  },
  {
   "cell_type": "markdown",
   "source": [
    "### `crossborder_flows`\r\n",
    "\r\n",
    "Data are available only with a delay of 4h and are poorly correlated. Therefore, we omit them in our model."
   ],
   "metadata": {}
  },
  {
   "cell_type": "markdown",
   "source": [
    "## SMARD data\r\n",
    "\r\n",
    "Source: https://www.smard.de/home/downloadcenter/download-marktdaten \r\n",
    "\r\n",
    "The time stamps are Central European Time (UTC+1h during winter time and UTC+2h during summer time). They have been transformed to UTC.\r\n",
    "\r\n",
    "The delays given here are estimates from occasional observation of the website. They may depend on daytime, and they may be longer in the night. When they shall be used live, the delay times have to be checked more carefully (eg with the publication deadline regulations from https://www.smard.de/home/datennutzung) and a workaround for the situation where live values are accidentally missing is needed.\r\n",
    "\r\n",
    "We reshape these files via the following routine, given here for the example of consumption_ac:"
   ],
   "metadata": {}
  },
  {
   "cell_type": "code",
   "execution_count": null,
   "source": [
    "def time2idx(df):\r\n",
    "    df['Datum'] = [x[6:]+'-'+x[3:5]+'-'+x[:2] for x in df.Datum]\r\n",
    "    df['dt_start_utc'] = df.Datum + ' ' + df.Uhrzeit\r\n",
    "    df['dt_start_utc'] = (df.Datum + ' ' + df.Uhrzeit).astype('datetime64')\r\n",
    "    df.set_index('dt_start_utc', inplace=True)\r\n",
    "    return df.drop(['Datum', 'Uhrzeit'], axis=1)"
   ],
   "outputs": [],
   "metadata": {}
  },
  {
   "cell_type": "code",
   "execution_count": null,
   "source": [
    "dfl = [time2idx(pd.read_csv('smard/consumption/consumption_ac/consumption_ac_2015.csv', sep=';')), \r\n",
    "       time2idx(pd.read_csv('smard/consumption/consumption_ac/consumption_ac_2016.csv', sep=';')), \r\n",
    "       time2idx(pd.read_csv('smard/consumption/consumption_ac/consumption_ac_2017.csv', sep=';')), \r\n",
    "       time2idx(pd.read_csv('smard/consumption/consumption_ac/consumption_ac_2018.csv', sep=';')), \r\n",
    "       time2idx(pd.read_csv('smard/consumption/consumption_ac/consumption_ac_2019.csv', sep=';')), \r\n",
    "       time2idx(pd.read_csv('smard/consumption/consumption_ac/consumption_ac_2020.csv', sep=';')), \r\n",
    "       time2idx(pd.read_csv('smard/consumption/consumption_ac/consumption_ac_2021.csv', sep=';'))\r\n",
    "      ]\r\n",
    "\r\n",
    "for i in range(len(dfl)):\r\n",
    "    print(dfl[i].columns)\r\n",
    "\r\n",
    "for i in range(len(dfl)):\r\n",
    "    dfl[i].rename(columns={'Gesamt_(Netzlast)[MWh]_real_verb':'consumption_ac_mwh',\r\n",
    "                      'Residuallast[MWh]_real_verb':'residual_ac_mwh',\r\n",
    "                      'Pumpspeicher[MWh]_real_verb':'pump_storage_ac_mwh'\r\n",
    "                     }, inplace=True)\r\n",
    "              \r\n",
    "df = pd.concat(dfl, axis=0)\r\n",
    "\r\n",
    "df.to_csv('data/smard_consumption_ac.csv')"
   ],
   "outputs": [],
   "metadata": {}
  },
  {
   "cell_type": "markdown",
   "source": [
    "### `smard_generation_ac`\n",
    "\n",
    "Actual generation in Germany. \n",
    "\n",
    "Source: Oberkategorie: Stromerzeugung > Datenkategorie: Realisierte Erzeugung > Land: Deutschland\n",
    "\n",
    "Delay: 2h (8 time steps)\n",
    "\n",
    "Columns renamer:"
   ],
   "metadata": {}
  },
  {
   "cell_type": "code",
   "execution_count": null,
   "source": [
    "for i in range(len(dfl)):\r\n",
    "    dfl[i].rename(columns={'Biomasse[MWh]_real_erzeugt':'gen_biomass_ac_mwh',\r\n",
    "                    'Wasserkraft[MWh]_real_erzeugt':'gen_waterpower_ac_mwh',\r\n",
    "                    'Wind Offshore[MWh]_real_erzeugt':'gen_wind_offshore_ac_mwh', \r\n",
    "                    'Wind Onshore[MWh]_real_erzeugt':'gen_wind_onshore_ac_mwh',\r\n",
    "                    'Photovoltaik[MWh]_real_erzeugt_real_erzeugt':'gen_solar_ac_mwh',\r\n",
    "                    'Sonstige Erneuerbare[MWh]_real_erzeugt':'gen_other_renewables_ac_mwh',\r\n",
    "                    'Kernenergie[MWh]_real_erzeugt':'gen_nuclear_ac_mwh', \r\n",
    "                    'Braunkohle[MWh]_real_erzeugt':'gen_lignite_ac_mwh',\r\n",
    "                    'Steinkohle[MWh]_real_erzeugt':'gen_anthracite_ac_mwh',\r\n",
    "                    'Erdgas[MWh]_real_erzeugt':'gen_gas_ac_mwh',\r\n",
    "                    'Pumpspeicher[MWh]_real_erzeugt':'gen_pumped_storage_ac_mwh',\r\n",
    "                    'Sonstige Konventionelle[MWh]_real_erzeugt':'gen_other_conventional_ac_mwh'\r\n",
    "                   }, inplace=True)"
   ],
   "outputs": [],
   "metadata": {
    "tags": []
   }
  },
  {
   "cell_type": "markdown",
   "source": [
    "### `smard_generation_fc`\r\n",
    "\r\n",
    "Prognosticated generation in Germany\r\n",
    "\r\n",
    "Source: Oberkategorie: Stromerzeugung > Datenkategorie: Prognostizierte Erzeugung > Land: Deutschland\r\n",
    "\r\n",
    "Delay: 0h\r\n",
    "\r\n",
    "Not included yet."
   ],
   "metadata": {
    "tags": []
   }
  },
  {
   "cell_type": "markdown",
   "source": [
    "### `smard_consumption_ac`\n",
    "\n",
    "Actual consumption in Germany\n",
    "\n",
    "Source: Oberkategorie: Stromverbrauch > Datenkategorie: Realisierter Stromverbrauch > Land: Deutschland\n",
    "\n",
    "Delay: 2h (8 time steps)\n",
    "\n",
    "Column renamer:"
   ],
   "metadata": {}
  },
  {
   "cell_type": "code",
   "execution_count": null,
   "source": [
    "for i in range(len(dfl)):\r\n",
    "    dfl[i].rename(columns={'Gesamt_(Netzlast)[MWh]_real_verb':'consumption_ac_mwh',\r\n",
    "                      'Residuallast[MWh]_real_verb':'residual_ac_mwh',\r\n",
    "                      'Pumpspeicher[MWh]_real_verb':'pump_storage_ac_mwh'\r\n",
    "                     }, inplace=True)"
   ],
   "outputs": [],
   "metadata": {}
  },
  {
   "cell_type": "markdown",
   "source": [
    "### `smard_consumption_fc`\n",
    "\n",
    "Prognosticated consumption in Germany\n",
    "\n",
    "Source: Oberkategorie: Stromverbrauch > Datenkategorie: Prognostizierter Stromverbrauch > Land: Deutschland\n",
    "\n",
    "Delay: 0h\n",
    "\n",
    "Column renamer:"
   ],
   "metadata": {
    "tags": []
   }
  },
  {
   "cell_type": "code",
   "execution_count": null,
   "source": [
    "for i in range(len(dfl)):\r\n",
    "    dfl[i].rename(columns={'Gesamt[MWh]_prog_verb':'consumption_fc_mwh',\r\n",
    "                           'Prognostizierte Residuallast[MWh]_prog_verb':'residual_fc_mwh'\r\n",
    "                          }, inplace=True)"
   ],
   "outputs": [],
   "metadata": {}
  },
  {
   "cell_type": "markdown",
   "source": [
    "### `smard_mrl`\n",
    "\n",
    "Minutenreserve\n",
    "\n",
    "Source: Oberkategorie: Systemstabilität > Datenkategorie: Minutenreserve > Land: Deutschland\n",
    "\n",
    "Delay: \n",
    "- 'mrl_energy_pos_mwh', 'mrl_energy_neg_mwh', mrl_energy_price_pos_eur_mwh', 'mrl_energy_price_neg_eur_mwh': unclear; assume 1h (4 time steps) like for `smard_srl`\n",
    "- 'mrl_capacity_pos_mwh', 'mrl_capacity_neg_mwh', 'mrl_capacity_price_pos_eur_mwh', 'mrl_capacity_price_neg_eur_mwh': 0h\n",
    "                           \n",
    "Column renamer:"
   ],
   "metadata": {}
  },
  {
   "cell_type": "code",
   "execution_count": null,
   "source": [
    "for i in range(len(dfl)):\r\n",
    "    dfl[i].rename(columns={'Abgerufene Menge (+)[MWh]_min_res':'mrl_energy_pos_mwh',\r\n",
    "                           'Abgerufene Menge (-)[MWh]_min_res':'mrl_energy_neg_mwh',\r\n",
    "                           'Arbeitspreis (+)[€/MWh]_min_res':'mrl_energy_price_pos_eur_mwh',\r\n",
    "                           'Arbeitspreis (-)[€/MWh]_min_res':'mrl_energy_price_neg_eur_mwh',\r\n",
    "                           'Vorgehaltene Menge (+)[MW]_min_res':'mrl_capacity_pos_mwh',\r\n",
    "                           'Vorgehaltene Menge (-)[MW]_min_res':'mrl_capacity_neg_mwh',\r\n",
    "                           'Leistungspreis (+)[€/MW]_min_res':'mrl_capacity_price_pos_eur_mwh',\r\n",
    "                           'Leistungspreis (-)[€/MW]_min_res':'mrl_capacity_price_neg_eur_mwh'\r\n",
    "                          }, inplace=True)"
   ],
   "outputs": [],
   "metadata": {}
  },
  {
   "cell_type": "markdown",
   "source": [
    "### `smard_prl`\r\n",
    "\r\n",
    "Primärregelreserve\r\n",
    "\r\n",
    "Source: Oberkategorie: Systemstabilität > Datenkategorie: Primärregelreserve > Land: Deutschland\r\n",
    "\r\n",
    "Delay: 0h"
   ],
   "metadata": {}
  },
  {
   "cell_type": "markdown",
   "source": [
    "### `smard_srl`\r\n",
    "\r\n",
    "Sekundärregelreserve\r\n",
    "\r\n",
    "Source: Oberkategorie: Systemstabilität > Datenkategorie: Sekundärregelreserve > Land: Deutschland\r\n",
    "\r\n",
    "Delay: \r\n",
    "- 'srl_energy_pos_mwh', 'srl_energy_neg_mwh', 'srl_energy_price_pos_eur_mwh', 'srl_energy_price_neg_eur_mwh': 1h (4 time steps)\r\n",
    "- 'srl_capacity_pos_mwh', 'srl_capacity_neg_mwh', 'srl_capacity_price_pos_eur_mwh', 'srl_capacity_price_neg_eur_mwh': 0h\r\n",
    "\r\n",
    "Column renamer:"
   ],
   "metadata": {}
  },
  {
   "cell_type": "code",
   "execution_count": null,
   "source": [
    "for i in range(len(dfl)):\r\n",
    "    dfl[i].rename(columns={'Abgerufene Menge (+)[MWh]_sek_rresv':'srl_energy_pos_mwh',\r\n",
    "                           'Abgerufene Menge (-)[MWh]_sek_rresv':'srl_energy_neg_mwh',\r\n",
    "                           'Arbeitspreis (+)[€/MWh]_sek_rresv':'srl_energy_price_pos_eur_mwh',\r\n",
    "                           'Arbeitspreis (-)[€/MWh]_sek_rresv':'srl_energy_price_neg_eur_mwh',\r\n",
    "                           'Vorgehaltene Menge (+)[MW]_sek_rresv':'srl_capacity_pos_mwh',\r\n",
    "                           'Vorgehaltene Menge (-)[MW]_sek_rresv':'srl_capacity_neg_mwh',\r\n",
    "                           'Leistungspreis (+)[€/MW]_sek_rresv':'srl_capacity_price_pos_eur_mwh',\r\n",
    "                           'Leistungspreis (-)[€/MW]_sek_rresv':'srl_capacity_price_neg_eur_mwh'\r\n",
    "                          }, inplace=True)"
   ],
   "outputs": [],
   "metadata": {}
  },
  {
   "cell_type": "markdown",
   "source": [
    "### `imbalance_at`\r\n",
    "\r\n",
    "same as `entsoe_imbalance_at` (see below)\r\n",
    "\r\n",
    "Source: Oberkategorie: Systemstabilität > Datenkategorie: Ausgleichsenergie > Land: Österreich\r\n",
    "\r\n",
    "Delay: 2.5h (10 time steps)\r\n",
    "\r\n",
    "Combined from `imbalance_export_at` and `imbalance_import_at` via"
   ],
   "metadata": {}
  },
  {
   "cell_type": "code",
   "execution_count": null,
   "source": [
    "for i in range(len(dfl)):\r\n",
    "    dfl[i].rename(columns={'Österreich[MWh]_exp_regel':'imbalance_export_at_mwh'\r\n",
    "                     }, inplace=True)\r\n",
    "\r\n",
    "dfl = [time2idx(pd.read_csv('data_raw/smard/stability/imbalance_export_at/imbalance_export_at_2016.csv', sep=';')), \r\n",
    "       time2idx(pd.read_csv('data_raw/smard/stability/imbalance_export_at/imbalance_export_at_2017_2018.csv', sep=';')), \r\n",
    "       time2idx(pd.read_csv('data_raw/smard/stability/imbalance_export_at/imbalance_export_at_2019_2020.csv', sep=';')), \r\n",
    "       time2idx(pd.read_csv('data_raw/smard/stability/imbalance_export_at/imbalance_export_at_2021.csv', sep=';')), \r\n",
    "      ]\r\n",
    "\r\n",
    "for i in range(len(dfl)):\r\n",
    "    print(dfl[i].columns)\r\n",
    "\r\n",
    "for i in range(len(dfl)):\r\n",
    "    dfl[i].rename(columns={'Österreich[MWh]_exp_regel':'imbalance_export_at_mwh'\r\n",
    "                     }, inplace=True)\r\n",
    "\r\n",
    "df1 = pd.concat(dfl, axis=0)\r\n",
    "\r\n",
    "dfl = [time2idx(pd.read_csv('data_raw/smard/stability/imbalance_import_at/imbalance_import_at_2016.csv', sep=';')), \r\n",
    "       time2idx(pd.read_csv('data_raw/smard/stability/imbalance_import_at/imbalance_import_at_2017_2018.csv', sep=';')), \r\n",
    "       time2idx(pd.read_csv('data_raw/smard/stability/imbalance_import_at/imbalance_import_at_2019_2020.csv', sep=';')), \r\n",
    "       time2idx(pd.read_csv('data_raw/smard/stability/imbalance_import_at/imbalance_import_at_2021.csv', sep=';')), \r\n",
    "      ]\r\n",
    "\r\n",
    "for i in range(len(dfl)):\r\n",
    "    print(dfl[i].columns)\r\n",
    "\r\n",
    "for i in range(len(dfl)):\r\n",
    "    dfl[i].rename(columns={'Österreich[MWh]_imp_regel':'imbalance_import_at_mwh'\r\n",
    "                     }, inplace=True)\r\n",
    "\r\n",
    "df = align(df1, df2, prefixes=('',''))\r\n",
    "\r\n",
    "df.to_csv('data/smard_imbalance_at.csv')"
   ],
   "outputs": [],
   "metadata": {
    "tags": []
   }
  },
  {
   "cell_type": "markdown",
   "source": [
    "## ENTSOE data\r\n",
    "\r\n",
    "Imbalance energy volumes of neighboring countries according to availability\r\n",
    "\r\n",
    "Source: https://transparency.entsoe.eu > Balancing > Imbalance"
   ],
   "metadata": {
    "tags": []
   }
  },
  {
   "cell_type": "markdown",
   "source": [
    "Note: in case the option dayfirst=True has been missed in conversion , the timestamps can be corrected as follows (given for the example of Poland):"
   ],
   "metadata": {}
  },
  {
   "cell_type": "code",
   "execution_count": null,
   "source": [
    "country = 'pl'\r\n",
    "df = pd.read_csv('data/entsoe_imbalance_'+country+'.csv')\r\n",
    "df.rename(columns = {'dt_start_utc':'old'}, inplace=True)\r\n",
    "df['new'] = [x[:4]+'-'+x[8:10]+'-'+x[5:7]+x[10:] for x in df.old]\r\n",
    "df['dt_start_utc'] = [0 for x in df.index]\r\n",
    "for idx in df.index:\r\n",
    "    try: df['dt_start_utc'][idx] = pd.to_datetime(df.new[idx])\r\n",
    "    except: df['dt_start_utc'][idx] = pd.to_datetime(df.old[idx])\r\n",
    "df.drop(['old', 'new'], axis=1, inplace=True)\r\n",
    "df.set_index('dt_start_utc', inplace=True)\r\n",
    "df.to_csv('data/entsoe_imbalance_'+country+'.csv')"
   ],
   "outputs": [],
   "metadata": {}
  },
  {
   "cell_type": "markdown",
   "source": [
    "### `imbalance_at`\n",
    "\n",
    "Same as `smard_imbalance_at`\n",
    "\n",
    "\n",
    "Delay: 2.5h (10 time steps)\n",
    "\n",
    "Preparation:"
   ],
   "metadata": {}
  },
  {
   "cell_type": "code",
   "execution_count": null,
   "source": [
    "df = pd.read_csv('entsoe/imbalance_at.csv', parse_dates=['dt_start_utc'], index_col='dt_start_utc')\r\n",
    "\r\n",
    "print(df.columns)\r\n",
    "\r\n",
    "(df['+ Imbalance Price [EUR/MWh] - SCA|AT']==df['- Imbalance Price [EUR/MWh] - SCA|AT']).value_counts()\r\n",
    "\r\n",
    "df.drop(['Status.1', '- Imbalance Price [EUR/MWh] - SCA|AT', 'Difference'], axis=1, inplace=True)\r\n",
    "\r\n",
    "df.rename(columns={'+ Imbalance Price [EUR/MWh] - SCA|AT':'rebap_at_eur_mwh', \r\n",
    "                   'Total Imbalance [MWh] - SCA|AT':'imbalance_power_at_mwh', \r\n",
    "                   'Status':'status',\r\n",
    "                   'Situation':'sign',\r\n",
    "                     }, inplace=True)\r\n",
    "\r\n",
    "df['sign'] = [-1 if x=='Deficit' else 1 for x in df.sign]\r\n",
    "df['imbalance_power_at_mwh'] = df.imbalance_power_at_mwh * df.sign\r\n",
    "df.drop('sign', axis=1, inplace=True)\r\n",
    "\r\n",
    "df.to_csv('data/entsoe_imbalance_at.csv')"
   ],
   "outputs": [],
   "metadata": {}
  },
  {
   "cell_type": "markdown",
   "source": [
    "## `imbalance_be`\n",
    "\n",
    "Delay: 2h (8 time steps)\n",
    "\n",
    "Preparation:"
   ],
   "metadata": {}
  },
  {
   "cell_type": "code",
   "execution_count": null,
   "source": [
    "df = pd.read_csv('entsoe/imbalance_be.csv', parse_dates=['dt_start_utc'], index_col='dt_start_utc')\r\n",
    "\r\n",
    "print(df.columns)\r\n",
    "\r\n",
    "(df['+ Imbalance Price [EUR/MWh] - SCA|BE']==df['- Imbalance Price [EUR/MWh] - SCA|BE']).value_counts()\r\n",
    "\r\n",
    "df.drop(['Status.1', '- Imbalance Price [EUR/MWh] - SCA|BE', 'Difference'], axis=1, inplace=True)\r\n",
    "\r\n",
    "df.rename(columns={'+ Imbalance Price [EUR/MWh] - SCA|BE':'rebap_be_eur_mwh', \r\n",
    "                   'Total Imbalance [MWh] - SCA|BE':'imbalance_power_be_mwh', \r\n",
    "                   'Status':'status',\r\n",
    "                   'Situation':'sign',\r\n",
    "                     }, inplace=True)\r\n",
    "\r\n",
    "df['sign'] = [-1 if x=='Deficit' else 1 for x in df.sign]\r\n",
    "df['imbalance_power_be_mwh'] = df.imbalance_power_be_mwh * df.sign\r\n",
    "df.drop('sign', axis=1, inplace=True)\r\n",
    "\r\n",
    "df.to_csv('data/entsoe_imbalance_be.csv')"
   ],
   "outputs": [],
   "metadata": {}
  },
  {
   "cell_type": "markdown",
   "source": [
    "## `imbalance_dk`\n",
    "\n",
    "Delay: 4h (16 time steps)\n",
    "\n",
    "Preparation:"
   ],
   "metadata": {}
  },
  {
   "cell_type": "code",
   "execution_count": null,
   "source": [
    "df = pd.read_csv('entsoe/imbalance_dk.csv', parse_dates=['dt_start_utc'], index_col='dt_start_utc')\r\n",
    "\r\n",
    "print(df.columns)\r\n",
    "\r\n",
    "(df['Generation / + Imbalance price [EUR/MWh] - MBA|DK2']==df['Generation / - Imbalance price [EUR/MWh] - MBA|DK2']).value_counts()\r\n",
    "\r\n",
    "df.drop(['Status.1', 'Difference'], axis=1, inplace=True)\r\n",
    "\r\n",
    "df.rename(columns={'Generation / + Imbalance price [EUR/MWh] - MBA|DK2':'imbalance_price_dk_pos_eur_mwh', \r\n",
    "                   'Generation / - Imbalance price [EUR/MWh] - MBA|DK2':'imbalance_price_dk_neg_eur_mwh', \r\n",
    "                   'Price for consumption [EUR/MWh] - MBA|DK2':'rebap_dk_eur_mwh',\r\n",
    "                   'Total Imbalance [MWh] - MBA|DK2':'imbalance_power_dk_mwh', \r\n",
    "                   'Status':'status',\r\n",
    "                   'Situation':'sign',\r\n",
    "                     }, inplace=True)\r\n",
    "\r\n",
    "df['sign'] = [-1 if x=='Deficit' else 1 for x in df.sign]\r\n",
    "df['imbalance_power_dk_mwh'] = df.imbalance_power_dk_mwh * df.sign\r\n",
    "df.drop('sign', axis=1, inplace=True)\r\n",
    "\r\n",
    "df.to_csv('data/entsoe_imbalance_dk.csv')"
   ],
   "outputs": [],
   "metadata": {
    "tags": []
   }
  },
  {
   "cell_type": "markdown",
   "source": [
    "## `imbalance_pl`\n",
    "\n",
    "Delay: 2.5h (10 time steps)\n",
    "\n",
    "Preparation analogous."
   ],
   "metadata": {}
  },
  {
   "cell_type": "markdown",
   "source": [
    "## `imbalance_fr`\r\n",
    "\r\n",
    "Not used, because past values are not available before July 25 2021."
   ],
   "metadata": {}
  },
  {
   "cell_type": "markdown",
   "source": [
    "## Final combination into 1 file "
   ],
   "metadata": {}
  },
  {
   "cell_type": "code",
   "execution_count": null,
   "source": [
    "dfl = []\r\n",
    "countries = ['at', 'be', 'dk', 'pl']\r\n",
    "for country in countries:\r\n",
    "    X = pd.read_csv('data/entsoe_imbalance_'+country+'.csv', \r\n",
    "                           parse_dates=['dt_start_utc'], \r\n",
    "                           index_col='dt_start_utc')\r\n",
    "    dfl.append(X.drop('status', axis=1))\r\n",
    "df = align(*dfl, prefixes=('' for country in countries))\r\n",
    "df.to_csv('data/entsoe_imbalance.csv')"
   ],
   "outputs": [],
   "metadata": {}
  },
  {
   "cell_type": "markdown",
   "source": [
    "## Time variables\r\n",
    "\r\n",
    "Dependence of rebap on month, dayofyear, weekday, hour and minute:"
   ],
   "metadata": {}
  },
  {
   "cell_type": "code",
   "execution_count": null,
   "source": [
    "quantity = 'minute'\r\n",
    "selection = None#'year'\r\n",
    "plottype = 'l'\r\n",
    "quantities = {'month':df.index.month,\r\n",
    "              'weekday':df.index.weekday, \r\n",
    "              'dayofyear':df.index.dayofyear, \r\n",
    "              'hour':df.index.hour, \r\n",
    "              'time':df.index.time, \r\n",
    "              'minute':df.index.minute}\r\n",
    "selections = {'weekday':df.index.weekday, 'month':df.index.month, 'year':df.index.year} \r\n",
    "plottypes = {'v':sns.violinplot, 'b':sns.boxplot, 'l':sns.lineplot}\r\n",
    "fig = plt.figure(figsize=(20,10))\r\n",
    "if quantity == 'minute':\r\n",
    "    plt.xlabel('quarter of hour', fontsize=36)\r\n",
    "    plt.ylabel('reBAP', fontsize=36)\r\n",
    "    plt.xticks(ticks=[0,15,30,45], labels=['1st','2nd','3rd','4th'], fontsize=24)\r\n",
    "    plt.yticks(fontsize=24)\r\n",
    "if quantity == 'hour':\r\n",
    "    plt.xlabel('daytime', fontsize=36)\r\n",
    "    plt.ylabel('reBAP', fontsize=36)\r\n",
    "    plt.xticks(ticks=range(25), fontsize=24)\r\n",
    "    plt.yticks(fontsize=24)\r\n",
    "if quantity == 'weekday':\r\n",
    "    plt.xlabel('weekday', fontsize=36)\r\n",
    "    plt.ylabel('reBAP', fontsize=36)\r\n",
    "    plt.xticks(ticks=range(7), labels=['Mo','Tu','We','Th','Fr','Sa','Su'], fontsize=24)\r\n",
    "    plt.yticks(fontsize=24)\r\n",
    "if quantity == 'month':\r\n",
    "    plt.xlabel('month', fontsize=36)\r\n",
    "    plt.ylabel('reBAP', fontsize=36)\r\n",
    "    plt.xticks(ticks=range(1,13),fontsize=24)\r\n",
    "    plt.yticks(fontsize=24)\r\n",
    "if quantity == 'dayofyear': plt.xticks(rotation=90)\r\n",
    "if selection: \r\n",
    "    plottypes[plottype](x=quantities[quantity], y=df.rebap_eur_mwh, hue=selections[selection], legend='full')\r\n",
    "    plt.savefig('images/'+quantity+'_per_'+selection+'_'+plottype+'.png', format='png', dpi=150);\r\n",
    "else: \r\n",
    "    plottypes[plottype](x=quantities[quantity], y=df.rebap_eur_mwh)\r\n",
    "    plt.savefig('images/'+quantity+'_'+plottype+'.png', format='png', dpi=150);"
   ],
   "outputs": [],
   "metadata": {}
  },
  {
   "cell_type": "markdown",
   "source": [
    "## Correlation with appropriately delayed numerical features"
   ],
   "metadata": {
    "tags": []
   }
  },
  {
   "cell_type": "code",
   "execution_count": null,
   "source": [
    "df1 = pd.read_csv('data/imbalance_de.csv', parse_dates=True, index_col='dt_start_utc')\r\n",
    "df1 = df1[df1.rebap_eur_mwh.mean()-3*df1.rebap_eur_mwh.std() <= df1.rebap_eur_mwh][df1.rebap_eur_mwh <= df1.rebap_eur_mwh.mean()+3*df1.rebap_eur_mwh.std()]\r\n",
    "df1['power_mw'] = df1.power_mw.shift(periods=5)\r\n",
    "df1.dropna(axis=0, inplace=True)\r\n",
    "\r\n",
    "df2 = pd.read_csv('data/power_ac.csv', parse_dates=True, index_col='dt_start_utc')\r\n",
    "\r\n",
    "df = align(df1, df2, prefixes=('',''), method='forward')\r\n",
    "\r\n",
    "sorted(df1.corr(method='pearson')['rebap_eur_mwh'].items(), key = lambda x : x[1], reverse=True)[1:]"
   ],
   "outputs": [],
   "metadata": {}
  },
  {
   "cell_type": "raw",
   "source": [
    "time features:\r\n",
    "\r\n",
    "weekday: -0.07524715617361509\r\n",
    "month: 0.033428034752845885\r\n",
    "dayofyear: 0.032707378420525866\r\n",
    "minute: -0.024979385412350535\r\n",
    "hour: 0.018776311861206034\r\n",
    "\r\n",
    "\r\n",
    "\r\n",
    "imbalance power:\r\n",
    "15 min delay: 0.4843013192757145\r\n",
    "30 min delay: 0.40729951999584196\r\n",
    "45 min delay: 0.34327285926548573\r\n",
    "60 min delay: 0.2989226526837441\r\n",
    "75 min delay: 0.24232271053895155\r\n",
    "\r\n",
    "crossborder_flows: (4h delay)\r\n",
    "\r\n",
    "DE_to_DK_power_mw   -0.076075\r\n",
    "DE_to_NL_power_mw   -0.021278\r\n",
    "DE_to_SE_power_mw   -0.023156\r\n",
    "DK_to_DE_power_mw    0.039917\r\n",
    "NL_to_DE_power_mw    0.002682\r\n",
    "SE_to_DE_power_mw    0.043131\r\n",
    "in                   0.040426\r\n",
    "out                 -0.059153\r\n",
    "\r\n",
    "\r\n",
    "\r\n",
    "epex_da_de:\r\n",
    "\r\n",
    "'sechs_h_regelung: -0.08007528283658467\r\n",
    "'epex_da_de_eur_mwh: 0.28175866494077273\r\n",
    "\r\n",
    "\r\n",
    "\r\n",
    "epex_da_prognosis:\r\n",
    "\r\n",
    "newest_fc: 0.3038766964033372\r\n",
    "second_newest_fc: 0.24818222169636459\r\n",
    "diff: 0.16107723299254156\r\n",
    "\r\n",
    "\r\n",
    "\r\n",
    "es_fc_solar: (available?)\r\n",
    "\r\n",
    "DK_power_mw: -0.00740397990116901\r\n",
    "DK1_power_mw: -0.00882052149761261\r\n",
    "DE_power_mw: -0.033728544997301595\r\n",
    "50Hertz_power_mw: -0.03456937472344083\r\n",
    "total_power_mw: -0.0378171709552171\r\n",
    "TTG_power_mw: -0.045797529561683294\r\n",
    " \r\n",
    " \r\n",
    " \r\n",
    "es_fc_total_load: (available?)\r\n",
    "\r\n",
    "DK1_power_mw: 0.16399404219453498\r\n",
    "DE_power_mw: 0.15881424901005614\r\n",
    "total_power_mw: 0.1576652377437372\r\n",
    "DK_power_mw: 0.15764626677772892\r\n",
    "50Hertz_power_mw: 0.14682049546623946\r\n",
    "TTG_power_mw: 0.1335574183987026\r\n",
    " \r\n",
    "\r\n",
    "\r\n",
    "es_fc_total_renewables: (available?)\r\n",
    "\r\n",
    "DK1_power_mw: -0.029985527280648256\r\n",
    "DK_power_mw: -0.03391124565636769\r\n",
    "50Hertz_power_mw: -0.0556007905162608\r\n",
    "DE_power_mw: -0.0687700325014996\r\n",
    "total_power_mw: -0.07655475812419277\r\n",
    "TTG_power_mw: -0.08207607775702935\r\n",
    "\r\n",
    "\r\n",
    "\r\n",
    "es_fc_wind_offshore: (available?)\r\n",
    "\r\n",
    "50Hertz_power_mw: -0.03519033079257517\r\n",
    "DK1_power_mw: -0.07316134092492045\r\n",
    "DK_power_mw: -0.08048739963488684\r\n",
    "DE_power_mw: -0.08760064769175391\r\n",
    "total_power_mw: -0.08850380338208434\r\n",
    "TTG_power_mw: -0.08943316662638912\r\n",
    "\r\n",
    "\r\n",
    "\r\n",
    "es_fc_wind_onshore: (available?)\r\n",
    "\r\n",
    "DK1_power_mw: -0.07671651506632371\r\n",
    "DK_power_mw: -0.07904779226947446\r\n",
    "50Hertz_power_mw: -0.11821192875996044\r\n",
    "DE_power_mw: -0.12236128308611773\r\n",
    "TTG_power_mw: -0.12252708703508135\r\n",
    "total_power_mw: -0.12635415790460372\r\n",
    "\r\n",
    "\r\n",
    "\r\n",
    "power_ac:\r\n",
    "\r\n",
    "power_act_308: 0.07658183045445838\r\n",
    "power_act_293: 0.0660940841376452\r\n",
    "power_act_179: 0.057968468218609924\r\n",
    "power_act_336: 0.04453956161573406\r\n",
    "power_act_183: 0.035109841174691916\r\n",
    "power_act_292: 0.022832383355489122\r\n",
    "power_act_291: 0.014656408729780683\r\n",
    "power_act_47: -0.008542990890438393\r\n",
    "power_act_202: -0.011874958493279467\r\n",
    "power_act_196: -0.0320837123825782\r\n",
    "power_act_176: -0.033338655527361004\r\n",
    "power_act_222: -0.03881168110873936\r\n",
    "power_act_233: -0.05052901177091879\r\n",
    "power_act_24: -0.05139346946882312\r\n",
    "power_act_total: -0.06885519642494121\r\n",
    "power_act_84: -0.07679272340664316\r\n",
    "power_act_21: -0.09124428206100685\r\n",
    "power_act_206: -0.10222719700350814\r\n",
    "\r\n",
    "\r\n",
    "\r\n",
    "power_fc:\r\n",
    "\r\n",
    "power_fc_308: 0.07508690567461161\r\n",
    "power_fc_293: 0.0669889523110434\r\n",
    "power_fc_179: 0.05851182386634871\r\n",
    "power_fc_322: 0.05850624979680117\r\n",
    "power_fc_292: 0.050642060985486244\r\n",
    "power_fc_336: 0.04915604983025744\r\n",
    "power_fc_327: 0.04723014254501161\r\n",
    "power_fc_325: 0.04533460136600698\r\n",
    "power_fc_339: 0.040323540862719616\r\n",
    "power_fc_183: 0.037476905562437324\r\n",
    "power_fc_291: 0.03599904330430745\r\n",
    "power_fc_202: -0.009744543573078298\r\n",
    "power_fc_176: -0.03117351157479673\r\n",
    "power_fc_222: -0.038568255783482025\r\n",
    "power_fc_51: -0.04611440542817475\r\n",
    "power_fc_48: -0.04858612598063991\r\n",
    "power_fc_total: -0.07828080301589488\r\n",
    "power_fc_196: -0.08291421410125561\r\n",
    "power_fc_21: -0.09433069255635973\r\n",
    "power_fc_233: -0.09758075360573289\r\n",
    "power_fc_24: -0.10569035945716927\r\n",
    "power_fc_206: -0.1137920338995106\r\n",
    "power_fc_47: -0.1183477138768534\r\n",
    "\r\n",
    "\r\n",
    "\r\n",
    "power_fc - power_ac:\r\n",
    "\r\n",
    "diff_206: 0.0939603979281782\r\n",
    "diff_21: 0.08759799312870238\r\n",
    "diff_total: 0.040710520751938456\r\n",
    "diff_222: 0.03783567641540703\r\n",
    "diff_233: 0.027121130419798564\r\n",
    "diff_24: 0.023206468881456454\r\n",
    "diff_202: 0.012665234100206464\r\n",
    "diff_196: 0.011322635982882643\r\n",
    "diff_291: -0.0018699648263636236\r\n",
    "diff_292: -0.00882535704256666\r\n",
    "diff_183: -0.03371598608585559\r\n",
    "diff_47: -0.03734100772864768\r\n",
    "diff_336: -0.04143275257706306\r\n",
    "diff_179: -0.05686309590125804\r\n",
    "diff_293: -0.06399007477285543\r\n",
    "diff_308: -0.07587909213797546\r\n",
    "\r\n",
    "\r\n",
    "\r\n",
    "wind_speed: (delay 2h)\r\n",
    "\r\n",
    "area_2_windspeed_ms: -0.11884693848084507\r\n",
    "area_1_windspeed_ms: -0.10767247686479652\r\n",
    "area_87_windspeed_ms: -0.10664680977028278\r\n",
    "area_102_windspeed_ms: -0.10651563501572858\r\n",
    "area_100_windspeed_ms: -0.10588448167571426\r\n",
    "area_45_windspeed_ms: -0.10579818226648323\r\n",
    "area_75_windspeed_ms: -0.10577686696741571\r\n",
    "area_109_windspeed_ms: -0.10523505194564593\r\n",
    "area_107_windspeed_ms: -0.10511279778126166\r\n",
    "area_78_windspeed_ms: -0.10491804940408372\r\n",
    "area_98_windspeed_ms: -0.1045942299377271\r\n",
    "mean: -0.10456576398494817\r\n",
    "area_88_windspeed_ms: -0.104053819101483\r\n",
    "area_76_windspeed_ms: -0.1039528234184265\r\n",
    "area_64_windspeed_ms: -0.10389782270982131\r\n",
    "area_55_windspeed_ms: -0.10345070885936075\r\n",
    "area_71_windspeed_ms: -0.10343408092587802\r\n",
    "area_65_windspeed_ms: -0.10340212123418346\r\n",
    "area_44_windspeed_ms: -0.10323711099596143\r\n",
    "area_99_windspeed_ms: -0.10306516623329809\r\n",
    "area_108_windspeed_ms: -0.10305728816821544\r\n",
    "area_89_windspeed_ms: -0.10301579996850366\r\n",
    "area_85_windspeed_ms: -0.10301249191781431\r\n",
    "area_31_windspeed_ms: -0.1028724075145295\r\n",
    "area_81_windspeed_ms: -0.10272897005317297\r\n",
    "area_95_windspeed_ms: -0.10255931651455888\r\n",
    "area_86_windspeed_ms: -0.1025150520502878\r\n",
    "area_56_windspeed_ms: -0.10245530752102429\r\n",
    "area_90_windspeed_ms: -0.10237955009268562\r\n",
    "area_101_windspeed_ms: -0.10216510152551811\r\n",
    "area_67_windspeed_ms: -0.1020531209362037\r\n",
    "area_103_windspeed_ms: -0.10183374673699895\r\n",
    "area_57_windspeed_ms: -0.10174256645628285\r\n",
    "area_73_windspeed_ms: -0.10149670671135536\r\n",
    "area_53_windspeed_ms: -0.10144402707444619\r\n",
    "area_104_windspeed_ms: -0.10099370770928982\r\n",
    "area_96_windspeed_ms: -0.10061110552950626\r\n",
    "area_33_windspeed_ms: -0.10059160827140212\r\n",
    "area_83_windspeed_ms: -0.10051608625486445\r\n",
    "area_13_windspeed_ms: -0.10028466891201557\r\n",
    "area_84_windspeed_ms: -0.10019241128831329\r\n",
    "area_77_windspeed_ms: -0.10001402985776219\r\n",
    "area_48_windspeed_ms: -0.09986486497075055\r\n",
    "area_12_windspeed_ms: -0.09976351257003367\r\n",
    "area_69_windspeed_ms: -0.09956041022642231\r\n",
    "area_92_windspeed_ms: -0.09923067441071022\r\n",
    "area_10_windspeed_ms: -0.0991845747257379\r\n",
    "area_74_windspeed_ms: -0.09890017086091889\r\n",
    "area_91_windspeed_ms: -0.09875640655999321\r\n",
    "area_34_windspeed_ms: -0.09867450393754461\r\n",
    "area_47_windspeed_ms: -0.09837900910739089\r\n",
    "area_41_windspeed_ms: -0.09833561818608844\r\n",
    "area_93_windspeed_ms: -0.09815234776532009\r\n",
    "area_70_windspeed_ms: -0.09791123870570892\r\n",
    "area_22_windspeed_ms: -0.09790025634756981\r\n",
    "area_80_windspeed_ms: -0.09770899703360632\r\n",
    "area_62_windspeed_ms: -0.09745580621004832\r\n",
    "area_51_windspeed_ms: -0.09737162103256715\r\n",
    "area_105_windspeed_ms: -0.09695380816514824\r\n",
    "area_60_windspeed_ms: -0.09688974452269475\r\n",
    "area_25_windspeed_ms: -0.09686243390276907\r\n",
    "area_63_windspeed_ms: -0.09664816147597012\r\n",
    "area_14_windspeed_ms: -0.09650085608922859\r\n",
    "area_46_windspeed_ms: -0.09595113506482815\r\n",
    "area_23_windspeed_ms: -0.09595102623704757\r\n",
    "area_4_windspeed_ms: -0.09566110854606281\r\n",
    "area_49_windspeed_ms: -0.09559883166922797\r\n",
    "area_82_windspeed_ms: -0.09534271858909117\r\n",
    "area_52_windspeed_ms: -0.09509566004336475\r\n",
    "area_94_windspeed_ms: -0.09497554179019704\r\n",
    "area_54_windspeed_ms: -0.09483523035609712\r\n",
    "area_5_windspeed_ms: -0.09445204317892729\r\n",
    "area_50_windspeed_ms: -0.09432276119634528\r\n",
    "area_68_windspeed_ms: -0.09413888218191635\r\n",
    "area_38_windspeed_ms: -0.09399726641519673\r\n",
    "area_39_windspeed_ms: -0.09362101588673762\r\n",
    "area_106_windspeed_ms: -0.09332369779326981\r\n",
    "area_37_windspeed_ms: -0.09219131450101332\r\n",
    "area_59_windspeed_ms: -0.09040123100065411\r\n",
    "area_29_windspeed_ms: -0.09009179521387649\r\n",
    "area_97_windspeed_ms: -0.08929711337799748\r\n",
    "area_40_windspeed_ms: -0.08872219947965566\r\n",
    "area_36_windspeed_ms: -0.08855333712601116\r\n",
    "area_79_windspeed_ms: -0.08834895835542354\r\n",
    "area_43_windspeed_ms: -0.08821531246905691\r\n",
    "area_7_windspeed_ms: -0.08733101896810538\r\n",
    "area_32_windspeed_ms: -0.08705332573495184\r\n",
    "area_11_windspeed_ms: -0.08694329351617923\r\n",
    "area_24_windspeed_ms: -0.08692221650138306\r\n",
    "area_26_windspeed_ms: -0.08400674594159341\r\n",
    "area_30_windspeed_ms: -0.08392642702174967\r\n",
    "area_58_windspeed_ms: -0.08392426734819189\r\n",
    "area_16_windspeed_ms: -0.08309731983564116\r\n",
    "area_66_windspeed_ms: -0.0802854027916407\r\n",
    "area_15_windspeed_ms: -0.07796578855208011\r\n",
    "area_8_windspeed_ms: -0.07606976813616023\r\n",
    "area_17_windspeed_ms: -0.0745816849624981\r\n",
    "area_21_windspeed_ms: -0.07452941317923435\r\n",
    "area_28_windspeed_ms: -0.07417886634292109\r\n",
    "area_35_windspeed_ms: -0.0731023411572452\r\n",
    "area_20_windspeed_ms: -0.07248164154526687\r\n",
    "area_61_windspeed_ms: -0.07186362093942315\r\n",
    "area_18_windspeed_ms: -0.07073663468941783\r\n",
    "area_19_windspeed_ms: -0.06996961081082885\r\n",
    "area_27_windspeed_ms: -0.06630672290683581\r\n",
    "area_6_windspeed_ms: -0.06267976818889459\r\n",
    "area_72_windspeed_ms: -0.06195200812361306\r\n",
    "area_9_windspeed_ms: -0.06005708343974108\r\n",
    "area_42_windspeed_ms: -0.04361086834554043"
   ],
   "metadata": {}
  },
  {
   "cell_type": "markdown",
   "source": [
    "### Feature catalogue\r\n",
    "\r\n",
    "- month (via dummies)\r\n",
    "- weekday (via dummies)\r\n",
    "- hour (via dummies)\r\n",
    "- minute (via dummies)\r\n",
    "- wind_speed (delay 8}\r\n",
    "- imbalance_power (delay 4)\r\n",
    "- epex_da (delay 0)\r\n",
    "- epex_da_fc (delay 0)\r\n",
    "- power_ac' (delay 0)\r\n",
    "- power_fc (delay 0)\r\n",
    "- wind_onshore_fc (delay 0)\r\n",
    "- wind_offshore_fc (delay 0)\r\n",
    "- solar_fc' (delay 0)\r\n",
    "- renewables_fc (delay 0)\r\n",
    "- total_fc (delay 0)\r\n",
    "- imbalance_at (delay 9)\r\n",
    "- imbalance_be (delay 8)\r\n",
    "- imbalance_dk (delay 16)\r\n",
    "- imbalance_pl (delay 9)\r\n",
    "- consumption_ac (delay 8)\r\n",
    "- consumption_fc (delay 0)\r\n",
    "- generation_ac (delay 8)\r\n",
    "- #generation_fc (to be included later)\r\n",
    "- mrl_energy (delay 4)\r\n",
    "- mrl_capacity (delay 0)\r\n",
    "- prl (delay 0)\r\n",
    "- srl_energy (delay 4)\r\n",
    "- srl_capacity (delay 0)"
   ],
   "metadata": {}
  }
 ],
 "metadata": {
  "kernelspec": {
   "name": "python3",
   "display_name": "Python 3.9.6 64-bit (windows store)"
  },
  "language_info": {
   "codemirror_mode": {
    "name": "ipython",
    "version": 3
   },
   "file_extension": ".py",
   "mimetype": "text/x-python",
   "name": "python",
   "nbconvert_exporter": "python",
   "pygments_lexer": "ipython3",
   "version": "3.9.6"
  },
  "interpreter": {
   "hash": "dd0b763ea4d3b776545a241ed25522670db6da5a93a666ab3f023d4cd54230bc"
  }
 },
 "nbformat": 4,
 "nbformat_minor": 5
}