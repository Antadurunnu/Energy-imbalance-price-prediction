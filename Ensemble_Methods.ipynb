{
 "cells": [
  {
   "cell_type": "markdown",
   "id": "ea1fa060",
   "metadata": {},
   "source": [
    "# Ensemble Methods"
   ]
  },
  {
   "cell_type": "code",
   "execution_count": 1,
   "id": "75918a1c",
   "metadata": {},
   "outputs": [],
   "source": [
    "# Main data packages. \n",
    "import numpy as np\n",
    "import pandas as pd\n",
    "import matplotlib.pyplot as plt\n",
    "import imblearn\n",
    "\n",
    "import datetime\n",
    "\n",
    "import warnings\n",
    "warnings.filterwarnings('ignore')"
   ]
  },
  {
   "cell_type": "markdown",
   "id": "825a0d90",
   "metadata": {},
   "source": [
    "## Data\n",
    "\n",
    "For input data we are concentrating on those data sets which performed well with our PCA approach:\n",
    "\n",
    "1. df_7\n",
    "2. df_10_compact\n",
    "3. df_11_compact\n",
    "4. df_12_compact\n",
    "5. df_13\n",
    "6. df_14\n",
    "\n",
    "Those DataFrames with \"compact\" in their names are based on other Dataframes BUT only contain those features which had at least some correlation with the target value \"rebap_eur_mwh\". This correaltion was identified via Seaborn correlation map."
   ]
  },
  {
   "cell_type": "code",
   "execution_count": 2,
   "id": "1a5e3821",
   "metadata": {},
   "outputs": [],
   "source": [
    "df_7 = pd.read_csv(\"data/PCA Data Sets/EQ_epex_da_last_prognosis_count.csv\")"
   ]
  },
  {
   "cell_type": "code",
   "execution_count": 3,
   "id": "57243bf0",
   "metadata": {},
   "outputs": [],
   "source": [
    "df_7['timestamp']=df_7['timestamp'].astype('datetime64')"
   ]
  },
  {
   "cell_type": "code",
   "execution_count": 4,
   "id": "ea40018f",
   "metadata": {},
   "outputs": [],
   "source": [
    "df_10 = pd.read_csv(\"data/PCA Data Sets/es_fc_total_renewables_ts.csv\")"
   ]
  },
  {
   "cell_type": "code",
   "execution_count": 5,
   "id": "64d731b4",
   "metadata": {},
   "outputs": [],
   "source": [
    "df_10['dt_start_utc']=df_10['dt_start_utc'].astype('datetime64')"
   ]
  },
  {
   "cell_type": "code",
   "execution_count": 6,
   "id": "9251e10d",
   "metadata": {},
   "outputs": [],
   "source": [
    "df_10_compact = df_10[['dt_start_utc', \"TTG_power_mw\"]].copy()"
   ]
  },
  {
   "cell_type": "code",
   "execution_count": 7,
   "id": "fce7cf13",
   "metadata": {},
   "outputs": [],
   "source": [
    "df_11 = pd.read_csv(\"data/PCA Data Sets/es_fc_wind_offshore_ts.csv\")"
   ]
  },
  {
   "cell_type": "code",
   "execution_count": 8,
   "id": "615de6b5",
   "metadata": {},
   "outputs": [],
   "source": [
    "df_11['dt_start_utc']=df_11['dt_start_utc'].astype('datetime64')"
   ]
  },
  {
   "cell_type": "code",
   "execution_count": 9,
   "id": "d248b4aa",
   "metadata": {},
   "outputs": [],
   "source": [
    "df_11_compact = df_11[['dt_start_utc', \"DE_power_mw\", \"TTG_power_mw\"]].copy()"
   ]
  },
  {
   "cell_type": "code",
   "execution_count": 10,
   "id": "87585410",
   "metadata": {},
   "outputs": [],
   "source": [
    "df_12 = pd.read_csv(\"data/PCA Data Sets/es_fc_wind_onshore_ts.csv\")"
   ]
  },
  {
   "cell_type": "code",
   "execution_count": 11,
   "id": "6ca985b2",
   "metadata": {},
   "outputs": [],
   "source": [
    "df_12['dt_start_utc']=df_12['dt_start_utc'].astype('datetime64')"
   ]
  },
  {
   "cell_type": "code",
   "execution_count": 12,
   "id": "ee3352b8",
   "metadata": {},
   "outputs": [],
   "source": [
    "df_12_compact = df_12[['dt_start_utc', \"50Hertz_power_mw\", \"DE_power_mw\", \"TTG_power_mw\"]].copy()"
   ]
  },
  {
   "cell_type": "code",
   "execution_count": 13,
   "id": "575dd4d7",
   "metadata": {},
   "outputs": [],
   "source": [
    "df_13 = pd.read_csv(\"data/PCA Data Sets/wind_speed_ts.csv\")"
   ]
  },
  {
   "cell_type": "code",
   "execution_count": 14,
   "id": "375aeaf0",
   "metadata": {},
   "outputs": [],
   "source": [
    "df_13['dt_start_utc']=df_13['dt_start_utc'].astype('datetime64')"
   ]
  },
  {
   "cell_type": "code",
   "execution_count": 15,
   "id": "a949e760",
   "metadata": {},
   "outputs": [],
   "source": [
    "df_14 = pd.read_csv(\"data/PCA Data Sets/imbalance_de_labeled.csv\")"
   ]
  },
  {
   "cell_type": "code",
   "execution_count": 16,
   "id": "e0951993",
   "metadata": {},
   "outputs": [],
   "source": [
    "df_14['dt_start_utc']=df_14['dt_start_utc'].astype('datetime64')"
   ]
  },
  {
   "cell_type": "code",
   "execution_count": 17,
   "id": "98d6977e",
   "metadata": {},
   "outputs": [],
   "source": [
    "df_14 = df_14.drop([\"power_mw\"], axis=1)"
   ]
  },
  {
   "cell_type": "code",
   "execution_count": 18,
   "id": "7201e6df",
   "metadata": {},
   "outputs": [],
   "source": [
    "from apymb import *\n",
    "\n",
    "df_ensemble = align(df_7, df_10_compact, df_11_compact, df_12_compact, df_13, df_14)"
   ]
  },
  {
   "cell_type": "markdown",
   "id": "48d66b72",
   "metadata": {},
   "source": [
    "## Filter out those rebap prizes that are not within 3 Standard deviations of the mean:\n",
    "\n",
    "Now we will get rid of those rebap prize outliers outside the +/- 3 Standard Deviation range with the following code line:"
   ]
  },
  {
   "cell_type": "code",
   "execution_count": 19,
   "id": "3439ec04",
   "metadata": {},
   "outputs": [],
   "source": [
    "std_dev = 3*df_ensemble['6_rebap_eur_mwh'].std()\n",
    "df_ensemble = df_ensemble[np.abs(df_ensemble['6_rebap_eur_mwh'] - df_ensemble['6_rebap_eur_mwh'].mean()) <= std_dev]"
   ]
  },
  {
   "cell_type": "markdown",
   "id": "b61867b2",
   "metadata": {},
   "source": [
    "### Define new classification column named \"rebap_price_class\" in which the rebap price_range is translated to two classes:\n",
    "\n",
    "- Class 0: Rebap prize below 0 €\n",
    "- Class 1: Rebap prize above 0 €"
   ]
  },
  {
   "cell_type": "code",
   "execution_count": 20,
   "id": "87756d6d",
   "metadata": {},
   "outputs": [],
   "source": [
    "df_ensemble[\"rebap_price_class\"] = np.nan\n",
    "for i in range (len(df_ensemble[\"rebap_price_class\"])):\n",
    "    if df_ensemble[\"6_rebap_eur_mwh\"][i] <= 0:\n",
    "        df_ensemble[\"rebap_price_class\"][i] = 0\n",
    "    else:\n",
    "        df_ensemble[\"rebap_price_class\"][i]= 1\n",
    "        \n",
    "df_ensemble[\"rebap_price_class\"] = df_ensemble[\"rebap_price_class\"].astype('int')"
   ]
  },
  {
   "cell_type": "markdown",
   "id": "3ba2434e",
   "metadata": {},
   "source": [
    "## Eliminate the original target feature \"rebap_eur_mwh\" from the Dataframe (we want to predict the target class in \"rebap_price_class\":"
   ]
  },
  {
   "cell_type": "code",
   "execution_count": 21,
   "id": "233cbd12",
   "metadata": {},
   "outputs": [],
   "source": [
    "df_ensemble = df_ensemble.drop(['6_rebap_eur_mwh'], axis= 1)"
   ]
  },
  {
   "cell_type": "markdown",
   "id": "516ab3b6",
   "metadata": {},
   "source": [
    "## Train-test Split plus Smote for the Training Data Set"
   ]
  },
  {
   "cell_type": "code",
   "execution_count": 27,
   "id": "c7f5b3d0",
   "metadata": {},
   "outputs": [],
   "source": [
    "from sklearn.model_selection import train_test_split\n",
    "X = df_ensemble.drop([\"rebap_price_class\"],axis=1)\n",
    "y = df_ensemble[\"rebap_price_class\"]\n",
    "                     \n",
    "hours_shift = 0\n",
    "\n",
    "# Shift the Data to represent the fact that not all Data are available immediately\n",
    "X = X.shift(int(hours_shift*4))\n",
    "y = y[int(hours_shift*4):]\n",
    "X = X.dropna()\n",
    "\n",
    "X_train, X_test, y_train, y_test = train_test_split(X, y, test_size=0.2, random_state=42)                     \n",
    "\n",
    "# balance out every target class imbalance via SMOTE (ONLY for the Training Data!):\n",
    "from imblearn.over_sampling import SMOTE\n",
    "\n",
    "oversample = SMOTE()\n",
    "X_train, y_train = oversample.fit_resample(X_train, y_train)"
   ]
  },
  {
   "cell_type": "markdown",
   "id": "4fca83a9",
   "metadata": {},
   "source": [
    "## Define a train_predict function (taken from neuefische Notebook No.4 for ensemble Methods) that trains and evaluates different ML Models and returns the most important scores for each Model in a result list:"
   ]
  },
  {
   "cell_type": "code",
   "execution_count": 28,
   "id": "c5af5d0c",
   "metadata": {},
   "outputs": [],
   "source": [
    "from time import time\n",
    "\n",
    "# TODO: Import two metrics from sklearn - fbeta_score and accuracy_score\n",
    "from sklearn.metrics import fbeta_score, accuracy_score\n",
    "\n",
    "# Define a train and evaluation function \n",
    "def train_predict(learner, sample_size, X_train, y_train, X_test, y_test): \n",
    "    '''\n",
    "    inputs:\n",
    "       - learner: the learning algorithm to be trained and predicted on\n",
    "       - sample_size: the size of samples (number) to be drawn from training set\n",
    "       - X_train: features training set\n",
    "       - y_train: income training set\n",
    "       - X_test: features testing set\n",
    "       - y_test: income testing set\n",
    "    '''\n",
    "    \n",
    "    results = {}\n",
    "    \n",
    "    # TODO: Fit the learner to the training data using slicing with 'sample_size'\n",
    "    start = time() # Get start time\n",
    "    learner = learner.fit(X_train[:sample_size], y_train[:sample_size])\n",
    "    end = time() # Get end time\n",
    "    \n",
    "    # TODO: Calculate the training time\n",
    "    results['train_time'] = end - start\n",
    "        \n",
    "    # TODO: Get the predictions on the test set,\n",
    "    #       then get predictions on the first 300 training samples\n",
    "    start = time() # Get start time\n",
    "    predictions_test = learner.predict(X_test)\n",
    "    predictions_train = learner.predict(X_train[:300])\n",
    "    end = time() # Get end time\n",
    "    \n",
    "    # TODO: Calculate the total prediction time\n",
    "    results['pred_time'] = end - start\n",
    "            \n",
    "    # TODO: Compute accuracy on the first 300 training samples\n",
    "    results['acc_train'] = accuracy_score(y_train[:300], predictions_train)\n",
    "        \n",
    "    # TODO: Compute accuracy on test set\n",
    "    results['acc_test'] = accuracy_score(y_test,predictions_test)\n",
    "    \n",
    "    # TODO: Compute F-score on the the first 300 training samples\n",
    "    results['f_train'] = fbeta_score(y_train[:300], predictions_train, beta=0.5)\n",
    "        \n",
    "    # TODO: Compute F-score on the test set\n",
    "    results['f_test'] = fbeta_score(y_test, predictions_test, beta=0.5)\n",
    "       \n",
    "    # Success\n",
    "    print (\"{} trained on {} samples.\".format(learner.__class__.__name__, sample_size))\n",
    "        \n",
    "    # Return the results\n",
    "    return results"
   ]
  },
  {
   "cell_type": "code",
   "execution_count": 29,
   "id": "5f9f96c7",
   "metadata": {},
   "outputs": [
    {
     "name": "stdout",
     "output_type": "stream",
     "text": [
      "RandomForestClassifier trained on 700 samples.\n",
      "RandomForestClassifier trained on 6996 samples.\n",
      "RandomForestClassifier trained on 69960 samples.\n",
      "DecisionTreeClassifier trained on 700 samples.\n",
      "DecisionTreeClassifier trained on 6996 samples.\n",
      "DecisionTreeClassifier trained on 69960 samples.\n",
      "AdaBoostClassifier trained on 700 samples.\n",
      "AdaBoostClassifier trained on 6996 samples.\n",
      "AdaBoostClassifier trained on 69960 samples.\n"
     ]
    }
   ],
   "source": [
    "# TODO: Import the three supervised learning models from sklearn\n",
    "from sklearn.tree import DecisionTreeClassifier\n",
    "from sklearn.ensemble import RandomForestClassifier\n",
    "from sklearn.svm import SVC\n",
    "from sklearn.ensemble import AdaBoostClassifier\n",
    "\n",
    "# TODO: Initialize the three models, the random states are set to 101 so we know how to reproduce the model later\n",
    "clf_A = RandomForestClassifier(random_state=42)\n",
    "clf_B = DecisionTreeClassifier(random_state=42)\n",
    "clf_C = AdaBoostClassifier(random_state=42)\n",
    "\n",
    "# TODO: Calculate the number of samples for 1%, 10%, and 100% of the training data\n",
    "samples_1 = int(round(len(X_train) / 100))\n",
    "samples_10 = int(round(len(X_train) / 10))\n",
    "samples_100 = len(X_train)\n",
    "\n",
    "# Collect results on the learners\n",
    "results = {}\n",
    "for clf in [clf_A, clf_B, clf_C]:\n",
    "    clf_name = clf.__class__.__name__\n",
    "    results[clf_name] = {}\n",
    "    for i, samples in enumerate([samples_1, samples_10, samples_100]):\n",
    "        results[clf_name][i] = \\\n",
    "        train_predict(clf, samples, X_train, y_train, X_test, y_test)"
   ]
  },
  {
   "cell_type": "code",
   "execution_count": 30,
   "id": "beab9b8b",
   "metadata": {},
   "outputs": [
    {
     "name": "stdout",
     "output_type": "stream",
     "text": [
      "RandomForestClassifier\n"
     ]
    },
    {
     "data": {
      "text/html": [
       "<div>\n",
       "<style scoped>\n",
       "    .dataframe tbody tr th:only-of-type {\n",
       "        vertical-align: middle;\n",
       "    }\n",
       "\n",
       "    .dataframe tbody tr th {\n",
       "        vertical-align: top;\n",
       "    }\n",
       "\n",
       "    .dataframe thead th {\n",
       "        text-align: right;\n",
       "    }\n",
       "</style>\n",
       "<table border=\"1\" class=\"dataframe\">\n",
       "  <thead>\n",
       "    <tr style=\"text-align: right;\">\n",
       "      <th></th>\n",
       "      <th>1%</th>\n",
       "      <th>10%</th>\n",
       "      <th>100%</th>\n",
       "    </tr>\n",
       "  </thead>\n",
       "  <tbody>\n",
       "    <tr>\n",
       "      <th>train_time</th>\n",
       "      <td>0.384412</td>\n",
       "      <td>5.133139</td>\n",
       "      <td>71.843065</td>\n",
       "    </tr>\n",
       "    <tr>\n",
       "      <th>pred_time</th>\n",
       "      <td>0.103583</td>\n",
       "      <td>0.198348</td>\n",
       "      <td>0.352325</td>\n",
       "    </tr>\n",
       "    <tr>\n",
       "      <th>acc_train</th>\n",
       "      <td>1.000000</td>\n",
       "      <td>1.000000</td>\n",
       "      <td>1.000000</td>\n",
       "    </tr>\n",
       "    <tr>\n",
       "      <th>acc_test</th>\n",
       "      <td>0.823624</td>\n",
       "      <td>0.830400</td>\n",
       "      <td>0.834165</td>\n",
       "    </tr>\n",
       "    <tr>\n",
       "      <th>f_train</th>\n",
       "      <td>1.000000</td>\n",
       "      <td>1.000000</td>\n",
       "      <td>1.000000</td>\n",
       "    </tr>\n",
       "    <tr>\n",
       "      <th>f_test</th>\n",
       "      <td>0.855719</td>\n",
       "      <td>0.865191</td>\n",
       "      <td>0.902169</td>\n",
       "    </tr>\n",
       "  </tbody>\n",
       "</table>\n",
       "</div>"
      ],
      "text/plain": [
       "                  1%       10%       100%\n",
       "train_time  0.384412  5.133139  71.843065\n",
       "pred_time   0.103583  0.198348   0.352325\n",
       "acc_train   1.000000  1.000000   1.000000\n",
       "acc_test    0.823624  0.830400   0.834165\n",
       "f_train     1.000000  1.000000   1.000000\n",
       "f_test      0.855719  0.865191   0.902169"
      ]
     },
     "metadata": {},
     "output_type": "display_data"
    },
    {
     "name": "stdout",
     "output_type": "stream",
     "text": [
      "DecisionTreeClassifier\n"
     ]
    },
    {
     "data": {
      "text/html": [
       "<div>\n",
       "<style scoped>\n",
       "    .dataframe tbody tr th:only-of-type {\n",
       "        vertical-align: middle;\n",
       "    }\n",
       "\n",
       "    .dataframe tbody tr th {\n",
       "        vertical-align: top;\n",
       "    }\n",
       "\n",
       "    .dataframe thead th {\n",
       "        text-align: right;\n",
       "    }\n",
       "</style>\n",
       "<table border=\"1\" class=\"dataframe\">\n",
       "  <thead>\n",
       "    <tr style=\"text-align: right;\">\n",
       "      <th></th>\n",
       "      <th>1%</th>\n",
       "      <th>10%</th>\n",
       "      <th>100%</th>\n",
       "    </tr>\n",
       "  </thead>\n",
       "  <tbody>\n",
       "    <tr>\n",
       "      <th>train_time</th>\n",
       "      <td>0.041242</td>\n",
       "      <td>1.012125</td>\n",
       "      <td>12.613468</td>\n",
       "    </tr>\n",
       "    <tr>\n",
       "      <th>pred_time</th>\n",
       "      <td>0.006619</td>\n",
       "      <td>0.007306</td>\n",
       "      <td>0.009654</td>\n",
       "    </tr>\n",
       "    <tr>\n",
       "      <th>acc_train</th>\n",
       "      <td>1.000000</td>\n",
       "      <td>1.000000</td>\n",
       "      <td>1.000000</td>\n",
       "    </tr>\n",
       "    <tr>\n",
       "      <th>acc_test</th>\n",
       "      <td>0.745788</td>\n",
       "      <td>0.754918</td>\n",
       "      <td>0.750118</td>\n",
       "    </tr>\n",
       "    <tr>\n",
       "      <th>f_train</th>\n",
       "      <td>1.000000</td>\n",
       "      <td>1.000000</td>\n",
       "      <td>1.000000</td>\n",
       "    </tr>\n",
       "    <tr>\n",
       "      <th>f_test</th>\n",
       "      <td>0.844460</td>\n",
       "      <td>0.855043</td>\n",
       "      <td>0.869451</td>\n",
       "    </tr>\n",
       "  </tbody>\n",
       "</table>\n",
       "</div>"
      ],
      "text/plain": [
       "                  1%       10%       100%\n",
       "train_time  0.041242  1.012125  12.613468\n",
       "pred_time   0.006619  0.007306   0.009654\n",
       "acc_train   1.000000  1.000000   1.000000\n",
       "acc_test    0.745788  0.754918   0.750118\n",
       "f_train     1.000000  1.000000   1.000000\n",
       "f_test      0.844460  0.855043   0.869451"
      ]
     },
     "metadata": {},
     "output_type": "display_data"
    },
    {
     "name": "stdout",
     "output_type": "stream",
     "text": [
      "AdaBoostClassifier\n"
     ]
    },
    {
     "data": {
      "text/html": [
       "<div>\n",
       "<style scoped>\n",
       "    .dataframe tbody tr th:only-of-type {\n",
       "        vertical-align: middle;\n",
       "    }\n",
       "\n",
       "    .dataframe tbody tr th {\n",
       "        vertical-align: top;\n",
       "    }\n",
       "\n",
       "    .dataframe thead th {\n",
       "        text-align: right;\n",
       "    }\n",
       "</style>\n",
       "<table border=\"1\" class=\"dataframe\">\n",
       "  <thead>\n",
       "    <tr style=\"text-align: right;\">\n",
       "      <th></th>\n",
       "      <th>1%</th>\n",
       "      <th>10%</th>\n",
       "      <th>100%</th>\n",
       "    </tr>\n",
       "  </thead>\n",
       "  <tbody>\n",
       "    <tr>\n",
       "      <th>train_time</th>\n",
       "      <td>0.342875</td>\n",
       "      <td>3.408232</td>\n",
       "      <td>38.359818</td>\n",
       "    </tr>\n",
       "    <tr>\n",
       "      <th>pred_time</th>\n",
       "      <td>0.123721</td>\n",
       "      <td>0.125208</td>\n",
       "      <td>0.144299</td>\n",
       "    </tr>\n",
       "    <tr>\n",
       "      <th>acc_train</th>\n",
       "      <td>0.910000</td>\n",
       "      <td>0.810000</td>\n",
       "      <td>0.716667</td>\n",
       "    </tr>\n",
       "    <tr>\n",
       "      <th>acc_test</th>\n",
       "      <td>0.787671</td>\n",
       "      <td>0.809882</td>\n",
       "      <td>0.674729</td>\n",
       "    </tr>\n",
       "    <tr>\n",
       "      <th>f_train</th>\n",
       "      <td>0.921659</td>\n",
       "      <td>0.861153</td>\n",
       "      <td>0.866733</td>\n",
       "    </tr>\n",
       "    <tr>\n",
       "      <th>f_test</th>\n",
       "      <td>0.854523</td>\n",
       "      <td>0.860860</td>\n",
       "      <td>0.846077</td>\n",
       "    </tr>\n",
       "  </tbody>\n",
       "</table>\n",
       "</div>"
      ],
      "text/plain": [
       "                  1%       10%       100%\n",
       "train_time  0.342875  3.408232  38.359818\n",
       "pred_time   0.123721  0.125208   0.144299\n",
       "acc_train   0.910000  0.810000   0.716667\n",
       "acc_test    0.787671  0.809882   0.674729\n",
       "f_train     0.921659  0.861153   0.866733\n",
       "f_test      0.854523  0.860860   0.846077"
      ]
     },
     "metadata": {},
     "output_type": "display_data"
    }
   ],
   "source": [
    "#Printing out the values\n",
    "for i in results.items():\n",
    "    print (i[0])\n",
    "    display(pd.DataFrame(i[1]).rename(columns={0:'1%', 1:'10%', 2:'100%'}))"
   ]
  },
  {
   "cell_type": "code",
   "execution_count": 31,
   "id": "c4c6b00d",
   "metadata": {},
   "outputs": [
    {
     "data": {
      "image/png": "[encoded data removed]",
      "text/plain": [
       "<Figure size 432x288 with 2 Axes>"
      ]
     },
     "metadata": {
      "needs_background": "light"
     },
     "output_type": "display_data"
    },
    {
     "data": {
      "image/png": "[encoded data removed]",
      "text/plain": [
       "<Figure size 432x288 with 2 Axes>"
      ]
     },
     "metadata": {
      "needs_background": "light"
     },
     "output_type": "display_data"
    },
    {
     "data": {
      "image/png": "[encoded data removed]",
      "text/plain": [
       "<Figure size 432x288 with 2 Axes>"
      ]
     },
     "metadata": {
      "needs_background": "light"
     },
     "output_type": "display_data"
    }
   ],
   "source": [
    "#Visualizing the confusion matrix for each classifier\n",
    "from sklearn.metrics import confusion_matrix, classification_report, roc_curve\n",
    "import seaborn as sns\n",
    "\n",
    "for i,model in enumerate([clf_A,clf_B, clf_C]):\n",
    "    cm = confusion_matrix(y_test, model.predict(X_test))\n",
    "    cm = cm.astype('float') / cm.sum(axis=1)[:, np.newaxis] # normalize the data\n",
    "\n",
    "    # view with a heatmap\n",
    "    plt.figure(i)\n",
    "    sns.heatmap(cm, annot=True, annot_kws={\"size\":30}, \n",
    "            cmap='Blues', square=True, fmt='.3f')\n",
    "    plt.ylabel('True label')\n",
    "    plt.xlabel('Predicted label')\n",
    "    plt.title('Confusion matrix for:\\n{}'.format(model.__class__.__name__));\n",
    "    #plt.savefig(f'Confusion matrix for:{format(model.__class__.__name__)}.png', transparent=True)"
   ]
  },
  {
   "cell_type": "markdown",
   "id": "0b365c91",
   "metadata": {},
   "source": [
    "# Try 5-Bucket classification with the Ensemble Methods\n",
    "Let us now test how well our 3 Ensemble Methods work for a 5-Bucket approach of the target feature:\n",
    "- class 0: Rebap price < ca. 20% Percentile\n",
    "- class 1: Rebap price < ca. 40% Percentile\n",
    "- class 2: Rebap price < ca. 60% Percentile\n",
    "- class 3: Rebap price < ca. 80% Percentile\n",
    "- class 4: Rebap price < ca. 100% Percentile\n",
    "\n",
    "We do not take the precise values for the different percentiles, just a rounded approximation."
   ]
  },
  {
   "cell_type": "code",
   "execution_count": 33,
   "id": "6992c989",
   "metadata": {},
   "outputs": [],
   "source": [
    "# We first have to define our dataframe:\n",
    "\n",
    "df_ensemble_5_bucket = align(df_7, df_10_compact, df_11_compact, df_12_compact, df_13, df_14)"
   ]
  },
  {
   "cell_type": "markdown",
   "id": "3f72d82e",
   "metadata": {},
   "source": [
    "## Filter out again those rebap prizes that are not within 3 Standard deviations of the mean:\n",
    "\n",
    "Now we will get rid of those rebap prize outliers outside the +/- 3 Standard Deviation range with the following code line:"
   ]
  },
  {
   "cell_type": "code",
   "execution_count": 34,
   "id": "0c029943",
   "metadata": {},
   "outputs": [],
   "source": [
    "std_dev = 3*df_ensemble_5_bucket['6_rebap_eur_mwh'].std()\n",
    "df_ensemble_5_bucket = df_ensemble_5_bucket[np.abs(df_ensemble_5_bucket['6_rebap_eur_mwh'] - df_ensemble_5_bucket['6_rebap_eur_mwh'].mean()) <= std_dev]"
   ]
  },
  {
   "cell_type": "markdown",
   "id": "f2cbcbbd",
   "metadata": {},
   "source": [
    "## Calculate the percentile values for 20%, 40%, 60%, 80%, 100%:"
   ]
  },
  {
   "cell_type": "code",
   "execution_count": 35,
   "id": "1b4d580b",
   "metadata": {},
   "outputs": [
    {
     "name": "stdout",
     "output_type": "stream",
     "text": [
      "3.198000000000011 23.06 45.19 62.05 261.1\n"
     ]
    }
   ],
   "source": [
    "rebap_20_percentile = df_ensemble_5_bucket[\"6_rebap_eur_mwh\"].quantile(0.2)\n",
    "rebap_40_percentile = df_ensemble_5_bucket[\"6_rebap_eur_mwh\"].quantile(0.4)\n",
    "rebap_60_percentile = df_ensemble_5_bucket[\"6_rebap_eur_mwh\"].quantile(0.6)\n",
    "rebap_80_percentile = df_ensemble_5_bucket[\"6_rebap_eur_mwh\"].quantile(0.8)\n",
    "rebap_100_percentile = df_ensemble_5_bucket[\"6_rebap_eur_mwh\"].quantile(1)\n",
    "\n",
    "print(rebap_20_percentile, rebap_40_percentile, rebap_60_percentile, rebap_80_percentile, rebap_100_percentile)"
   ]
  },
  {
   "cell_type": "markdown",
   "id": "ff25f211",
   "metadata": {},
   "source": [
    "Create the new target column \"rebap_price_class\" based on the roughly rounded 20,40,60,80 and 100% percentiles: "
   ]
  },
  {
   "cell_type": "code",
   "execution_count": 36,
   "id": "a051a4c3",
   "metadata": {},
   "outputs": [],
   "source": [
    "df_ensemble_5_bucket[\"rebap_price_class\"] = np.nan\n",
    "for i in range (len(df_ensemble_5_bucket[\"rebap_price_class\"])):\n",
    "    if df_ensemble_5_bucket[\"6_rebap_eur_mwh\"][i] <= 3:\n",
    "        df_ensemble_5_bucket[\"rebap_price_class\"][i] = 0\n",
    "    elif df_ensemble_5_bucket[\"6_rebap_eur_mwh\"][i] <= 20:\n",
    "        df_ensemble_5_bucket[\"rebap_price_class\"][i]= 1\n",
    "    elif df_ensemble_5_bucket[\"6_rebap_eur_mwh\"][i] <= 40:\n",
    "        df_ensemble_5_bucket[\"rebap_price_class\"][i]= 2\n",
    "    elif df_ensemble_5_bucket[\"6_rebap_eur_mwh\"][i] <= 60:\n",
    "        df_ensemble_5_bucket[\"rebap_price_class\"][i]= 3\n",
    "    else:\n",
    "        df_ensemble_5_bucket[\"rebap_price_class\"][i]= 4\n",
    "\n",
    "df_ensemble_5_bucket[\"rebap_price_class\"] = df_ensemble_5_bucket[\"rebap_price_class\"].astype('int')"
   ]
  },
  {
   "cell_type": "code",
   "execution_count": 37,
   "id": "6448ab4b",
   "metadata": {},
   "outputs": [],
   "source": [
    "df_ensemble_5_bucket = df_ensemble_5_bucket.drop(['6_rebap_eur_mwh'], axis= 1)"
   ]
  },
  {
   "cell_type": "code",
   "execution_count": 38,
   "id": "90010dc2",
   "metadata": {},
   "outputs": [],
   "source": [
    "X2 = df_ensemble_5_bucket.drop([\"rebap_price_class\"],axis=1)\n",
    "y2 = df_ensemble_5_bucket[\"rebap_price_class\"]\n",
    "                     \n",
    "hours_shift = 6\n",
    "\n",
    "# Shift the Data to represent the fact that not all Data are available immediately\n",
    "X2 = X2.shift(int(hours_shift*4))\n",
    "y2 = y2[int(hours_shift*4):]\n",
    "X2 = X2.dropna()\n",
    "\n",
    "X_train2, X_test2, y_train2, y_test2 = train_test_split(X2, y2, test_size=0.2, random_state=42)                     \n",
    "\n",
    "# balance out every target class imbalance via SMOTE (ONLY for the Training Data!):\n",
    "\n",
    "oversample = SMOTE()\n",
    "X_train2, y_train2 = oversample.fit_resample(X_train2, y_train2)"
   ]
  },
  {
   "cell_type": "markdown",
   "id": "b5f98d1f",
   "metadata": {},
   "source": [
    "## Modify the train_predict-function from the binary class approach so that it works with non-binary classifications:\n",
    "\n",
    "The function is more or less identical to the previous version, but without F-score validation, which only works for binary classification."
   ]
  },
  {
   "cell_type": "code",
   "execution_count": 39,
   "id": "f1938e2c",
   "metadata": {},
   "outputs": [],
   "source": [
    "from time import time\n",
    "\n",
    "# TODO: Import two metrics from sklearn - fbeta_score and accuracy_score\n",
    "from sklearn.metrics import fbeta_score, accuracy_score\n",
    "\n",
    "# Define a train and evaluation function \n",
    "def train_predict_5_bucket(learner, sample_size, X_train, y_train, X_test, y_test): \n",
    "    '''\n",
    "    inputs:\n",
    "       - learner: the learning algorithm to be trained and predicted on\n",
    "       - sample_size: the size of samples (number) to be drawn from training set\n",
    "       - X_train: features training set\n",
    "       - y_train: income training set\n",
    "       - X_test: features testing set\n",
    "       - y_test: income testing set\n",
    "    '''\n",
    "    \n",
    "    results = {}\n",
    "    \n",
    "    # TODO: Fit the learner to the training data using slicing with 'sample_size'\n",
    "    start = time() # Get start time\n",
    "    learner = learner.fit(X_train[:sample_size], y_train[:sample_size])\n",
    "    end = time() # Get end time\n",
    "    \n",
    "    # TODO: Calculate the training time\n",
    "    results['train_time'] = end - start\n",
    "        \n",
    "    # TODO: Get the predictions on the test set,\n",
    "    #       then get predictions on the first 300 training samples\n",
    "    start = time() # Get start time\n",
    "    predictions_test = learner.predict(X_test)\n",
    "    predictions_train = learner.predict(X_train[:300])\n",
    "    end = time() # Get end time\n",
    "    \n",
    "    # TODO: Calculate the total prediction time\n",
    "    results['pred_time'] = end - start\n",
    "            \n",
    "    # TODO: Compute accuracy on the first 300 training samples\n",
    "    results['acc_train'] = accuracy_score(y_train[:300], predictions_train)\n",
    "        \n",
    "    # TODO: Compute accuracy on test set\n",
    "    results['acc_test'] = accuracy_score(y_test,predictions_test)\n",
    "       \n",
    "    # Success\n",
    "    print (\"{} trained on {} samples.\".format(learner.__class__.__name__, sample_size))\n",
    "        \n",
    "    # Return the results\n",
    "    return results"
   ]
  },
  {
   "cell_type": "code",
   "execution_count": 40,
   "id": "e587c0b5",
   "metadata": {},
   "outputs": [
    {
     "name": "stdout",
     "output_type": "stream",
     "text": [
      "RandomForestClassifier trained on 700 samples.\n",
      "RandomForestClassifier trained on 6996 samples.\n",
      "RandomForestClassifier trained on 69960 samples.\n",
      "DecisionTreeClassifier trained on 700 samples.\n",
      "DecisionTreeClassifier trained on 6996 samples.\n",
      "DecisionTreeClassifier trained on 69960 samples.\n",
      "AdaBoostClassifier trained on 700 samples.\n",
      "AdaBoostClassifier trained on 6996 samples.\n",
      "AdaBoostClassifier trained on 69960 samples.\n"
     ]
    }
   ],
   "source": [
    "# Collect results on the learners\n",
    "results = {}\n",
    "for clf in [clf_A, clf_B, clf_C]:\n",
    "    clf_name = clf.__class__.__name__\n",
    "    results[clf_name] = {}\n",
    "    for i, samples in enumerate([samples_1, samples_10, samples_100]):\n",
    "        results[clf_name][i] = \\\n",
    "        train_predict_5_bucket(clf, samples, X_train2, y_train2, X_test2, y_test2)"
   ]
  },
  {
   "cell_type": "code",
   "execution_count": 41,
   "id": "10f62cce",
   "metadata": {},
   "outputs": [
    {
     "name": "stdout",
     "output_type": "stream",
     "text": [
      "RandomForestClassifier\n"
     ]
    },
    {
     "data": {
      "text/html": [
       "<div>\n",
       "<style scoped>\n",
       "    .dataframe tbody tr th:only-of-type {\n",
       "        vertical-align: middle;\n",
       "    }\n",
       "\n",
       "    .dataframe tbody tr th {\n",
       "        vertical-align: top;\n",
       "    }\n",
       "\n",
       "    .dataframe thead th {\n",
       "        text-align: right;\n",
       "    }\n",
       "</style>\n",
       "<table border=\"1\" class=\"dataframe\">\n",
       "  <thead>\n",
       "    <tr style=\"text-align: right;\">\n",
       "      <th></th>\n",
       "      <th>1%</th>\n",
       "      <th>10%</th>\n",
       "      <th>100%</th>\n",
       "    </tr>\n",
       "  </thead>\n",
       "  <tbody>\n",
       "    <tr>\n",
       "      <th>train_time</th>\n",
       "      <td>0.453200</td>\n",
       "      <td>5.204637</td>\n",
       "      <td>46.964098</td>\n",
       "    </tr>\n",
       "    <tr>\n",
       "      <th>pred_time</th>\n",
       "      <td>0.164662</td>\n",
       "      <td>0.249054</td>\n",
       "      <td>0.443860</td>\n",
       "    </tr>\n",
       "    <tr>\n",
       "      <th>acc_train</th>\n",
       "      <td>1.000000</td>\n",
       "      <td>1.000000</td>\n",
       "      <td>1.000000</td>\n",
       "    </tr>\n",
       "    <tr>\n",
       "      <th>acc_test</th>\n",
       "      <td>0.290368</td>\n",
       "      <td>0.387440</td>\n",
       "      <td>0.540439</td>\n",
       "    </tr>\n",
       "  </tbody>\n",
       "</table>\n",
       "</div>"
      ],
      "text/plain": [
       "                  1%       10%       100%\n",
       "train_time  0.453200  5.204637  46.964098\n",
       "pred_time   0.164662  0.249054   0.443860\n",
       "acc_train   1.000000  1.000000   1.000000\n",
       "acc_test    0.290368  0.387440   0.540439"
      ]
     },
     "metadata": {},
     "output_type": "display_data"
    },
    {
     "name": "stdout",
     "output_type": "stream",
     "text": [
      "DecisionTreeClassifier\n"
     ]
    },
    {
     "data": {
      "text/html": [
       "<div>\n",
       "<style scoped>\n",
       "    .dataframe tbody tr th:only-of-type {\n",
       "        vertical-align: middle;\n",
       "    }\n",
       "\n",
       "    .dataframe tbody tr th {\n",
       "        vertical-align: top;\n",
       "    }\n",
       "\n",
       "    .dataframe thead th {\n",
       "        text-align: right;\n",
       "    }\n",
       "</style>\n",
       "<table border=\"1\" class=\"dataframe\">\n",
       "  <thead>\n",
       "    <tr style=\"text-align: right;\">\n",
       "      <th></th>\n",
       "      <th>1%</th>\n",
       "      <th>10%</th>\n",
       "      <th>100%</th>\n",
       "    </tr>\n",
       "  </thead>\n",
       "  <tbody>\n",
       "    <tr>\n",
       "      <th>train_time</th>\n",
       "      <td>0.050540</td>\n",
       "      <td>0.813788</td>\n",
       "      <td>8.245746</td>\n",
       "    </tr>\n",
       "    <tr>\n",
       "      <th>pred_time</th>\n",
       "      <td>0.007144</td>\n",
       "      <td>0.007905</td>\n",
       "      <td>0.011364</td>\n",
       "    </tr>\n",
       "    <tr>\n",
       "      <th>acc_train</th>\n",
       "      <td>1.000000</td>\n",
       "      <td>1.000000</td>\n",
       "      <td>1.000000</td>\n",
       "    </tr>\n",
       "    <tr>\n",
       "      <th>acc_test</th>\n",
       "      <td>0.244610</td>\n",
       "      <td>0.302796</td>\n",
       "      <td>0.404952</td>\n",
       "    </tr>\n",
       "  </tbody>\n",
       "</table>\n",
       "</div>"
      ],
      "text/plain": [
       "                  1%       10%      100%\n",
       "train_time  0.050540  0.813788  8.245746\n",
       "pred_time   0.007144  0.007905  0.011364\n",
       "acc_train   1.000000  1.000000  1.000000\n",
       "acc_test    0.244610  0.302796  0.404952"
      ]
     },
     "metadata": {},
     "output_type": "display_data"
    },
    {
     "name": "stdout",
     "output_type": "stream",
     "text": [
      "AdaBoostClassifier\n"
     ]
    },
    {
     "data": {
      "text/html": [
       "<div>\n",
       "<style scoped>\n",
       "    .dataframe tbody tr th:only-of-type {\n",
       "        vertical-align: middle;\n",
       "    }\n",
       "\n",
       "    .dataframe tbody tr th {\n",
       "        vertical-align: top;\n",
       "    }\n",
       "\n",
       "    .dataframe thead th {\n",
       "        text-align: right;\n",
       "    }\n",
       "</style>\n",
       "<table border=\"1\" class=\"dataframe\">\n",
       "  <thead>\n",
       "    <tr style=\"text-align: right;\">\n",
       "      <th></th>\n",
       "      <th>1%</th>\n",
       "      <th>10%</th>\n",
       "      <th>100%</th>\n",
       "    </tr>\n",
       "  </thead>\n",
       "  <tbody>\n",
       "    <tr>\n",
       "      <th>train_time</th>\n",
       "      <td>0.418701</td>\n",
       "      <td>3.700897</td>\n",
       "      <td>24.120052</td>\n",
       "    </tr>\n",
       "    <tr>\n",
       "      <th>pred_time</th>\n",
       "      <td>0.164806</td>\n",
       "      <td>0.138380</td>\n",
       "      <td>0.164643</td>\n",
       "    </tr>\n",
       "    <tr>\n",
       "      <th>acc_train</th>\n",
       "      <td>0.460000</td>\n",
       "      <td>0.370000</td>\n",
       "      <td>0.343333</td>\n",
       "    </tr>\n",
       "    <tr>\n",
       "      <th>acc_test</th>\n",
       "      <td>0.266453</td>\n",
       "      <td>0.318991</td>\n",
       "      <td>0.316543</td>\n",
       "    </tr>\n",
       "  </tbody>\n",
       "</table>\n",
       "</div>"
      ],
      "text/plain": [
       "                  1%       10%       100%\n",
       "train_time  0.418701  3.700897  24.120052\n",
       "pred_time   0.164806  0.138380   0.164643\n",
       "acc_train   0.460000  0.370000   0.343333\n",
       "acc_test    0.266453  0.318991   0.316543"
      ]
     },
     "metadata": {},
     "output_type": "display_data"
    }
   ],
   "source": [
    "#Printing out the values\n",
    "for i in results.items():\n",
    "    print (i[0])\n",
    "    display(pd.DataFrame(i[1]).rename(columns={0:'1%', 1:'10%', 2:'100%'}))"
   ]
  },
  {
   "cell_type": "code",
   "execution_count": 42,
   "id": "f9cfeee5",
   "metadata": {},
   "outputs": [
    {
     "data": {
      "image/png": "[encoded data removed]",
      "text/plain": [
       "<Figure size 432x288 with 2 Axes>"
      ]
     },
     "metadata": {
      "needs_background": "light"
     },
     "output_type": "display_data"
    },
    {
     "data": {
      "image/png": "[encoded data removed]",
      "text/plain": [
       "<Figure size 432x288 with 2 Axes>"
      ]
     },
     "metadata": {
      "needs_background": "light"
     },
     "output_type": "display_data"
    },
    {
     "data": {
      "image/png": "[encoded data removed]",
      "text/plain": [
       "<Figure size 432x288 with 2 Axes>"
      ]
     },
     "metadata": {
      "needs_background": "light"
     },
     "output_type": "display_data"
    }
   ],
   "source": [
    "#Visualizing the confusion matrix for each classifier with 5 buckt approach\n",
    "from sklearn.metrics import confusion_matrix, classification_report, roc_curve\n",
    "\n",
    "for i,model in enumerate([clf_A,clf_B, clf_C]):\n",
    "    cm = confusion_matrix(y_test2, model.predict(X_test2))\n",
    "    cm = cm.astype('float') / cm.sum(axis=1)[:, np.newaxis] # normalize the data\n",
    "\n",
    "    # view with a heatmap\n",
    "    plt.figure(i)\n",
    "    sns.heatmap(cm, annot=True, annot_kws={\"size\":12}, \n",
    "            cmap='Blues', square=True, fmt='.3f')\n",
    "    plt.ylabel('True label')\n",
    "    plt.xlabel('Predicted label')\n",
    "    plt.title('Confusion matrix for:\\n{}'.format(model.__class__.__name__));\n",
    "    #plt.savefig(f'Confusion matrix for:{format(model.__class__.__name__)}.png', transparent=True)"
   ]
  }
 ],
 "metadata": {
  "kernelspec": {
   "display_name": "Python 3 (ipykernel)",
   "language": "python",
   "name": "python3"
  },
  "language_info": {
   "codemirror_mode": {
    "name": "ipython",
    "version": 3
   },
   "file_extension": ".py",
   "mimetype": "text/x-python",
   "name": "python",
   "nbconvert_exporter": "python",
   "pygments_lexer": "ipython3",
   "version": "3.8.5"
  }
 },
 "nbformat": 4,
 "nbformat_minor": 5
}
