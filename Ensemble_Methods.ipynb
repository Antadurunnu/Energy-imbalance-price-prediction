{
 "cells": [
  {
   "cell_type": "markdown",
   "id": "3b8eec94",
   "metadata": {},
   "source": [
    "# Ensemble Methods"
   ]
  },
  {
   "cell_type": "code",
   "execution_count": 1,
   "id": "3b0538c4",
   "metadata": {},
   "outputs": [],
   "source": [
    "# Main data packages. \n",
    "import numpy as np\n",
    "import pandas as pd\n",
    "import matplotlib.pyplot as plt\n",
    "import imblearn\n",
    "\n",
    "import datetime\n",
    "\n",
    "import warnings\n",
    "warnings.filterwarnings('ignore')"
   ]
  },
  {
   "cell_type": "markdown",
   "id": "30d39bed",
   "metadata": {},
   "source": [
    "## Data\n",
    "\n",
    "For input data we are concentrating on those data sets which performed well with our PCA approach:\n",
    "\n",
    "1. df_7\n",
    "2. df_10_compact\n",
    "3. df_11_compact\n",
    "4. df_12_compact\n",
    "5. df_13\n",
    "6. df_14\n",
    "\n",
    "Those DataFrames with \"compact\" in their names are based on other Dataframes BUT only contain those features which had at least some correlation with the target value \"rebap_eur_mwh\". This correaltion was identified via Seaborn correlation map."
   ]
  },
  {
   "cell_type": "code",
   "execution_count": 2,
   "id": "9fb112a5",
   "metadata": {},
   "outputs": [],
   "source": [
    "df_7 = pd.read_csv(\"data/PCA Data Sets/EQ_epex_da_last_prognosis_count.csv\")"
   ]
  },
  {
   "cell_type": "code",
   "execution_count": 3,
   "id": "19a47eaa",
   "metadata": {},
   "outputs": [],
   "source": [
    "df_7['timestamp']=df_7['timestamp'].astype('datetime64')"
   ]
  },
  {
   "cell_type": "code",
   "execution_count": 4,
   "id": "f644d1e5",
   "metadata": {},
   "outputs": [],
   "source": [
    "df_10 = pd.read_csv(\"data/PCA Data Sets/es_fc_total_renewables_ts.csv\")"
   ]
  },
  {
   "cell_type": "code",
   "execution_count": 5,
   "id": "d5a38140",
   "metadata": {},
   "outputs": [],
   "source": [
    "df_10['dt_start_utc']=df_10['dt_start_utc'].astype('datetime64')"
   ]
  },
  {
   "cell_type": "code",
   "execution_count": 6,
   "id": "185028bc",
   "metadata": {},
   "outputs": [],
   "source": [
    "df_10_compact = df_10[['dt_start_utc', \"TTG_power_mw\"]].copy()"
   ]
  },
  {
   "cell_type": "code",
   "execution_count": 7,
   "id": "71bb1cd9",
   "metadata": {},
   "outputs": [],
   "source": [
    "df_11 = pd.read_csv(\"data/PCA Data Sets/es_fc_wind_offshore_ts.csv\")"
   ]
  },
  {
   "cell_type": "code",
   "execution_count": 8,
   "id": "ba0b11a8",
   "metadata": {},
   "outputs": [],
   "source": [
    "df_11['dt_start_utc']=df_11['dt_start_utc'].astype('datetime64')"
   ]
  },
  {
   "cell_type": "code",
   "execution_count": 9,
   "id": "00725fb7",
   "metadata": {},
   "outputs": [],
   "source": [
    "df_11_compact = df_11[['dt_start_utc', \"DE_power_mw\", \"TTG_power_mw\"]].copy()"
   ]
  },
  {
   "cell_type": "code",
   "execution_count": 10,
   "id": "3be8aa01",
   "metadata": {},
   "outputs": [],
   "source": [
    "df_12 = pd.read_csv(\"data/PCA Data Sets/es_fc_wind_onshore_ts.csv\")"
   ]
  },
  {
   "cell_type": "code",
   "execution_count": 11,
   "id": "f5772c6d",
   "metadata": {},
   "outputs": [],
   "source": [
    "df_12['dt_start_utc']=df_12['dt_start_utc'].astype('datetime64')"
   ]
  },
  {
   "cell_type": "code",
   "execution_count": 12,
   "id": "0b92f8ce",
   "metadata": {},
   "outputs": [],
   "source": [
    "df_12_compact = df_12[['dt_start_utc', \"50Hertz_power_mw\", \"DE_power_mw\", \"TTG_power_mw\"]].copy()"
   ]
  },
  {
   "cell_type": "code",
   "execution_count": 13,
   "id": "5c10a9a9",
   "metadata": {},
   "outputs": [],
   "source": [
    "df_13 = pd.read_csv(\"data/PCA Data Sets/wind_speed_ts.csv\")"
   ]
  },
  {
   "cell_type": "code",
   "execution_count": 14,
   "id": "c12e9cb0",
   "metadata": {},
   "outputs": [],
   "source": [
    "df_13['dt_start_utc']=df_13['dt_start_utc'].astype('datetime64')"
   ]
  },
  {
   "cell_type": "code",
   "execution_count": 15,
   "id": "75e83272",
   "metadata": {},
   "outputs": [],
   "source": [
    "df_14 = pd.read_csv(\"data/PCA Data Sets/imbalance_de_labeled.csv\")"
   ]
  },
  {
   "cell_type": "code",
   "execution_count": 16,
   "id": "2fdaf97c",
   "metadata": {},
   "outputs": [],
   "source": [
    "df_14['dt_start_utc']=df_14['dt_start_utc'].astype('datetime64')"
   ]
  },
  {
   "cell_type": "code",
   "execution_count": 17,
   "id": "9493412c",
   "metadata": {},
   "outputs": [],
   "source": [
    "df_14 = df_14.drop([\"power_mw\"], axis=1)"
   ]
  },
  {
   "cell_type": "markdown",
   "id": "ccefa00c",
   "metadata": {},
   "source": [
    "## The data sets I choose for combination in a df \"df_ensemble\" can be seen in the next cell:\n",
    "- df_7: EQ_epex_da_last_prognosis_count.csv is a transformed csv (transformed because it was scrubbed from multiple identical timestamp rows, which were transformed into additional columns and then only the most recent prognosis was kept) from epex_da_de data set provided from an energy company, which contanins the epex prognosis of the Rebap price\n",
    "- df_10_compact is a data extract based on the \"es_forecast.csv\" provided by the energy company, but filtered by \"total_renewables\" and containing only the most correlated features of that data subset\n",
    "- df_11_compact is a data extract based on the \"es_forecast.csv\" provided by the energy company, but filtered by \"wind_offshore\" and containing only the most correlated features of that data subset\n",
    "- df_12_compact is a data extract based on the \"es_forecast.csv\" provided by the energy company, but filtered by \"wind_onshore\" and containing only the most correlated features of that data subset\n",
    "- df_13 is a data set based on the \"windspeed_forecast_ts.csv\", created from \"einspeisedaten_gen_wind_speed.csv\"\n",
    "- df_14 is a data set based on the \"imbalance_de.csv\" data set\n",
    "\n",
    "In general: If a csv which was the basis for a data frame contains the suffix \"_ts\", that means time series and is a hint that this data set was processed by one of our functions (align() from apymb.py)."
   ]
  },
  {
   "cell_type": "code",
   "execution_count": 18,
   "id": "f6cfdbef",
   "metadata": {},
   "outputs": [],
   "source": [
    "from apymb import *\n",
    "\n",
    "df_ensemble = align(df_7, df_10_compact, df_11_compact, df_12_compact, df_13, df_14)"
   ]
  },
  {
   "cell_type": "markdown",
   "id": "15137f78",
   "metadata": {},
   "source": [
    "## THIS IS OPTIONAL! It seems to decrease a little bit the accuracy of the Algorithms if Outliers are removed, but needs to be checked once at least before doing this step each time\n",
    "\n",
    "Filter out again those rebap prizes that are not within 3 Standard deviations of the mean:\n",
    "Now we will get rid of those rebap prize outliers outside the +/- 3 Standard Deviation range with the following code line:"
   ]
  },
  {
   "cell_type": "code",
   "execution_count": 19,
   "id": "628ffa2d",
   "metadata": {},
   "outputs": [
    {
     "data": {
      "text/plain": [
       "\"\\nstd_dev = 3*df_ensemble['6_rebap_eur_mwh'].std()\\ndf_ensemble = df_ensemble[np.abs(df_ensemble['6_rebap_eur_mwh'] - df_ensemble['6_rebap_eur_mwh'].mean()) <= std_dev]\\n\""
      ]
     },
     "execution_count": 19,
     "metadata": {},
     "output_type": "execute_result"
    }
   ],
   "source": [
    "\"\"\"\n",
    "std_dev = 3*df_ensemble['6_rebap_eur_mwh'].std()\n",
    "df_ensemble = df_ensemble[np.abs(df_ensemble['6_rebap_eur_mwh'] - df_ensemble['6_rebap_eur_mwh'].mean()) <= std_dev]\n",
    "\"\"\""
   ]
  },
  {
   "cell_type": "markdown",
   "id": "62876103",
   "metadata": {},
   "source": [
    "### Define new classification column named \"rebap_price_class\" in which the rebap price_range is translated to two classes:\n",
    "\n",
    "- Class 0: Rebap prize below 0 €\n",
    "- Class 1: Rebap prize above 0 €"
   ]
  },
  {
   "cell_type": "code",
   "execution_count": 20,
   "id": "456f1b38",
   "metadata": {},
   "outputs": [],
   "source": [
    "df_ensemble[\"rebap_price_class\"] = np.nan\n",
    "for i in range (len(df_ensemble[\"rebap_price_class\"])):\n",
    "    if df_ensemble[\"6_rebap_eur_mwh\"][i] <= 0:\n",
    "        df_ensemble[\"rebap_price_class\"][i] = 0\n",
    "    else:\n",
    "        df_ensemble[\"rebap_price_class\"][i]= 1\n",
    "        \n",
    "df_ensemble[\"rebap_price_class\"] = df_ensemble[\"rebap_price_class\"].astype('int')"
   ]
  },
  {
   "cell_type": "markdown",
   "id": "8e2ed72b",
   "metadata": {},
   "source": [
    "## Eliminate the original target feature \"rebap_eur_mwh\" from the Dataframe (we want to predict the target class in \"rebap_price_class\":"
   ]
  },
  {
   "cell_type": "code",
   "execution_count": 21,
   "id": "7e9c8ce9",
   "metadata": {},
   "outputs": [],
   "source": [
    "df_ensemble = df_ensemble.drop(['6_rebap_eur_mwh'], axis= 1)"
   ]
  },
  {
   "cell_type": "code",
   "execution_count": 22,
   "id": "b593ac1f",
   "metadata": {},
   "outputs": [],
   "source": [
    "df_ensemble.to_csv(\"data/ensemble_df.csv\")"
   ]
  },
  {
   "cell_type": "markdown",
   "id": "caec72c4",
   "metadata": {},
   "source": [
    "## Train-test Split plus Smote for the Training Data Set"
   ]
  },
  {
   "cell_type": "code",
   "execution_count": 23,
   "id": "b66333f1",
   "metadata": {},
   "outputs": [],
   "source": [
    "from sklearn.model_selection import train_test_split\n",
    "X = df_ensemble.drop([\"rebap_price_class\"],axis=1)\n",
    "y = df_ensemble[\"rebap_price_class\"]"
   ]
  },
  {
   "cell_type": "code",
   "execution_count": 24,
   "id": "2a3c4a78",
   "metadata": {},
   "outputs": [
    {
     "data": {
      "text/html": [
       "<div>\n",
       "<style scoped>\n",
       "    .dataframe tbody tr th:only-of-type {\n",
       "        vertical-align: middle;\n",
       "    }\n",
       "\n",
       "    .dataframe tbody tr th {\n",
       "        vertical-align: top;\n",
       "    }\n",
       "\n",
       "    .dataframe thead th {\n",
       "        text-align: right;\n",
       "    }\n",
       "</style>\n",
       "<table border=\"1\" class=\"dataframe\">\n",
       "  <thead>\n",
       "    <tr style=\"text-align: right;\">\n",
       "      <th></th>\n",
       "      <th>1_prognosis</th>\n",
       "      <th>2_TTG_power_mw</th>\n",
       "      <th>3_DE_power_mw</th>\n",
       "      <th>3_TTG_power_mw</th>\n",
       "      <th>4_50Hertz_power_mw</th>\n",
       "      <th>4_DE_power_mw</th>\n",
       "      <th>4_TTG_power_mw</th>\n",
       "      <th>5_area_1_windspeed_ms</th>\n",
       "      <th>5_area_2_windspeed_ms</th>\n",
       "      <th>5_area_4_windspeed_ms</th>\n",
       "      <th>...</th>\n",
       "      <th>5_area_100_windspeed_ms</th>\n",
       "      <th>5_area_101_windspeed_ms</th>\n",
       "      <th>5_area_102_windspeed_ms</th>\n",
       "      <th>5_area_103_windspeed_ms</th>\n",
       "      <th>5_area_104_windspeed_ms</th>\n",
       "      <th>5_area_105_windspeed_ms</th>\n",
       "      <th>5_area_106_windspeed_ms</th>\n",
       "      <th>5_area_107_windspeed_ms</th>\n",
       "      <th>5_area_108_windspeed_ms</th>\n",
       "      <th>5_area_109_windspeed_ms</th>\n",
       "    </tr>\n",
       "  </thead>\n",
       "  <tbody>\n",
       "    <tr>\n",
       "      <th>2018-12-31 23:00:00</th>\n",
       "      <td>30.44</td>\n",
       "      <td>4021.0</td>\n",
       "      <td>5042.0</td>\n",
       "      <td>4021.0</td>\n",
       "      <td>7256.0</td>\n",
       "      <td>18224.0</td>\n",
       "      <td>3117.0</td>\n",
       "      <td>9.523</td>\n",
       "      <td>9.691</td>\n",
       "      <td>14.258</td>\n",
       "      <td>...</td>\n",
       "      <td>14.044</td>\n",
       "      <td>13.405</td>\n",
       "      <td>13.080</td>\n",
       "      <td>15.056</td>\n",
       "      <td>13.411</td>\n",
       "      <td>13.185</td>\n",
       "      <td>13.311</td>\n",
       "      <td>13.716</td>\n",
       "      <td>13.416</td>\n",
       "      <td>13.316</td>\n",
       "    </tr>\n",
       "    <tr>\n",
       "      <th>2018-12-31 23:15:00</th>\n",
       "      <td>30.44</td>\n",
       "      <td>0.0</td>\n",
       "      <td>5061.0</td>\n",
       "      <td>4036.0</td>\n",
       "      <td>7477.0</td>\n",
       "      <td>18652.0</td>\n",
       "      <td>3117.0</td>\n",
       "      <td>9.097</td>\n",
       "      <td>10.031</td>\n",
       "      <td>13.564</td>\n",
       "      <td>...</td>\n",
       "      <td>13.962</td>\n",
       "      <td>13.147</td>\n",
       "      <td>13.404</td>\n",
       "      <td>14.168</td>\n",
       "      <td>13.769</td>\n",
       "      <td>13.415</td>\n",
       "      <td>14.100</td>\n",
       "      <td>13.492</td>\n",
       "      <td>13.470</td>\n",
       "      <td>13.156</td>\n",
       "    </tr>\n",
       "    <tr>\n",
       "      <th>2018-12-31 23:30:00</th>\n",
       "      <td>30.44</td>\n",
       "      <td>4050.0</td>\n",
       "      <td>5079.0</td>\n",
       "      <td>4050.0</td>\n",
       "      <td>7706.0</td>\n",
       "      <td>19095.0</td>\n",
       "      <td>3117.0</td>\n",
       "      <td>8.654</td>\n",
       "      <td>9.491</td>\n",
       "      <td>15.997</td>\n",
       "      <td>...</td>\n",
       "      <td>15.163</td>\n",
       "      <td>14.253</td>\n",
       "      <td>13.640</td>\n",
       "      <td>15.508</td>\n",
       "      <td>13.822</td>\n",
       "      <td>13.415</td>\n",
       "      <td>14.742</td>\n",
       "      <td>14.559</td>\n",
       "      <td>14.171</td>\n",
       "      <td>13.528</td>\n",
       "    </tr>\n",
       "    <tr>\n",
       "      <th>2018-12-31 23:45:00</th>\n",
       "      <td>30.44</td>\n",
       "      <td>0.0</td>\n",
       "      <td>5094.0</td>\n",
       "      <td>4061.0</td>\n",
       "      <td>7928.0</td>\n",
       "      <td>19548.0</td>\n",
       "      <td>3117.0</td>\n",
       "      <td>8.478</td>\n",
       "      <td>9.411</td>\n",
       "      <td>16.436</td>\n",
       "      <td>...</td>\n",
       "      <td>15.826</td>\n",
       "      <td>14.649</td>\n",
       "      <td>13.640</td>\n",
       "      <td>15.806</td>\n",
       "      <td>13.822</td>\n",
       "      <td>14.343</td>\n",
       "      <td>15.156</td>\n",
       "      <td>14.916</td>\n",
       "      <td>14.171</td>\n",
       "      <td>14.125</td>\n",
       "    </tr>\n",
       "    <tr>\n",
       "      <th>2019-01-01 00:00:00</th>\n",
       "      <td>23.56</td>\n",
       "      <td>4076.0</td>\n",
       "      <td>5112.0</td>\n",
       "      <td>4076.0</td>\n",
       "      <td>8142.0</td>\n",
       "      <td>19999.0</td>\n",
       "      <td>3117.0</td>\n",
       "      <td>8.601</td>\n",
       "      <td>9.741</td>\n",
       "      <td>15.792</td>\n",
       "      <td>...</td>\n",
       "      <td>15.249</td>\n",
       "      <td>14.324</td>\n",
       "      <td>13.640</td>\n",
       "      <td>15.747</td>\n",
       "      <td>14.817</td>\n",
       "      <td>14.279</td>\n",
       "      <td>14.204</td>\n",
       "      <td>14.827</td>\n",
       "      <td>14.547</td>\n",
       "      <td>14.207</td>\n",
       "    </tr>\n",
       "  </tbody>\n",
       "</table>\n",
       "<p>5 rows × 115 columns</p>\n",
       "</div>"
      ],
      "text/plain": [
       "                     1_prognosis  2_TTG_power_mw  3_DE_power_mw  \\\n",
       "2018-12-31 23:00:00        30.44          4021.0         5042.0   \n",
       "2018-12-31 23:15:00        30.44             0.0         5061.0   \n",
       "2018-12-31 23:30:00        30.44          4050.0         5079.0   \n",
       "2018-12-31 23:45:00        30.44             0.0         5094.0   \n",
       "2019-01-01 00:00:00        23.56          4076.0         5112.0   \n",
       "\n",
       "                     3_TTG_power_mw  4_50Hertz_power_mw  4_DE_power_mw  \\\n",
       "2018-12-31 23:00:00          4021.0              7256.0        18224.0   \n",
       "2018-12-31 23:15:00          4036.0              7477.0        18652.0   \n",
       "2018-12-31 23:30:00          4050.0              7706.0        19095.0   \n",
       "2018-12-31 23:45:00          4061.0              7928.0        19548.0   \n",
       "2019-01-01 00:00:00          4076.0              8142.0        19999.0   \n",
       "\n",
       "                     4_TTG_power_mw  5_area_1_windspeed_ms  \\\n",
       "2018-12-31 23:00:00          3117.0                  9.523   \n",
       "2018-12-31 23:15:00          3117.0                  9.097   \n",
       "2018-12-31 23:30:00          3117.0                  8.654   \n",
       "2018-12-31 23:45:00          3117.0                  8.478   \n",
       "2019-01-01 00:00:00          3117.0                  8.601   \n",
       "\n",
       "                     5_area_2_windspeed_ms  5_area_4_windspeed_ms  ...  \\\n",
       "2018-12-31 23:00:00                  9.691                 14.258  ...   \n",
       "2018-12-31 23:15:00                 10.031                 13.564  ...   \n",
       "2018-12-31 23:30:00                  9.491                 15.997  ...   \n",
       "2018-12-31 23:45:00                  9.411                 16.436  ...   \n",
       "2019-01-01 00:00:00                  9.741                 15.792  ...   \n",
       "\n",
       "                     5_area_100_windspeed_ms  5_area_101_windspeed_ms  \\\n",
       "2018-12-31 23:00:00                   14.044                   13.405   \n",
       "2018-12-31 23:15:00                   13.962                   13.147   \n",
       "2018-12-31 23:30:00                   15.163                   14.253   \n",
       "2018-12-31 23:45:00                   15.826                   14.649   \n",
       "2019-01-01 00:00:00                   15.249                   14.324   \n",
       "\n",
       "                     5_area_102_windspeed_ms  5_area_103_windspeed_ms  \\\n",
       "2018-12-31 23:00:00                   13.080                   15.056   \n",
       "2018-12-31 23:15:00                   13.404                   14.168   \n",
       "2018-12-31 23:30:00                   13.640                   15.508   \n",
       "2018-12-31 23:45:00                   13.640                   15.806   \n",
       "2019-01-01 00:00:00                   13.640                   15.747   \n",
       "\n",
       "                     5_area_104_windspeed_ms  5_area_105_windspeed_ms  \\\n",
       "2018-12-31 23:00:00                   13.411                   13.185   \n",
       "2018-12-31 23:15:00                   13.769                   13.415   \n",
       "2018-12-31 23:30:00                   13.822                   13.415   \n",
       "2018-12-31 23:45:00                   13.822                   14.343   \n",
       "2019-01-01 00:00:00                   14.817                   14.279   \n",
       "\n",
       "                     5_area_106_windspeed_ms  5_area_107_windspeed_ms  \\\n",
       "2018-12-31 23:00:00                   13.311                   13.716   \n",
       "2018-12-31 23:15:00                   14.100                   13.492   \n",
       "2018-12-31 23:30:00                   14.742                   14.559   \n",
       "2018-12-31 23:45:00                   15.156                   14.916   \n",
       "2019-01-01 00:00:00                   14.204                   14.827   \n",
       "\n",
       "                     5_area_108_windspeed_ms  5_area_109_windspeed_ms  \n",
       "2018-12-31 23:00:00                   13.416                   13.316  \n",
       "2018-12-31 23:15:00                   13.470                   13.156  \n",
       "2018-12-31 23:30:00                   14.171                   13.528  \n",
       "2018-12-31 23:45:00                   14.171                   14.125  \n",
       "2019-01-01 00:00:00                   14.547                   14.207  \n",
       "\n",
       "[5 rows x 115 columns]"
      ]
     },
     "execution_count": 24,
     "metadata": {},
     "output_type": "execute_result"
    }
   ],
   "source": [
    "X.head()"
   ]
  },
  {
   "cell_type": "code",
   "execution_count": 25,
   "id": "b4702791",
   "metadata": {},
   "outputs": [],
   "source": [
    "hours_shift = 6\n",
    "\n",
    "# Shift the Data to represent the fact that not all Data are available immediately\n",
    "X = X.shift(int(hours_shift*4))\n",
    "y = y[int(hours_shift*4):]\n",
    "X = X.dropna()\n",
    "\n",
    "X_train, X_test, y_train, y_test = train_test_split(X, y, test_size=0.2, random_state=42) "
   ]
  },
  {
   "cell_type": "code",
   "execution_count": 26,
   "id": "5b621232",
   "metadata": {},
   "outputs": [],
   "source": [
    "# balance out every target class imbalance via SMOTE (ONLY for the Training Data!):\n",
    "from imblearn.over_sampling import SMOTE\n",
    "\n",
    "oversample = SMOTE()\n",
    "X_train, y_train = oversample.fit_resample(X_train, y_train)"
   ]
  },
  {
   "cell_type": "markdown",
   "id": "ff2c9fdc",
   "metadata": {},
   "source": [
    "## Define a train_predict function (taken from neuefische Notebook No.4 for ensemble Methods) that trains and evaluates different ML Models and returns the most important scores for each Model in a result list:"
   ]
  },
  {
   "cell_type": "code",
   "execution_count": 27,
   "id": "c58c1f6e",
   "metadata": {},
   "outputs": [],
   "source": [
    "from time import time\n",
    "\n",
    "# TODO: Import two metrics from sklearn - fbeta_score and accuracy_score\n",
    "from sklearn.metrics import fbeta_score, accuracy_score\n",
    "\n",
    "# Define a train and evaluation function \n",
    "def train_predict(learner, sample_size, X_train, y_train, X_test, y_test): \n",
    "    '''\n",
    "    inputs:\n",
    "       - learner: the learning algorithm to be trained and predicted on\n",
    "       - sample_size: the size of samples (number) to be drawn from training set\n",
    "       - X_train: features training set\n",
    "       - y_train: income training set\n",
    "       - X_test: features testing set\n",
    "       - y_test: income testing set\n",
    "    '''\n",
    "    \n",
    "    results = {}\n",
    "    \n",
    "    # TODO: Fit the learner to the training data using slicing with 'sample_size'\n",
    "    start = time() # Get start time\n",
    "    learner = learner.fit(X_train[:sample_size], y_train[:sample_size])\n",
    "    end = time() # Get end time\n",
    "    \n",
    "    # TODO: Calculate the training time\n",
    "    results['train_time'] = end - start\n",
    "        \n",
    "    # TODO: Get the predictions on the test set,\n",
    "    #       then get predictions on the first 300 training samples\n",
    "    start = time() # Get start time\n",
    "    predictions_test = learner.predict(X_test)\n",
    "    predictions_train = learner.predict(X_train[:300])\n",
    "    end = time() # Get end time\n",
    "    \n",
    "    # TODO: Calculate the total prediction time\n",
    "    results['pred_time'] = end - start\n",
    "            \n",
    "    # TODO: Compute accuracy on the first 300 training samples\n",
    "    results['acc_train'] = accuracy_score(y_train[:300], predictions_train)\n",
    "        \n",
    "    # TODO: Compute accuracy on test set\n",
    "    results['acc_test'] = accuracy_score(y_test,predictions_test)\n",
    "    \n",
    "    # TODO: Compute F-score on the the first 300 training samples\n",
    "    results['f_train'] = fbeta_score(y_train[:300], predictions_train, beta=0.5)\n",
    "        \n",
    "    # TODO: Compute F-score on the test set\n",
    "    results['f_test'] = fbeta_score(y_test, predictions_test, beta=0.5)\n",
    "       \n",
    "    # Success\n",
    "    print (\"{} trained on {} samples.\".format(learner.__class__.__name__, sample_size))\n",
    "        \n",
    "    # Return the results\n",
    "    return results"
   ]
  },
  {
   "cell_type": "code",
   "execution_count": 28,
   "id": "b9994537",
   "metadata": {},
   "outputs": [
    {
     "name": "stdout",
     "output_type": "stream",
     "text": [
      "RandomForestClassifier trained on 705 samples.\n",
      "RandomForestClassifier trained on 7048 samples.\n",
      "RandomForestClassifier trained on 70484 samples.\n",
      "DecisionTreeClassifier trained on 705 samples.\n",
      "DecisionTreeClassifier trained on 7048 samples.\n",
      "DecisionTreeClassifier trained on 70484 samples.\n",
      "AdaBoostClassifier trained on 705 samples.\n",
      "AdaBoostClassifier trained on 7048 samples.\n",
      "AdaBoostClassifier trained on 70484 samples.\n"
     ]
    }
   ],
   "source": [
    "# TODO: Import the three supervised learning models from sklearn\n",
    "from sklearn.tree import DecisionTreeClassifier\n",
    "from sklearn.ensemble import RandomForestClassifier\n",
    "from sklearn.svm import SVC\n",
    "from sklearn.ensemble import AdaBoostClassifier\n",
    "\n",
    "# TODO: Initialize the three models, the random states are set to 101 so we know how to reproduce the model later\n",
    "clf_A = RandomForestClassifier(random_state=42)\n",
    "clf_B = DecisionTreeClassifier(random_state=42)\n",
    "clf_C = AdaBoostClassifier(random_state=42)\n",
    "\n",
    "# TODO: Calculate the number of samples for 1%, 10%, and 100% of the training data\n",
    "samples_1 = int(round(len(X_train) / 100))\n",
    "samples_10 = int(round(len(X_train) / 10))\n",
    "samples_100 = len(X_train)\n",
    "\n",
    "# Collect results on the learners\n",
    "results = {}\n",
    "for clf in [clf_A, clf_B, clf_C]:\n",
    "    clf_name = clf.__class__.__name__\n",
    "    results[clf_name] = {}\n",
    "    for i, samples in enumerate([samples_1, samples_10, samples_100]):\n",
    "        results[clf_name][i] = \\\n",
    "        train_predict(clf, samples, X_train, y_train, X_test, y_test)"
   ]
  },
  {
   "cell_type": "code",
   "execution_count": 29,
   "id": "4130ace1",
   "metadata": {},
   "outputs": [
    {
     "name": "stdout",
     "output_type": "stream",
     "text": [
      "RandomForestClassifier\n"
     ]
    },
    {
     "data": {
      "text/html": [
       "<div>\n",
       "<style scoped>\n",
       "    .dataframe tbody tr th:only-of-type {\n",
       "        vertical-align: middle;\n",
       "    }\n",
       "\n",
       "    .dataframe tbody tr th {\n",
       "        vertical-align: top;\n",
       "    }\n",
       "\n",
       "    .dataframe thead th {\n",
       "        text-align: right;\n",
       "    }\n",
       "</style>\n",
       "<table border=\"1\" class=\"dataframe\">\n",
       "  <thead>\n",
       "    <tr style=\"text-align: right;\">\n",
       "      <th></th>\n",
       "      <th>1%</th>\n",
       "      <th>10%</th>\n",
       "      <th>100%</th>\n",
       "    </tr>\n",
       "  </thead>\n",
       "  <tbody>\n",
       "    <tr>\n",
       "      <th>train_time</th>\n",
       "      <td>0.339401</td>\n",
       "      <td>4.761239</td>\n",
       "      <td>72.858940</td>\n",
       "    </tr>\n",
       "    <tr>\n",
       "      <th>pred_time</th>\n",
       "      <td>0.098747</td>\n",
       "      <td>0.178984</td>\n",
       "      <td>0.369863</td>\n",
       "    </tr>\n",
       "    <tr>\n",
       "      <th>acc_train</th>\n",
       "      <td>1.000000</td>\n",
       "      <td>1.000000</td>\n",
       "      <td>1.000000</td>\n",
       "    </tr>\n",
       "    <tr>\n",
       "      <th>acc_test</th>\n",
       "      <td>0.814611</td>\n",
       "      <td>0.824314</td>\n",
       "      <td>0.842415</td>\n",
       "    </tr>\n",
       "    <tr>\n",
       "      <th>f_train</th>\n",
       "      <td>1.000000</td>\n",
       "      <td>1.000000</td>\n",
       "      <td>1.000000</td>\n",
       "    </tr>\n",
       "    <tr>\n",
       "      <th>f_test</th>\n",
       "      <td>0.849995</td>\n",
       "      <td>0.856834</td>\n",
       "      <td>0.903974</td>\n",
       "    </tr>\n",
       "  </tbody>\n",
       "</table>\n",
       "</div>"
      ],
      "text/plain": [
       "                  1%       10%       100%\n",
       "train_time  0.339401  4.761239  72.858940\n",
       "pred_time   0.098747  0.178984   0.369863\n",
       "acc_train   1.000000  1.000000   1.000000\n",
       "acc_test    0.814611  0.824314   0.842415\n",
       "f_train     1.000000  1.000000   1.000000\n",
       "f_test      0.849995  0.856834   0.903974"
      ]
     },
     "metadata": {},
     "output_type": "display_data"
    },
    {
     "name": "stdout",
     "output_type": "stream",
     "text": [
      "DecisionTreeClassifier\n"
     ]
    },
    {
     "data": {
      "text/html": [
       "<div>\n",
       "<style scoped>\n",
       "    .dataframe tbody tr th:only-of-type {\n",
       "        vertical-align: middle;\n",
       "    }\n",
       "\n",
       "    .dataframe tbody tr th {\n",
       "        vertical-align: top;\n",
       "    }\n",
       "\n",
       "    .dataframe thead th {\n",
       "        text-align: right;\n",
       "    }\n",
       "</style>\n",
       "<table border=\"1\" class=\"dataframe\">\n",
       "  <thead>\n",
       "    <tr style=\"text-align: right;\">\n",
       "      <th></th>\n",
       "      <th>1%</th>\n",
       "      <th>10%</th>\n",
       "      <th>100%</th>\n",
       "    </tr>\n",
       "  </thead>\n",
       "  <tbody>\n",
       "    <tr>\n",
       "      <th>train_time</th>\n",
       "      <td>0.045305</td>\n",
       "      <td>0.887068</td>\n",
       "      <td>13.370523</td>\n",
       "    </tr>\n",
       "    <tr>\n",
       "      <th>pred_time</th>\n",
       "      <td>0.007762</td>\n",
       "      <td>0.007735</td>\n",
       "      <td>0.009548</td>\n",
       "    </tr>\n",
       "    <tr>\n",
       "      <th>acc_train</th>\n",
       "      <td>1.000000</td>\n",
       "      <td>1.000000</td>\n",
       "      <td>1.000000</td>\n",
       "    </tr>\n",
       "    <tr>\n",
       "      <th>acc_test</th>\n",
       "      <td>0.708901</td>\n",
       "      <td>0.728308</td>\n",
       "      <td>0.753126</td>\n",
       "    </tr>\n",
       "    <tr>\n",
       "      <th>f_train</th>\n",
       "      <td>1.000000</td>\n",
       "      <td>1.000000</td>\n",
       "      <td>1.000000</td>\n",
       "    </tr>\n",
       "    <tr>\n",
       "      <th>f_test</th>\n",
       "      <td>0.829076</td>\n",
       "      <td>0.836056</td>\n",
       "      <td>0.866122</td>\n",
       "    </tr>\n",
       "  </tbody>\n",
       "</table>\n",
       "</div>"
      ],
      "text/plain": [
       "                  1%       10%       100%\n",
       "train_time  0.045305  0.887068  13.370523\n",
       "pred_time   0.007762  0.007735   0.009548\n",
       "acc_train   1.000000  1.000000   1.000000\n",
       "acc_test    0.708901  0.728308   0.753126\n",
       "f_train     1.000000  1.000000   1.000000\n",
       "f_test      0.829076  0.836056   0.866122"
      ]
     },
     "metadata": {},
     "output_type": "display_data"
    },
    {
     "name": "stdout",
     "output_type": "stream",
     "text": [
      "AdaBoostClassifier\n"
     ]
    },
    {
     "data": {
      "text/html": [
       "<div>\n",
       "<style scoped>\n",
       "    .dataframe tbody tr th:only-of-type {\n",
       "        vertical-align: middle;\n",
       "    }\n",
       "\n",
       "    .dataframe tbody tr th {\n",
       "        vertical-align: top;\n",
       "    }\n",
       "\n",
       "    .dataframe thead th {\n",
       "        text-align: right;\n",
       "    }\n",
       "</style>\n",
       "<table border=\"1\" class=\"dataframe\">\n",
       "  <thead>\n",
       "    <tr style=\"text-align: right;\">\n",
       "      <th></th>\n",
       "      <th>1%</th>\n",
       "      <th>10%</th>\n",
       "      <th>100%</th>\n",
       "    </tr>\n",
       "  </thead>\n",
       "  <tbody>\n",
       "    <tr>\n",
       "      <th>train_time</th>\n",
       "      <td>0.379602</td>\n",
       "      <td>3.719645</td>\n",
       "      <td>41.534806</td>\n",
       "    </tr>\n",
       "    <tr>\n",
       "      <th>pred_time</th>\n",
       "      <td>0.159046</td>\n",
       "      <td>0.140154</td>\n",
       "      <td>0.159519</td>\n",
       "    </tr>\n",
       "    <tr>\n",
       "      <th>acc_train</th>\n",
       "      <td>0.880000</td>\n",
       "      <td>0.793333</td>\n",
       "      <td>0.650000</td>\n",
       "    </tr>\n",
       "    <tr>\n",
       "      <th>acc_test</th>\n",
       "      <td>0.780463</td>\n",
       "      <td>0.810506</td>\n",
       "      <td>0.650961</td>\n",
       "    </tr>\n",
       "    <tr>\n",
       "      <th>f_train</th>\n",
       "      <td>0.900309</td>\n",
       "      <td>0.830976</td>\n",
       "      <td>0.824295</td>\n",
       "    </tr>\n",
       "    <tr>\n",
       "      <th>f_test</th>\n",
       "      <td>0.848261</td>\n",
       "      <td>0.847688</td>\n",
       "      <td>0.830294</td>\n",
       "    </tr>\n",
       "  </tbody>\n",
       "</table>\n",
       "</div>"
      ],
      "text/plain": [
       "                  1%       10%       100%\n",
       "train_time  0.379602  3.719645  41.534806\n",
       "pred_time   0.159046  0.140154   0.159519\n",
       "acc_train   0.880000  0.793333   0.650000\n",
       "acc_test    0.780463  0.810506   0.650961\n",
       "f_train     0.900309  0.830976   0.824295\n",
       "f_test      0.848261  0.847688   0.830294"
      ]
     },
     "metadata": {},
     "output_type": "display_data"
    }
   ],
   "source": [
    "#Printing out the values\n",
    "for i in results.items():\n",
    "    print (i[0])\n",
    "    display(pd.DataFrame(i[1]).rename(columns={0:'1%', 1:'10%', 2:'100%'}))"
   ]
  },
  {
   "cell_type": "code",
   "execution_count": 30,
   "id": "9e83a92d",
   "metadata": {},
   "outputs": [
    {
     "data": {
      "image/png": "[encoded data removed]",
      "text/plain": [
       "<Figure size 432x288 with 2 Axes>"
      ]
     },
     "metadata": {
      "needs_background": "light"
     },
     "output_type": "display_data"
    },
    {
     "data": {
      "image/png": "[encoded data removed]",
      "text/plain": [
       "<Figure size 432x288 with 2 Axes>"
      ]
     },
     "metadata": {
      "needs_background": "light"
     },
     "output_type": "display_data"
    },
    {
     "data": {
      "image/png": "[encoded data removed]",
      "text/plain": [
       "<Figure size 432x288 with 2 Axes>"
      ]
     },
     "metadata": {
      "needs_background": "light"
     },
     "output_type": "display_data"
    }
   ],
   "source": [
    "#Visualizing the confusion matrix for each classifier\n",
    "from sklearn.metrics import confusion_matrix, classification_report, roc_curve\n",
    "import seaborn as sns\n",
    "\n",
    "for i,model in enumerate([clf_A,clf_B, clf_C]):\n",
    "    cm = confusion_matrix(y_test, model.predict(X_test))\n",
    "    cm = cm.astype('float') / cm.sum(axis=1)[:, np.newaxis] # normalize the data\n",
    "\n",
    "    # view with a heatmap\n",
    "    plt.figure(i)\n",
    "    sns.heatmap(cm, annot=True, annot_kws={\"size\":30}, \n",
    "            cmap='Blues', square=True, fmt='.3f')\n",
    "    plt.ylabel('True label')\n",
    "    plt.xlabel('Predicted label')\n",
    "    #plt.title('Confusion matrix for:\\n{}'.format(model.__class__.__name__));\n",
    "    #plt.savefig(f'Confusion matrix for:{format(model.__class__.__name__)}.png', transparent=True)"
   ]
  },
  {
   "cell_type": "markdown",
   "id": "dab58445",
   "metadata": {},
   "source": [
    "# Try 5-Bucket classification with the Ensemble Methods\n",
    "Let us now test how well our 3 Ensemble Methods work for a 5-Bucket approach of the target feature:\n",
    "- class 0: Rebap price < ca. 20% Percentile\n",
    "- class 1: Rebap price < ca. 40% Percentile\n",
    "- class 2: Rebap price < ca. 60% Percentile\n",
    "- class 3: Rebap price < ca. 80% Percentile\n",
    "- class 4: Rebap price < ca. 100% Percentile\n",
    "\n",
    "We do not take the precise values for the different percentiles, just an approximation (with the exception of class 0, which will be determined as \"every Rebap price <= 0€\"."
   ]
  },
  {
   "cell_type": "code",
   "execution_count": 31,
   "id": "6e0c2632",
   "metadata": {},
   "outputs": [],
   "source": [
    "# We first have to define our dataframe:\n",
    "\n",
    "df_ensemble_5_bucket = align(df_7, df_10_compact, df_11_compact, df_12_compact, df_13, df_14)"
   ]
  },
  {
   "cell_type": "markdown",
   "id": "0ae680ef",
   "metadata": {},
   "source": [
    "## THIS IS OPTIONAL! It seems to decrease a little bit the accuracy of the Algorithms if Outliers are removed, but needs to be checked once at least before doing this step each time\n",
    "\n",
    "Filter out again those rebap prizes that are not within 3 Standard deviations of the mean:\n",
    "Now we will get rid of those rebap prize outliers outside the +/- 3 Standard Deviation range with the following code line:"
   ]
  },
  {
   "cell_type": "code",
   "execution_count": 32,
   "id": "1947b85e",
   "metadata": {},
   "outputs": [
    {
     "data": {
      "text/plain": [
       "\"\\nstd_dev = 3*df_ensemble_5_bucket['6_rebap_eur_mwh'].std()\\ndf_ensemble_5_bucket = df_ensemble_5_bucket[np.abs(df_ensemble_5_bucket['6_rebap_eur_mwh'] - df_ensemble_5_bucket['6_rebap_eur_mwh'].mean()) <= std_dev]\\n\""
      ]
     },
     "execution_count": 32,
     "metadata": {},
     "output_type": "execute_result"
    }
   ],
   "source": [
    "\"\"\"\n",
    "std_dev = 3*df_ensemble_5_bucket['6_rebap_eur_mwh'].std()\n",
    "df_ensemble_5_bucket = df_ensemble_5_bucket[np.abs(df_ensemble_5_bucket['6_rebap_eur_mwh'] - df_ensemble_5_bucket['6_rebap_eur_mwh'].mean()) <= std_dev]\n",
    "\"\"\""
   ]
  },
  {
   "cell_type": "markdown",
   "id": "f01268d3",
   "metadata": {},
   "source": [
    "## Calculate the percentile values for 20%, 40%, 60%, 80%, 100%:"
   ]
  },
  {
   "cell_type": "code",
   "execution_count": 33,
   "id": "0cd5bd48",
   "metadata": {},
   "outputs": [
    {
     "name": "stdout",
     "output_type": "stream",
     "text": [
      "2.85 22.98600000000002 45.31 62.39 3334.27\n"
     ]
    }
   ],
   "source": [
    "rebap_20_percentile = df_ensemble_5_bucket[\"6_rebap_eur_mwh\"].quantile(0.2)\n",
    "rebap_40_percentile = df_ensemble_5_bucket[\"6_rebap_eur_mwh\"].quantile(0.4)\n",
    "rebap_60_percentile = df_ensemble_5_bucket[\"6_rebap_eur_mwh\"].quantile(0.6)\n",
    "rebap_80_percentile = df_ensemble_5_bucket[\"6_rebap_eur_mwh\"].quantile(0.8)\n",
    "rebap_100_percentile = df_ensemble_5_bucket[\"6_rebap_eur_mwh\"].quantile(1)\n",
    "\n",
    "print(rebap_20_percentile, rebap_40_percentile, rebap_60_percentile, rebap_80_percentile, rebap_100_percentile)"
   ]
  },
  {
   "cell_type": "markdown",
   "id": "167ef5a5",
   "metadata": {},
   "source": [
    "Create the new target column \"rebap_price_class\" based on the roughly rounded 20,40,60,80 and 100% percentiles: "
   ]
  },
  {
   "cell_type": "code",
   "execution_count": 34,
   "id": "8c63641e",
   "metadata": {},
   "outputs": [
    {
     "data": {
      "text/plain": [
       "'\\ndf_ensemble_5_bucket[\"rebap_price_class\"] = np.nan\\nfor i in range (len(df_ensemble_5_bucket[\"rebap_price_class\"])):\\n    if df_ensemble_5_bucket[\"6_rebap_eur_mwh\"][i] < -75:\\n        df_ensemble_5_bucket[\"rebap_price_class\"][i] = 0\\n    elif -75 <= df_ensemble_5_bucket[\"6_rebap_eur_mwh\"][i] < -25:\\n        df_ensemble_5_bucket[\"rebap_price_class\"][i]= 1\\n    elif -25 <= df_ensemble_5_bucket[\"6_rebap_eur_mwh\"][i] < 25:\\n        df_ensemble_5_bucket[\"rebap_price_class\"][i]= 2\\n    elif 25 <= df_ensemble_5_bucket[\"6_rebap_eur_mwh\"][i] < 75:\\n        df_ensemble_5_bucket[\"rebap_price_class\"][i]= 3\\n    else:\\n        df_ensemble_5_bucket[\"rebap_price_class\"][i]= 4\\n\\ndf_ensemble_5_bucket[\"rebap_price_class\"] = df_ensemble_5_bucket[\"rebap_price_class\"].astype(\\'int\\')\\n'"
      ]
     },
     "execution_count": 34,
     "metadata": {},
     "output_type": "execute_result"
    }
   ],
   "source": [
    "\"\"\"\n",
    "df_ensemble_5_bucket[\"rebap_price_class\"] = np.nan\n",
    "for i in range (len(df_ensemble_5_bucket[\"rebap_price_class\"])):\n",
    "    if df_ensemble_5_bucket[\"6_rebap_eur_mwh\"][i] < -75:\n",
    "        df_ensemble_5_bucket[\"rebap_price_class\"][i] = 0\n",
    "    elif -75 <= df_ensemble_5_bucket[\"6_rebap_eur_mwh\"][i] < -25:\n",
    "        df_ensemble_5_bucket[\"rebap_price_class\"][i]= 1\n",
    "    elif -25 <= df_ensemble_5_bucket[\"6_rebap_eur_mwh\"][i] < 25:\n",
    "        df_ensemble_5_bucket[\"rebap_price_class\"][i]= 2\n",
    "    elif 25 <= df_ensemble_5_bucket[\"6_rebap_eur_mwh\"][i] < 75:\n",
    "        df_ensemble_5_bucket[\"rebap_price_class\"][i]= 3\n",
    "    else:\n",
    "        df_ensemble_5_bucket[\"rebap_price_class\"][i]= 4\n",
    "\n",
    "df_ensemble_5_bucket[\"rebap_price_class\"] = df_ensemble_5_bucket[\"rebap_price_class\"].astype('int')\n",
    "\"\"\""
   ]
  },
  {
   "cell_type": "markdown",
   "id": "c6c6ee9e",
   "metadata": {},
   "source": [
    "## Close to 20,40,60,80,100 Percentile bucket classification approach(try it out!):"
   ]
  },
  {
   "cell_type": "code",
   "execution_count": 35,
   "id": "52ba568b",
   "metadata": {},
   "outputs": [],
   "source": [
    "df_ensemble_5_bucket[\"rebap_price_class\"] = np.nan\n",
    "for i in range (len(df_ensemble_5_bucket[\"rebap_price_class\"])):\n",
    "    if df_ensemble_5_bucket[\"6_rebap_eur_mwh\"][i] <= 0:\n",
    "        df_ensemble_5_bucket[\"rebap_price_class\"][i] = 0\n",
    "    elif df_ensemble_5_bucket[\"6_rebap_eur_mwh\"][i] <= 20:\n",
    "        df_ensemble_5_bucket[\"rebap_price_class\"][i]= 1\n",
    "    elif df_ensemble_5_bucket[\"6_rebap_eur_mwh\"][i] <= 40:\n",
    "        df_ensemble_5_bucket[\"rebap_price_class\"][i]= 2\n",
    "    elif df_ensemble_5_bucket[\"6_rebap_eur_mwh\"][i] <= 60:\n",
    "        df_ensemble_5_bucket[\"rebap_price_class\"][i]= 3\n",
    "    else:\n",
    "        df_ensemble_5_bucket[\"rebap_price_class\"][i]= 4\n",
    "\n",
    "df_ensemble_5_bucket[\"rebap_price_class\"] = df_ensemble_5_bucket[\"rebap_price_class\"].astype('int')"
   ]
  },
  {
   "cell_type": "code",
   "execution_count": 36,
   "id": "e8e1960e",
   "metadata": {},
   "outputs": [],
   "source": [
    "df_ensemble_5_bucket = df_ensemble_5_bucket.drop(['6_rebap_eur_mwh'], axis= 1)"
   ]
  },
  {
   "cell_type": "code",
   "execution_count": 37,
   "id": "2eb084b2",
   "metadata": {},
   "outputs": [
    {
     "data": {
      "text/plain": [
       "2018-12-31 23:00:00    0\n",
       "2018-12-31 23:15:00    0\n",
       "2018-12-31 23:30:00    1\n",
       "2018-12-31 23:45:00    2\n",
       "2019-01-01 00:00:00    0\n",
       "Freq: 15T, Name: rebap_price_class, dtype: int64"
      ]
     },
     "execution_count": 37,
     "metadata": {},
     "output_type": "execute_result"
    }
   ],
   "source": [
    "X2 = df_ensemble_5_bucket.drop([\"rebap_price_class\"],axis=1)\n",
    "y2 = df_ensemble_5_bucket[\"rebap_price_class\"]\n",
    "\n",
    "y2.head()"
   ]
  },
  {
   "cell_type": "code",
   "execution_count": 38,
   "id": "9758d863",
   "metadata": {},
   "outputs": [
    {
     "data": {
      "image/png": "[encoded data removed]",
      "text/plain": [
       "<Figure size 432x288 with 1 Axes>"
      ]
     },
     "metadata": {
      "needs_background": "light"
     },
     "output_type": "display_data"
    }
   ],
   "source": [
    "# print(X2.head())\n",
    "hours_shift = 6\n",
    "\n",
    "# Shift the Data to represent the fact that not all Data are available immediately\n",
    "X2 = X2.shift(int(hours_shift*4))\n",
    "y2 = y2[int(hours_shift*4):]\n",
    "X2 = X2.dropna()\n",
    "\n",
    "X_train2, X_test2, y_train2, y_test2 = train_test_split(X2, y2, test_size=0.2, random_state=42)                     \n",
    "\n",
    "# balance out every target class imbalance via SMOTE (ONLY for the Training Data!):\n",
    "\n",
    "oversample = SMOTE()\n",
    "X_train2, y_train2 = oversample.fit_resample(X_train2, y_train2)\n",
    "\n",
    "# Class Inbalance as a Graph\n",
    "plt.rcParams.update({'font.size':14})\n",
    "plt.xlabel('Below 0€: 0, above 0€: 1')\n",
    "plt.ylabel('Frequency')\n",
    "plt.title('Amount of Rebap Price class labels on train_data after SMOTE:')\n",
    "fig = y_train2.plot.hist(bins=12, alpha=0.5)"
   ]
  },
  {
   "cell_type": "markdown",
   "id": "5df91caa",
   "metadata": {},
   "source": [
    "## Modify the train_predict-function from the binary class approach so that it works with non-binary classifications:\n",
    "\n",
    "The function is more or less identical to the previous version, but without F-score validation, which only works for binary classification."
   ]
  },
  {
   "cell_type": "code",
   "execution_count": 39,
   "id": "136397d8",
   "metadata": {},
   "outputs": [],
   "source": [
    "from time import time\n",
    "\n",
    "# TODO: Import two metrics from sklearn - fbeta_score and accuracy_score\n",
    "from sklearn.metrics import fbeta_score, accuracy_score\n",
    "\n",
    "# Define a train and evaluation function \n",
    "def train_predict_5_bucket(learner, sample_size, X_train, y_train, X_test, y_test): \n",
    "    '''\n",
    "    inputs:\n",
    "       - learner: the learning algorithm to be trained and predicted on\n",
    "       - sample_size: the size of samples (number) to be drawn from training set\n",
    "       - X_train: features training set\n",
    "       - y_train: income training set\n",
    "       - X_test: features testing set\n",
    "       - y_test: income testing set\n",
    "    '''\n",
    "    \n",
    "    results = {}\n",
    "    \n",
    "    # TODO: Fit the learner to the training data using slicing with 'sample_size'\n",
    "    start = time() # Get start time\n",
    "    learner = learner.fit(X_train[:sample_size], y_train[:sample_size])\n",
    "    end = time() # Get end time\n",
    "    \n",
    "    # TODO: Calculate the training time\n",
    "    results['train_time'] = end - start\n",
    "        \n",
    "    # TODO: Get the predictions on the test set,\n",
    "    #       then get predictions on the first 300 training samples\n",
    "    start = time() # Get start time\n",
    "    predictions_test = learner.predict(X_test)\n",
    "    predictions_train = learner.predict(X_train[:300])\n",
    "    end = time() # Get end time\n",
    "    \n",
    "    # TODO: Calculate the total prediction time\n",
    "    results['pred_time'] = end - start\n",
    "            \n",
    "    # TODO: Compute accuracy on the first 300 training samples\n",
    "    results['acc_train'] = accuracy_score(y_train[:300], predictions_train)\n",
    "        \n",
    "    # TODO: Compute accuracy on test set\n",
    "    results['acc_test'] = accuracy_score(y_test,predictions_test)\n",
    "       \n",
    "    # Success\n",
    "    print (\"{} trained on {} samples.\".format(learner.__class__.__name__, sample_size))\n",
    "        \n",
    "    # Return the results\n",
    "    return results"
   ]
  },
  {
   "cell_type": "code",
   "execution_count": 40,
   "id": "05950b4b",
   "metadata": {},
   "outputs": [
    {
     "name": "stdout",
     "output_type": "stream",
     "text": [
      "RandomForestClassifier trained on 705 samples.\n",
      "RandomForestClassifier trained on 7048 samples.\n",
      "RandomForestClassifier trained on 70484 samples.\n",
      "DecisionTreeClassifier trained on 705 samples.\n",
      "DecisionTreeClassifier trained on 7048 samples.\n",
      "DecisionTreeClassifier trained on 70484 samples.\n",
      "AdaBoostClassifier trained on 705 samples.\n",
      "AdaBoostClassifier trained on 7048 samples.\n",
      "AdaBoostClassifier trained on 70484 samples.\n"
     ]
    }
   ],
   "source": [
    "# Collect results on the learners\n",
    "results = {}\n",
    "for clf in [clf_A, clf_B, clf_C]:\n",
    "    clf_name = clf.__class__.__name__\n",
    "    results[clf_name] = {}\n",
    "    for i, samples in enumerate([samples_1, samples_10, samples_100]):\n",
    "        results[clf_name][i] = \\\n",
    "        train_predict_5_bucket(clf, samples, X_train2, y_train2, X_test2, y_test2)"
   ]
  },
  {
   "cell_type": "code",
   "execution_count": 41,
   "id": "e85c14a7",
   "metadata": {},
   "outputs": [
    {
     "name": "stdout",
     "output_type": "stream",
     "text": [
      "RandomForestClassifier\n"
     ]
    },
    {
     "data": {
      "text/html": [
       "<div>\n",
       "<style scoped>\n",
       "    .dataframe tbody tr th:only-of-type {\n",
       "        vertical-align: middle;\n",
       "    }\n",
       "\n",
       "    .dataframe tbody tr th {\n",
       "        vertical-align: top;\n",
       "    }\n",
       "\n",
       "    .dataframe thead th {\n",
       "        text-align: right;\n",
       "    }\n",
       "</style>\n",
       "<table border=\"1\" class=\"dataframe\">\n",
       "  <thead>\n",
       "    <tr style=\"text-align: right;\">\n",
       "      <th></th>\n",
       "      <th>1%</th>\n",
       "      <th>10%</th>\n",
       "      <th>100%</th>\n",
       "    </tr>\n",
       "  </thead>\n",
       "  <tbody>\n",
       "    <tr>\n",
       "      <th>train_time</th>\n",
       "      <td>0.463579</td>\n",
       "      <td>5.486870</td>\n",
       "      <td>49.036350</td>\n",
       "    </tr>\n",
       "    <tr>\n",
       "      <th>pred_time</th>\n",
       "      <td>0.165497</td>\n",
       "      <td>0.271752</td>\n",
       "      <td>0.446542</td>\n",
       "    </tr>\n",
       "    <tr>\n",
       "      <th>acc_train</th>\n",
       "      <td>1.000000</td>\n",
       "      <td>1.000000</td>\n",
       "      <td>1.000000</td>\n",
       "    </tr>\n",
       "    <tr>\n",
       "      <th>acc_test</th>\n",
       "      <td>0.286341</td>\n",
       "      <td>0.393730</td>\n",
       "      <td>0.542265</td>\n",
       "    </tr>\n",
       "  </tbody>\n",
       "</table>\n",
       "</div>"
      ],
      "text/plain": [
       "                  1%       10%       100%\n",
       "train_time  0.463579  5.486870  49.036350\n",
       "pred_time   0.165497  0.271752   0.446542\n",
       "acc_train   1.000000  1.000000   1.000000\n",
       "acc_test    0.286341  0.393730   0.542265"
      ]
     },
     "metadata": {},
     "output_type": "display_data"
    },
    {
     "name": "stdout",
     "output_type": "stream",
     "text": [
      "DecisionTreeClassifier\n"
     ]
    },
    {
     "data": {
      "text/html": [
       "<div>\n",
       "<style scoped>\n",
       "    .dataframe tbody tr th:only-of-type {\n",
       "        vertical-align: middle;\n",
       "    }\n",
       "\n",
       "    .dataframe tbody tr th {\n",
       "        vertical-align: top;\n",
       "    }\n",
       "\n",
       "    .dataframe thead th {\n",
       "        text-align: right;\n",
       "    }\n",
       "</style>\n",
       "<table border=\"1\" class=\"dataframe\">\n",
       "  <thead>\n",
       "    <tr style=\"text-align: right;\">\n",
       "      <th></th>\n",
       "      <th>1%</th>\n",
       "      <th>10%</th>\n",
       "      <th>100%</th>\n",
       "    </tr>\n",
       "  </thead>\n",
       "  <tbody>\n",
       "    <tr>\n",
       "      <th>train_time</th>\n",
       "      <td>0.061157</td>\n",
       "      <td>0.876999</td>\n",
       "      <td>8.173551</td>\n",
       "    </tr>\n",
       "    <tr>\n",
       "      <th>pred_time</th>\n",
       "      <td>0.007576</td>\n",
       "      <td>0.008430</td>\n",
       "      <td>0.010747</td>\n",
       "    </tr>\n",
       "    <tr>\n",
       "      <th>acc_train</th>\n",
       "      <td>1.000000</td>\n",
       "      <td>1.000000</td>\n",
       "      <td>1.000000</td>\n",
       "    </tr>\n",
       "    <tr>\n",
       "      <th>acc_test</th>\n",
       "      <td>0.238571</td>\n",
       "      <td>0.308733</td>\n",
       "      <td>0.405859</td>\n",
       "    </tr>\n",
       "  </tbody>\n",
       "</table>\n",
       "</div>"
      ],
      "text/plain": [
       "                  1%       10%      100%\n",
       "train_time  0.061157  0.876999  8.173551\n",
       "pred_time   0.007576  0.008430  0.010747\n",
       "acc_train   1.000000  1.000000  1.000000\n",
       "acc_test    0.238571  0.308733  0.405859"
      ]
     },
     "metadata": {},
     "output_type": "display_data"
    },
    {
     "name": "stdout",
     "output_type": "stream",
     "text": [
      "AdaBoostClassifier\n"
     ]
    },
    {
     "data": {
      "text/html": [
       "<div>\n",
       "<style scoped>\n",
       "    .dataframe tbody tr th:only-of-type {\n",
       "        vertical-align: middle;\n",
       "    }\n",
       "\n",
       "    .dataframe tbody tr th {\n",
       "        vertical-align: top;\n",
       "    }\n",
       "\n",
       "    .dataframe thead th {\n",
       "        text-align: right;\n",
       "    }\n",
       "</style>\n",
       "<table border=\"1\" class=\"dataframe\">\n",
       "  <thead>\n",
       "    <tr style=\"text-align: right;\">\n",
       "      <th></th>\n",
       "      <th>1%</th>\n",
       "      <th>10%</th>\n",
       "      <th>100%</th>\n",
       "    </tr>\n",
       "  </thead>\n",
       "  <tbody>\n",
       "    <tr>\n",
       "      <th>train_time</th>\n",
       "      <td>0.412000</td>\n",
       "      <td>3.720385</td>\n",
       "      <td>24.767990</td>\n",
       "    </tr>\n",
       "    <tr>\n",
       "      <th>pred_time</th>\n",
       "      <td>0.158620</td>\n",
       "      <td>0.150914</td>\n",
       "      <td>0.163231</td>\n",
       "    </tr>\n",
       "    <tr>\n",
       "      <th>acc_train</th>\n",
       "      <td>0.523333</td>\n",
       "      <td>0.333333</td>\n",
       "      <td>0.340000</td>\n",
       "    </tr>\n",
       "    <tr>\n",
       "      <th>acc_test</th>\n",
       "      <td>0.268987</td>\n",
       "      <td>0.321235</td>\n",
       "      <td>0.319742</td>\n",
       "    </tr>\n",
       "  </tbody>\n",
       "</table>\n",
       "</div>"
      ],
      "text/plain": [
       "                  1%       10%       100%\n",
       "train_time  0.412000  3.720385  24.767990\n",
       "pred_time   0.158620  0.150914   0.163231\n",
       "acc_train   0.523333  0.333333   0.340000\n",
       "acc_test    0.268987  0.321235   0.319742"
      ]
     },
     "metadata": {},
     "output_type": "display_data"
    }
   ],
   "source": [
    "#Printing out the values\n",
    "for i in results.items():\n",
    "    print (i[0])\n",
    "    display(pd.DataFrame(i[1]).rename(columns={0:'1%', 1:'10%', 2:'100%'}))"
   ]
  },
  {
   "cell_type": "code",
   "execution_count": 42,
   "id": "f28c71db",
   "metadata": {},
   "outputs": [
    {
     "data": {
      "image/png": "[encoded data removed]",
      "text/plain": [
       "<Figure size 432x288 with 2 Axes>"
      ]
     },
     "metadata": {
      "needs_background": "light"
     },
     "output_type": "display_data"
    },
    {
     "data": {
      "image/png": "[encoded data removed]",
      "text/plain": [
       "<Figure size 432x288 with 2 Axes>"
      ]
     },
     "metadata": {
      "needs_background": "light"
     },
     "output_type": "display_data"
    },
    {
     "data": {
      "image/png": "[encoded data removed]",
      "text/plain": [
       "<Figure size 432x288 with 2 Axes>"
      ]
     },
     "metadata": {
      "needs_background": "light"
     },
     "output_type": "display_data"
    }
   ],
   "source": [
    "#Visualizing the confusion matrix for each classifier with 5 buckt approach\n",
    "from sklearn.metrics import confusion_matrix, classification_report, roc_curve\n",
    "\n",
    "for i,model in enumerate([clf_A,clf_B, clf_C]):\n",
    "    cm = confusion_matrix(y_test2, model.predict(X_test2))\n",
    "    cm = cm.astype('float') / cm.sum(axis=1)[:, np.newaxis] # normalize the data\n",
    "\n",
    "    # view with a heatmap\n",
    "    plt.figure(i)\n",
    "    sns.heatmap(cm, annot=True, annot_kws={\"size\":12}, \n",
    "            cmap='Blues', square=True, fmt='.3f')\n",
    "    plt.ylabel('True label')\n",
    "    plt.xlabel('Predicted label')\n",
    "    # plt.title('Confusion matrix for:\\n{}'.format(model.__class__.__name__));\n",
    "    #plt.savefig(f'Confusion matrix for:{format(model.__class__.__name__)}.png', transparent=True)"
   ]
  },
  {
   "cell_type": "code",
   "execution_count": null,
   "id": "87da2d96",
   "metadata": {},
   "outputs": [],
   "source": []
  }
 ],
 "metadata": {
  "kernelspec": {
   "display_name": "Python 3 (ipykernel)",
   "language": "python",
   "name": "python3"
  },
  "language_info": {
   "codemirror_mode": {
    "name": "ipython",
    "version": 3
   },
   "file_extension": ".py",
   "mimetype": "text/x-python",
   "name": "python",
   "nbconvert_exporter": "python",
   "pygments_lexer": "ipython3",
   "version": "3.8.5"
  }
 },
 "nbformat": 4,
 "nbformat_minor": 5
}
